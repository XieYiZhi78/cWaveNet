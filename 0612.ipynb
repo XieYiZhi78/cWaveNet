{
  "cells": [
    {
      "cell_type": "code",
      "execution_count": 2,
      "metadata": {
        "colab": {
          "base_uri": "https://localhost:8080/"
        },
        "id": "BTqLNGsMjH25",
        "outputId": "3a01c2f2-5765-459c-d1dd-d951f51ee711"
      },
      "outputs": [
        {
          "output_type": "stream",
          "name": "stdout",
          "text": [
            "Looking in indexes: https://pypi.org/simple, https://us-python.pkg.dev/colab-wheels/public/simple/\n",
            "Collecting configargparse\n",
            "  Downloading ConfigArgParse-1.5.3-py3-none-any.whl (20 kB)\n",
            "Installing collected packages: configargparse\n",
            "Successfully installed configargparse-1.5.3\n"
          ]
        }
      ],
      "source": [
        "!pip install configargparse"
      ]
    },
    {
      "cell_type": "code",
      "execution_count": 3,
      "metadata": {
        "id": "M1eSQxnTjNB6"
      },
      "outputs": [],
      "source": [
        "import sys\n",
        "\n",
        "sys.path.append('../utils/')\n",
        "import pandas as pd\n",
        "\n",
        "import configargparse\n",
        "import os\n",
        "import numpy as np\n",
        "import torch\n",
        "import torch.nn as nn\n",
        "import torch.nn.init as init\n",
        "import torch.optim as optim\n",
        "from torch.utils.data import Dataset, DataLoader\n",
        "import time\n",
        "from sklearn import metrics\n",
        "\n",
        "from hyperopt import fmin, tpe, hp, STATUS_OK, STATUS_FAIL, Trials, space_eval\n",
        "from functools import partial\n",
        "import pickle\n",
        "import matplotlib.pyplot as plt\n",
        "\n",
        "torch.set_printoptions(edgeitems=20, linewidth=200)"
      ]
    },
    {
      "cell_type": "markdown",
      "metadata": {
        "id": "HddEew-JuogX"
      },
      "source": [
        "## Generate Data"
      ]
    },
    {
      "cell_type": "code",
      "execution_count": 4,
      "metadata": {
        "id": "RHLs6R_VjRGJ"
      },
      "outputs": [],
      "source": [
        "def DataLorenz(stepcount, dt = 0.01, initx = 0., inity = 1., initz = 1.05, s = 10, r = 28, b = 8/3):\n",
        "    x = np.zeros(stepcount+1)\n",
        "    y = np.zeros(stepcount+1)\n",
        "    z = np.zeros(stepcount+1)\n",
        "    x[0], y[0], z[0] = (initx, inity, initz)\n",
        "    for i in range(stepcount):\n",
        "        x_dot = s*(y[i] - x[i])\n",
        "        y_dot = r*x[i] - y[i] - x[i]*z[i]\n",
        "        z_dot = x[i]*y[i] - b*z[i]\n",
        "        x[i+1] = x[i] + (x_dot * dt)\n",
        "        y[i+1] = y[i] + (y_dot * dt)\n",
        "        z[i+1] = z[i] + (z_dot * dt)\n",
        "    # Rescale to [-0.5, 0.5]\n",
        "    x = (x - np.amax(x))/(np.amax(x)-np.amin(x)) + 0.5\n",
        "    y = (y - np.amax(y))/(np.amax(y)-np.amin(y)) + 0.5\n",
        "    z = (z - np.amax(z))/(np.amax(z)-np.amin(z)) + 0.5\n",
        "    return x, y, z\n",
        "    "
      ]
    },
    {
      "cell_type": "code",
      "execution_count": 5,
      "metadata": {
        "id": "APCg4VH4jZrT"
      },
      "outputs": [],
      "source": [
        "datax, datay, dataz = DataLorenz(1499)\n",
        "\n",
        "data_x = pd.DataFrame(datax, columns=['x'])\n",
        "data_y = pd.DataFrame(datay, columns=['y'])\n",
        "data_z = pd.DataFrame(dataz, columns=['z'])\n",
        "data = pd.concat([data_x,data_y,data_z],axis = 1)\n",
        "\n",
        "train_ = pd.DataFrame(data[0:700])\n",
        "val_ = pd.DataFrame(data[700:1000])\n",
        "train_val = pd.concat([train_,val_],axis = 0)\n",
        "test_ = pd.DataFrame(data[1000:])"
      ]
    },
    {
      "cell_type": "code",
      "execution_count": 6,
      "metadata": {
        "colab": {
          "base_uri": "https://localhost:8080/",
          "height": 0
        },
        "id": "15BrI1-3jec-",
        "outputId": "d0c178ca-fb83-4aaa-f006-00144ab48b70"
      },
      "outputs": [
        {
          "output_type": "execute_result",
          "data": {
            "text/plain": [
              "[<matplotlib.lines.Line2D at 0x7f98355caf10>]"
            ]
          },
          "metadata": {},
          "execution_count": 6
        },
        {
          "output_type": "display_data",
          "data": {
            "text/plain": [
              "<Figure size 432x288 with 1 Axes>"
            ],
            "image/png": "[encoded data removed]"
          },
          "metadata": {
            "needs_background": "light"
          }
        }
      ],
      "source": [
        "plt.plot(data_x)"
      ]
    },
    {
      "cell_type": "markdown",
      "metadata": {
        "id": "6qhZEO50u6qO"
      },
      "source": [
        "## WaveNet"
      ]
    },
    {
      "cell_type": "code",
      "execution_count": 9,
      "metadata": {
        "id": "7RjKUjPfjlgR"
      },
      "outputs": [],
      "source": [
        "class DilatedCausalConv1d(nn.Module):\n",
        "    def __init__(self, hyperparams: dict, dilation_factor: int, in_channels: int):\n",
        "        super().__init__()\n",
        "        \n",
        "        def weights_init(m):\n",
        "            if isinstance(m, nn.Conv1d):\n",
        "                init.kaiming_normal_(m.weight.data) #N～(0,std)，其中std=sqrt(2/(1+a^2)*fan_in)\n",
        "                init.zeros_(m.bias.data)\n",
        "        \n",
        "        self.dilation_factor = dilation_factor\n",
        "        self.dilated_causal_conv = nn.Conv1d(in_channels=in_channels, \n",
        "                            out_channels=hyperparams['nb_filters'], \n",
        "                            kernel_size=hyperparams['kernel_size'], \n",
        "                            dilation=dilation_factor)\n",
        "        self.dilated_causal_conv.apply(weights_init)\n",
        "\n",
        "        self.skip_connection = nn.Conv1d(in_channels=in_channels, \n",
        "                          out_channels=hyperparams['nb_filters'], \n",
        "                          kernel_size=1)\n",
        "        self.skip_connection.apply(weights_init)\n",
        "        self.leaky_relu = nn.LeakyReLU(0.1)\n",
        "\n",
        "    def forward(self, x): #Figure2.3 left\n",
        "        x1 = self.leaky_relu(self.dilated_causal_conv(x)) #\n",
        "        x2 = x[:, :, self.dilation_factor:]\n",
        "        x2 = self.skip_connection(x2)\n",
        "        return x1 + x2\n"
      ]
    },
    {
      "cell_type": "code",
      "execution_count": 10,
      "metadata": {
        "id": "uBehgHbZjsCv"
      },
      "outputs": [],
      "source": [
        "class WaveNet(nn.Module):\n",
        "    def __init__(self, hyperparams: dict, in_channels: int):\n",
        "        super().__init__()\n",
        "        \n",
        "        def weights_init(m):\n",
        "            if isinstance(m, nn.Conv1d):\n",
        "                init.kaiming_normal_(m.weight.data)\n",
        "                init.zeros_(m.bias.data)\n",
        "        \n",
        "        self.dilation_factors = [2 ** i for i in range(0, hyperparams['nb_layers'])]\n",
        "        self.in_channels = [in_channels] + [hyperparams['nb_filters'] for _ in range(hyperparams['nb_layers'])]\n",
        "        self.dilated_causal_convs = nn.ModuleList(  #加入module和其parameters \n",
        "            [DilatedCausalConv1d(hyperparams, self.dilation_factors[i], self.in_channels[i]) for i in range(hyperparams['nb_layers'])])\n",
        "        for dilated_causal_conv in self.dilated_causal_convs:\n",
        "            dilated_causal_conv.apply(weights_init)\n",
        "\n",
        "        self.output_layer = nn.Conv1d(in_channels=self.in_channels[-1], \n",
        "                        out_channels=1, \n",
        "                        kernel_size=1, groups=1)\n",
        "        self.output_layer.apply(weights_init)\n",
        "        self.leaky_relu = nn.LeakyReLU(0.1)\n",
        "\n",
        "    def forward(self, x): #Figure2.3 right\n",
        "        for dilated_causal_conv in self.dilated_causal_convs:\n",
        "            x = dilated_causal_conv(x)\n",
        "        x = self.leaky_relu(self.output_layer(x))\n",
        "        return x"
      ]
    },
    {
      "cell_type": "markdown",
      "metadata": {
        "id": "bMHY_5yuvY3Y"
      },
      "source": [
        "##Deal With Dataset"
      ]
    },
    {
      "cell_type": "code",
      "execution_count": 11,
      "metadata": {
        "id": "GstLiq1KjuFw"
      },
      "outputs": [],
      "source": [
        "class TrainDataset(Dataset):\n",
        "    def __init__(self, train_df: pd.DataFrame, target_index: int, hyperparams: dict, horizon: int):\n",
        "\n",
        "        train_df = train_df.values\n",
        "        receptive_field = 2 ** (hyperparams['nb_layers'] - 1) * hyperparams['kernel_size'] #r=2**(L-1)*K\n",
        "        padding = receptive_field - 1\n",
        "\n",
        "        if hyperparams['conditional']:\n",
        "            seq_x = train_df[:-horizon, :] \n",
        "            seq_y = train_df[horizon:, target_index].reshape(-1, 1)\n",
        "        else:\n",
        "            seq_x = train_df[:-horizon, target_index].reshape(-1, 1)\n",
        "            seq_y = train_df[horizon:, target_index].reshape(-1, 1)\n",
        "\n",
        "        # left-zero-pad inputs in the timesteps dimension\n",
        "        seq_x = np.pad(seq_x, pad_width=((padding, 0), (0, 0)), mode='constant')\n",
        "\n",
        "        seq_x = seq_x.T\n",
        "        seq_y = seq_y.T\n",
        "\n",
        "        self.seq_x = seq_x\n",
        "        self.seq_y = seq_y\n",
        "\n",
        "    def __len__(self):\n",
        "        return self.seq_x.shape[1]\n",
        "\n",
        "    def __getitem__(self, idx):\n",
        "        return self.seq_x, self.seq_y"
      ]
    },
    {
      "cell_type": "code",
      "execution_count": 12,
      "metadata": {
        "id": "K3hi5uNpvt6P"
      },
      "outputs": [],
      "source": [
        "class EvalDataset(Dataset):\n",
        "    def __init__(self, train_df: pd.DataFrame, oos_df: pd.DataFrame, target_index: int, hyperparams: dict, horizon: int):\n",
        "\n",
        "        train_df = train_df.values\n",
        "        oos_df = oos_df.values\n",
        "        receptive_field = 2 ** (hyperparams['nb_layers'] - 1) * hyperparams['kernel_size']\n",
        "        padding = receptive_field - 1\n",
        "\n",
        "        if hyperparams['conditional']:\n",
        "            seq_x = train_df[-horizon:, :]\n",
        "            seq_y = oos_df[:horizon, target_index].reshape(-1, 1)\n",
        "        else:\n",
        "            seq_x = train_df[-horizon:, target_index].reshape(-1, 1)\n",
        "            seq_y = oos_df[:horizon, target_index].reshape(-1, 1)\n",
        "\n",
        "        # left-zero-pad inputs in the timesteps dimension\n",
        "        seq_x = np.pad(seq_x, pad_width=((padding, 0), (0, 0)), mode='constant')\n",
        "\n",
        "        seq_x = seq_x.T\n",
        "        seq_y = seq_y.T\n",
        "\n",
        "        self.seq_x = seq_x\n",
        "        self.seq_y = seq_y\n",
        "\n",
        "    def __len__(self):\n",
        "        return self.seq_x.shape[1]\n",
        "\n",
        "    def __getitem__(self, idx):\n",
        "        return self.seq_x, self.seq_y\n"
      ]
    },
    {
      "cell_type": "code",
      "execution_count": 13,
      "metadata": {
        "id": "BqDByA7OvwMd"
      },
      "outputs": [],
      "source": [
        "class PredDataset(Dataset):\n",
        "    def __init__(self, input: pd.DataFrame, target_index: int, hyperparams: dict, horizon: int):\n",
        "\n",
        "        input = input.values\n",
        "        receptive_field = 2 ** (hyperparams['nb_layers'] - 1) * hyperparams['kernel_size'] #r=2**(L-1)*K\n",
        "        padding = receptive_field - 1\n",
        "\n",
        "        if hyperparams['conditional']:\n",
        "            seq_x = input[-horizon:, :]\n",
        "        else:\n",
        "            seq_x = input[-horizon:, target_index].reshape(-1, 1)  # reshape to 2d e.g. (15300, 1)\n",
        "\n",
        "        # left-zero-pad inputs in the timesteps dimension #在第一軸往前填充padding個數\n",
        "        seq_x = np.pad(seq_x, pad_width=((padding, 0), (0, 0)), mode='constant') \n",
        "\n",
        "        seq_x = seq_x.T\n",
        "        self.seq_x = seq_x\n",
        "\n",
        "    def __len__(self):\n",
        "        return self.seq_x.shape[1]\n",
        "\n",
        "    def __getitem__(self, idx):\n",
        "        return self.seq_x"
      ]
    },
    {
      "cell_type": "markdown",
      "metadata": {
        "id": "q3Z62osbvzND"
      },
      "source": [
        "## Wrapper"
      ]
    },
    {
      "cell_type": "code",
      "execution_count": 14,
      "metadata": {
        "id": "2ag0f4eGv5Uh"
      },
      "outputs": [],
      "source": [
        "class WaveNetWrapper:\n",
        "\n",
        "    def __init__(self, disable_cuda: bool):\n",
        "\n",
        "        if disable_cuda:\n",
        "            self.device = torch.device('cpu')\n",
        "        elif torch.cuda.is_available():\n",
        "            self.device = torch.device('cuda')\n",
        "        else:\n",
        "            raise ValueError('System does not support CUDA.')\n",
        "        self.net = None\n",
        "        self.target_index = None\n",
        "        self.train_val = None\n",
        "        self.test = None\n",
        "        self.losses = None\n",
        "        self.horizon = None\n",
        "        self.period = None\n",
        "        self.mae_rmse_ignore_when_actual_and_pred_are_zero = None\n",
        "        self.mape_ignore_when_actual_is_zero = None\n",
        "        self.cross_validation_objective = None\n",
        "        self.cross_validation_objective_less_is_better = None\n",
        "        self.cross_validation_results = None\n",
        "        self.best_hyperparams = None\n",
        "        self.best_mean_train_metrics = None\n",
        "        self.best_mean_val_metrics = None\n",
        "        self.trials = None\n",
        "        self.train_val_metrics = None\n",
        "        self.mean_test_metrics = None\n",
        "        self.max_evals = None\n",
        "        self.runtime_in_minutes = None\n",
        "\n",
        "    def predict(self, input: pd.DataFrame, target_index: int, hps: dict, horizon: int) -> np.array:\n",
        "        # When predicting on val set, input = train\n",
        "        # When predicting on test set, input = train_val or val\n",
        "        dataset = PredDataset(input, target_index, hps, horizon)\n",
        "        pred_loader = DataLoader(dataset, batch_size=1, num_workers=1)\n",
        "        input = next(iter(pred_loader)) \n",
        "        input = input.to(device=self.device) #have both the model, and the data on the same device, either CPU or GPU\n",
        "        self.net.eval() #Sets model in evaluation mode \n",
        "        #switch for some specific layers/parts of the model that behave differently during training and inference (evaluating) time\n",
        "        self.net = self.net.to(device=self.device)\n",
        "        pred = self.net(input.float())\n",
        "        pred = pred.cpu().detach().numpy()\n",
        "        pred = pred[0, 0, :] \n",
        "        pred = pred.round(5)\n",
        "        return pred\n",
        "\n",
        "    def train(self, train_df: pd.DataFrame, oos_df: pd.DataFrame, target_index: int, hyperparams: dict, horizon: int):\n",
        "\n",
        "        tic = time.time()\n",
        "        in_channels = train_df.shape[1] if hyperparams['conditional'] is True else 1 \n",
        "        self.net = WaveNet(hyperparams, in_channels).to(device=self.device)\n",
        "        self.net.train()\n",
        "        self.losses = []\n",
        "\n",
        "        train_dataset = TrainDataset(train_df=train_df, target_index=target_index, hyperparams=hyperparams, horizon=horizon)\n",
        "        train_loader = DataLoader(train_dataset, batch_size=1, num_workers=1)\n",
        "        oos_dataset = EvalDataset(train_df=train_df, oos_df=oos_df, target_index=target_index, hyperparams=hyperparams, horizon=horizon)\n",
        "        oos_loader = DataLoader(oos_dataset, batch_size=1, num_workers=1)\n",
        "\n",
        "        # define the loss and optimizer\n",
        "        loss_fn = nn.L1Loss()\n",
        "        optimizer = optim.Adam(self.net.parameters(), lr=hyperparams['learning_rate'])\n",
        "\n",
        "        # training loop:\n",
        "        inputs, labels = next(iter(train_loader))\n",
        "        inputs, labels = inputs.to(self.device), labels.to(self.device)\n",
        "        oos_inputs, oos_labels = next(iter(oos_loader))\n",
        "        oos_inputs, oos_labels = oos_inputs.to(self.device), oos_labels.to(self.device)\n",
        "\n",
        "        best_oos_mae = None\n",
        "        early_stopping = 0\n",
        "        for epoch in range(hyperparams['max_epochs']):\n",
        "\n",
        "            # zero the parameter gradients\n",
        "            optimizer.zero_grad()\n",
        "\n",
        "            # forward + backward + optimize\n",
        "            outputs = self.net(inputs.float()) #\n",
        "            loss = loss_fn(outputs, labels.float())\n",
        "            self.losses.append(loss)\n",
        "\n",
        "            oos_outputs = self.net(oos_inputs.float())\n",
        "            oos_outputs = torch.round(oos_outputs)\n",
        "            oos_mae = nn.L1Loss()(oos_labels.float(), oos_outputs.float())\n",
        "\n",
        "            if best_oos_mae is None:\n",
        "                best_oos_mae = oos_mae\n",
        "                torch.save(self.net.state_dict(), 'checkpoint.pt')\n",
        "            elif oos_mae < best_oos_mae and epoch > 20: \n",
        "                best_oos_mae = oos_mae\n",
        "                torch.save(self.net.state_dict(), 'checkpoint.pt')\n",
        "                early_stopping = 0\n",
        "            else:\n",
        "                early_stopping += 1\n",
        "\n",
        "            if early_stopping > hyperparams['early_stopping_rounds']:\n",
        "                break\n",
        "\n",
        "            reg_loss = np.sum([weights.norm(2).detach().numpy() for weights in self.net.parameters()])\n",
        "\n",
        "            total_loss = loss + hyperparams['l2_reg'] / 2 * reg_loss\n",
        "            total_loss.backward()\n",
        "            optimizer.step()\n",
        "\n",
        "            # print statistics\n",
        "            outputs = torch.round(outputs)\n",
        "            train_mae = nn.L1Loss()(labels.float(), outputs.float())\n",
        "\n",
        "            #print('Epoch {} total loss: {} train mae: {} oos mae: {} best oos mae: {}'.format(epoch + 1,\n",
        "            #    total_loss, train_mae, oos_mae, best_oos_mae))\n",
        "\n",
        "        self.net = WaveNet(hyperparams, in_channels).to(device=self.device)\n",
        "        self.net.load_state_dict(torch.load('checkpoint.pt'))\n",
        "        self.net.eval()\n",
        "        os.remove('checkpoint.pt')\n",
        "\n",
        "        toc = time.time()\n",
        "        #print('Training time: {} minutes'.format(str(round((toc - tic) / 60, 2))))\n",
        "\n",
        "    @staticmethod\n",
        "    def generate_origins(train: pd.DataFrame, oos: pd.DataFrame, horizon: int, period: int):\n",
        "\n",
        "        if oos.shape[0] < horizon:\n",
        "            raise ValueError(\n",
        "                'Number of timestamps in oos: {} \\nHorizon: {}\\nNot enough timestamps in out-of-sample to do '\n",
        "                'even one forecast'.format(\n",
        "                    oos.shape[0], horizon))\n",
        "\n",
        "        train_and_oos = pd.concat([train, oos])\n",
        "\n",
        "        # find index of first origin\n",
        "        origin = train.index.max()\n",
        "        origin_idx = train_and_oos.index.tolist().index(origin)\n",
        "        origins_as_idx = []\n",
        "\n",
        "        # find index of all the origins\n",
        "        while origin_idx < int(len(train_and_oos.index) - 1.5 * horizon):\n",
        "            origins_as_idx.append(origin_idx)\n",
        "            origin_idx += period\n",
        "        origins_as_timestamps = [train_and_oos.index[origin_idx] for origin_idx in origins_as_idx]\n",
        "        return origins_as_idx, origins_as_timestamps\n",
        "\n",
        "    def calculate_train_and_forecast_metrics(self, train: pd.DataFrame, oos: pd.DataFrame, target_index: int, hps: dict, horizon: int):\n",
        "\n",
        "\n",
        "        train_dataset = TrainDataset(train_df=train, target_index=target_index, hyperparams=hps, horizon=horizon)\n",
        "        train_loader = DataLoader(train_dataset, batch_size=1, num_workers=1)\n",
        "        inputs, train_actual = next(iter(train_loader))\n",
        "        inputs = inputs.to(device=self.device)\n",
        "        self.net = self.net.to(device=self.device)\n",
        "\n",
        "        train_pred = self.net(inputs.float())\n",
        "        train_actual = train_actual[0, 0, :].cpu().numpy()\n",
        "        train_pred = train_pred[0, 0, :].cpu().detach().numpy()\n",
        "        forecast_actual = oos.iloc[:horizon, target_index].values\n",
        "        forecast_pred = self.predict(train, target_index, hps, horizon)\n",
        "\n",
        "        assert (train_actual.shape == train_pred.shape)\n",
        "        assert (forecast_actual.shape == forecast_pred.shape)\n",
        "\n",
        "        train_dict = {'rmse': metrics.mean_squared_error(train_actual, train_pred, squared=False),\n",
        "                'num_timestamps_predicted_on': int(train_pred.shape[0])}\n",
        "\n",
        "        forecast_dict = {'rmse': metrics.mean_squared_error(forecast_actual, forecast_pred, squared=False),\n",
        "                  'num_timestamps_predicted_on': int(forecast_pred.shape[0])}\n",
        "\n",
        "        train_metrics = pd.DataFrame.from_dict(\n",
        "            train_dict, columns=[None], orient='index').iloc[:, 0].round(3)\n",
        "\n",
        "        forecast_metrics = pd.DataFrame.from_dict(\n",
        "            forecast_dict, columns=[None], orient='index').iloc[:, 0].round(3)\n",
        "\n",
        "        return train_metrics, forecast_metrics, forecast_pred\n",
        "\n",
        "    def rolling_origin_eval(self, train: pd.DataFrame, oos: pd.DataFrame, target_index: int, horizon: int, period: int, hps: dict):\n",
        "\n",
        "        origins_as_idx, origins_as_timestamps = self.generate_origins(train, oos, horizon, period)\n",
        "\n",
        "        train_and_oos = pd.concat([train, oos])\n",
        "        train_metrics_across_origins = []\n",
        "        oos_metrics_across_origins = []\n",
        "        for i, origin_idx in enumerate(origins_as_idx):\n",
        "            #print('Origin: {} {}/{}'.format(origins_as_timestamps[i], i + 1, len(origins_as_idx)))\n",
        "            train = train_and_oos[i * period:origin_idx + 1]\n",
        "            oos = train_and_oos[origin_idx + 1: origin_idx + 1 + horizon]\n",
        "\n",
        "            self.train(train_df=train, oos_df=oos, target_index=target_index, hyperparams=hps, horizon=horizon)\n",
        "            train_metrics, oos_metrics, _ = self.calculate_train_and_forecast_metrics(train, oos, target_index, hps, horizon)\n",
        "\n",
        "            train_metrics_across_origins.append(train_metrics)\n",
        "            oos_metrics_across_origins.append(oos_metrics)\n",
        "\n",
        "        # mean train and out-of-sample metrics across origins\n",
        "        mean_train_metrics = np.mean(pd.concat(train_metrics_across_origins, axis=1), axis=1).round(3)\n",
        "        mean_out_of_sample_metrics = np.mean(pd.concat(oos_metrics_across_origins, axis=1), axis=1).round(3)\n",
        "\n",
        "        return mean_train_metrics, mean_out_of_sample_metrics\n",
        "\n",
        "    def objective(self, params: dict, hyperparam_set: dict):\n",
        "        print('{} | Training hyperparameter set {}'.format(params['train'].columns[params['target_index']],hyperparam_set))\n",
        "\n",
        "        mean_train_metrics, mean_oos_metrics = self.rolling_origin_eval(train=params['train'], oos=params['val'], \n",
        "                                          target_index=params['target_index'], horizon=params['horizon'], \n",
        "                                          period=params['period'], hps=hyperparam_set )\n",
        "\n",
        "        if params['cross_validation_objective_less_is_better']:\n",
        "            try:\n",
        "                return {'loss': mean_oos_metrics[params['cross_validation_objective']], 'status': STATUS_OK,\n",
        "                        'hyperparam_set': hyperparam_set,\n",
        "                        'mean_train_metrics': mean_train_metrics,\n",
        "                        'mean_val_metrics': mean_oos_metrics}\n",
        "            except Exception as e:\n",
        "                return {'status': STATUS_FAIL, 'exception': str(e)}\n",
        "        else:\n",
        "            try:\n",
        "                return {'loss': -1 * mean_oos_metrics[params['cross_validation_objective']], 'status': STATUS_OK,\n",
        "                        'hyperparam_set': hyperparam_set,\n",
        "                        'mean_train_metrics': mean_train_metrics,\n",
        "                        'mean_val_metrics': mean_oos_metrics}\n",
        "            except Exception as e:\n",
        "                return {'status': STATUS_FAIL, 'exception': str(e)}\n",
        "\n",
        "    def cross_validation(self, target_index: int, hyperparam_space: dict,\n",
        "               train: pd.DataFrame, val: pd.DataFrame, test: pd.DataFrame,\n",
        "               horizon: int, period: int,\n",
        "               cross_validation_objective: str, cross_validation_objective_less_is_better: bool, max_evals: int):\n",
        "        \"\"\"\n",
        "        Tune hyperparameters using rolling origin evaluation. Retrain best model on time series containing training and\n",
        "        validation data points. Evaluates metrics on test set. Saves model, meta data, and metrics.\n",
        "        \"\"\"\n",
        "        #http://hyperopt.github.io/hyperopt/getting-started/minimizing_functions/\n",
        "        tic = time.time()\n",
        "\n",
        "        # rolling-origin evaluation to find the best hyperparam set\n",
        "        #print('{} | Optimizing hyperparameters'.format(train.columns[target_index]))\n",
        "        trials = Trials()\n",
        "        params = {'target_index': target_index,\n",
        "                  'train': train,\n",
        "                  'val': val,\n",
        "                  'horizon': horizon,\n",
        "                  'period': period,\n",
        "                  'cross_validation_objective_less_is_better': cross_validation_objective_less_is_better,\n",
        "                  'cross_validation_objective': cross_validation_objective}\n",
        "        best_hyperparams = fmin(fn=partial(self.objective, params),\n",
        "                                space=hyperparam_space,\n",
        "                                algo=tpe.suggest,\n",
        "                                max_evals=max_evals,\n",
        "                                trials=trials)\n",
        "        best_hyperparams = space_eval(hyperparam_space, best_hyperparams)\n",
        "\n",
        "        if cross_validation_objective_less_is_better:\n",
        "            minimum = min([trial['mean_val_metrics'][cross_validation_objective] for trial in trials.results])\n",
        "            idx = [trial['mean_val_metrics'][cross_validation_objective] for trial in trials.results].index(minimum)\n",
        "        else:\n",
        "            maximum = max([trial['mean_val_metrics'][cross_validation_objective] for trial in trials.results])\n",
        "            idx = [trial['mean_val_metrics'][cross_validation_objective] for trial in trials.results].index(maximum)\n",
        "        best_mean_train_metrics = [trial['mean_train_metrics'] for trial in trials.results][idx]\n",
        "        best_mean_val_metrics = [trial['mean_val_metrics'] for trial in trials.results][idx]\n",
        "\n",
        "        # rolling-origin evaluation to find test set performance using the best hyperparam set\n",
        "        train_val = pd.concat([train, val])\n",
        "        #print('{} | Rolling-origin evaluation on test'.format(train.columns[target_index]))\n",
        "        _, mean_test_metrics = self.rolling_origin_eval(train=train_val, oos=test, target_index=target_index,\n",
        "                                  horizon=horizon, period=period, hps=best_hyperparams)\n",
        "\n",
        "        # train the final model on train_val\n",
        "        print('{} | Training final model'.format(train.columns[target_index]))\n",
        "        print(best_hyperparams)\n",
        "        self.train(train_df=train_val, oos_df=test, target_index=target_index, hyperparams=best_hyperparams, horizon=horizon)\n",
        "        train_val_metrics, _, forecast_pred = self.calculate_train_and_forecast_metrics(train_val, test, target_index, best_hyperparams, horizon)\n",
        "\n",
        "        toc = time.time()\n",
        "        runtime_in_minutes = round((toc - tic) / 60, 2)\n",
        "\n",
        "        # save results\n",
        "        self.target_index = target_index\n",
        "        self.train_val = train_val\n",
        "        self.test = test\n",
        "        self.horizon = horizon\n",
        "        self.period = period\n",
        "        self.cross_validation_objective = cross_validation_objective\n",
        "        self.cross_validation_objective_less_is_better = cross_validation_objective_less_is_better\n",
        "        self.cross_validation_results = trials.results\n",
        "        self.best_hyperparams = best_hyperparams\n",
        "        self.best_mean_train_metrics = best_mean_train_metrics\n",
        "        self.best_mean_val_metrics = best_mean_val_metrics\n",
        "        self.trials = trials\n",
        "        self.train_val_metrics = train_val_metrics\n",
        "        self.forecast_pred = forecast_pred\n",
        "        self.mean_test_metrics = mean_test_metrics\n",
        "        self.max_evals = max_evals\n",
        "        self.runtime_in_minutes = runtime_in_minutes\n",
        "        print(runtime_in_minutes)\n",
        "\n",
        "    def save(self, model_save_path):\n",
        "        work_set_id_mapped = str(self.train_val.columns[self.target_index])\n",
        "        print('Saving model for {} at {}'.format(work_set_id_mapped, model_save_path))\n",
        "        if self.__module__ == '__main__':\n",
        "            self.__module__ == WaveNetWrapper.__module__\n",
        "        pickle.dump(self, open(model_save_path + work_set_id_mapped + '_model.p', 'wb+'))\n",
        "        print('Save Complete')"
      ]
    },
    {
      "cell_type": "markdown",
      "metadata": {
        "id": "E_nWDOZxwCas"
      },
      "source": [
        "## train cWaveNet_x & uWaveNet_x"
      ]
    },
    {
      "cell_type": "code",
      "execution_count": 22,
      "metadata": {
        "colab": {
          "base_uri": "https://localhost:8080/"
        },
        "id": "L8f4WTohwSqI",
        "outputId": "a82b669f-8514-4aec-a6d1-18893b372246"
      },
      "outputs": [
        {
          "output_type": "stream",
          "name": "stdout",
          "text": [
            "x | Training hyperparameter set {'conditional': True, 'early_stopping_rounds': 100, 'kernel_size': 2, 'l2_reg': 0.001, 'learning_rate': 0.00178972472654602, 'max_epochs': 1000, 'nb_filters': 7, 'nb_layers': 4}\n",
            "x | Training hyperparameter set {'conditional': True, 'early_stopping_rounds': 100, 'kernel_size': 2, 'l2_reg': 0.001, 'learning_rate': 0.04538114706900866, 'max_epochs': 1000, 'nb_filters': 10, 'nb_layers': 4}\n",
            "x | Training hyperparameter set {'conditional': True, 'early_stopping_rounds': 100, 'kernel_size': 2, 'l2_reg': 0.001, 'learning_rate': 0.0017470128639160412, 'max_epochs': 1000, 'nb_filters': 22, 'nb_layers': 4}\n",
            "x | Training hyperparameter set {'conditional': True, 'early_stopping_rounds': 100, 'kernel_size': 2, 'l2_reg': 0.001, 'learning_rate': 0.02326274593201773, 'max_epochs': 1000, 'nb_filters': 13, 'nb_layers': 4}\n",
            "x | Training hyperparameter set {'conditional': True, 'early_stopping_rounds': 100, 'kernel_size': 2, 'l2_reg': 0.001, 'learning_rate': 0.007739891736973647, 'max_epochs': 1000, 'nb_filters': 21, 'nb_layers': 4}\n",
            "x | Training hyperparameter set {'conditional': True, 'early_stopping_rounds': 100, 'kernel_size': 2, 'l2_reg': 0.001, 'learning_rate': 0.0032945487792696523, 'max_epochs': 1000, 'nb_filters': 16, 'nb_layers': 4}\n",
            "x | Training hyperparameter set {'conditional': True, 'early_stopping_rounds': 100, 'kernel_size': 2, 'l2_reg': 0.001, 'learning_rate': 0.012482827650576477, 'max_epochs': 1000, 'nb_filters': 24, 'nb_layers': 4}\n",
            "x | Training hyperparameter set {'conditional': True, 'early_stopping_rounds': 100, 'kernel_size': 2, 'l2_reg': 0.001, 'learning_rate': 0.03517280604172985, 'max_epochs': 1000, 'nb_filters': 17, 'nb_layers': 4}\n",
            "x | Training hyperparameter set {'conditional': True, 'early_stopping_rounds': 100, 'kernel_size': 2, 'l2_reg': 0.001, 'learning_rate': 0.006139669625239654, 'max_epochs': 1000, 'nb_filters': 11, 'nb_layers': 4}\n",
            "x | Training hyperparameter set {'conditional': True, 'early_stopping_rounds': 100, 'kernel_size': 2, 'l2_reg': 0.001, 'learning_rate': 0.032475984144574165, 'max_epochs': 1000, 'nb_filters': 7, 'nb_layers': 4}\n",
            "x | Training hyperparameter set {'conditional': True, 'early_stopping_rounds': 100, 'kernel_size': 2, 'l2_reg': 0.001, 'learning_rate': 0.04813313126306942, 'max_epochs': 1000, 'nb_filters': 18, 'nb_layers': 4}\n",
            "x | Training hyperparameter set {'conditional': True, 'early_stopping_rounds': 100, 'kernel_size': 2, 'l2_reg': 0.001, 'learning_rate': 0.002896877728271789, 'max_epochs': 1000, 'nb_filters': 5, 'nb_layers': 4}\n",
            "x | Training hyperparameter set {'conditional': True, 'early_stopping_rounds': 100, 'kernel_size': 2, 'l2_reg': 0.001, 'learning_rate': 0.014696630077980074, 'max_epochs': 1000, 'nb_filters': 7, 'nb_layers': 4}\n",
            "x | Training hyperparameter set {'conditional': True, 'early_stopping_rounds': 100, 'kernel_size': 2, 'l2_reg': 0.001, 'learning_rate': 0.005196525722130497, 'max_epochs': 1000, 'nb_filters': 14, 'nb_layers': 4}\n",
            "x | Training hyperparameter set {'conditional': True, 'early_stopping_rounds': 100, 'kernel_size': 2, 'l2_reg': 0.001, 'learning_rate': 0.04979445443250272, 'max_epochs': 1000, 'nb_filters': 19, 'nb_layers': 4}\n",
            "x | Training hyperparameter set {'conditional': True, 'early_stopping_rounds': 100, 'kernel_size': 2, 'l2_reg': 0.001, 'learning_rate': 0.005870112343948305, 'max_epochs': 1000, 'nb_filters': 10, 'nb_layers': 4}\n",
            "x | Training hyperparameter set {'conditional': True, 'early_stopping_rounds': 100, 'kernel_size': 2, 'l2_reg': 0.001, 'learning_rate': 0.006586726311638854, 'max_epochs': 1000, 'nb_filters': 11, 'nb_layers': 4}\n",
            "x | Training hyperparameter set {'conditional': True, 'early_stopping_rounds': 100, 'kernel_size': 2, 'l2_reg': 0.001, 'learning_rate': 0.03871411371209775, 'max_epochs': 1000, 'nb_filters': 18, 'nb_layers': 4}\n",
            "x | Training hyperparameter set {'conditional': True, 'early_stopping_rounds': 100, 'kernel_size': 2, 'l2_reg': 0.001, 'learning_rate': 0.034248522664201746, 'max_epochs': 1000, 'nb_filters': 20, 'nb_layers': 4}\n",
            "x | Training hyperparameter set {'conditional': True, 'early_stopping_rounds': 100, 'kernel_size': 2, 'l2_reg': 0.001, 'learning_rate': 0.0038585816548741022, 'max_epochs': 1000, 'nb_filters': 22, 'nb_layers': 4}\n",
            "x | Training hyperparameter set {'conditional': True, 'early_stopping_rounds': 100, 'kernel_size': 2, 'l2_reg': 0.001, 'learning_rate': 0.0010187444855698359, 'max_epochs': 1000, 'nb_filters': 14, 'nb_layers': 4}\n",
            "x | Training hyperparameter set {'conditional': True, 'early_stopping_rounds': 100, 'kernel_size': 2, 'l2_reg': 0.001, 'learning_rate': 0.001274909545221458, 'max_epochs': 1000, 'nb_filters': 8, 'nb_layers': 4}\n",
            "x | Training hyperparameter set {'conditional': True, 'early_stopping_rounds': 100, 'kernel_size': 2, 'l2_reg': 0.001, 'learning_rate': 0.0020799542490968826, 'max_epochs': 1000, 'nb_filters': 23, 'nb_layers': 4}\n",
            "x | Training hyperparameter set {'conditional': True, 'early_stopping_rounds': 100, 'kernel_size': 2, 'l2_reg': 0.001, 'learning_rate': 0.002184532068968673, 'max_epochs': 1000, 'nb_filters': 15, 'nb_layers': 4}\n",
            "x | Training hyperparameter set {'conditional': True, 'early_stopping_rounds': 100, 'kernel_size': 2, 'l2_reg': 0.001, 'learning_rate': 0.004274771963754547, 'max_epochs': 1000, 'nb_filters': 6, 'nb_layers': 4}\n",
            "x | Training hyperparameter set {'conditional': True, 'early_stopping_rounds': 100, 'kernel_size': 2, 'l2_reg': 0.001, 'learning_rate': 0.010712919555336991, 'max_epochs': 1000, 'nb_filters': 9, 'nb_layers': 4}\n",
            "x | Training hyperparameter set {'conditional': True, 'early_stopping_rounds': 100, 'kernel_size': 2, 'l2_reg': 0.001, 'learning_rate': 0.001366760660397445, 'max_epochs': 1000, 'nb_filters': 12, 'nb_layers': 4}\n",
            "x | Training hyperparameter set {'conditional': True, 'early_stopping_rounds': 100, 'kernel_size': 2, 'l2_reg': 0.001, 'learning_rate': 0.00483494303677284, 'max_epochs': 1000, 'nb_filters': 14, 'nb_layers': 4}\n",
            "x | Training hyperparameter set {'conditional': True, 'early_stopping_rounds': 100, 'kernel_size': 2, 'l2_reg': 0.001, 'learning_rate': 0.0025861697100181503, 'max_epochs': 1000, 'nb_filters': 7, 'nb_layers': 4}\n",
            "x | Training hyperparameter set {'conditional': True, 'early_stopping_rounds': 100, 'kernel_size': 2, 'l2_reg': 0.001, 'learning_rate': 0.008328288828526197, 'max_epochs': 1000, 'nb_filters': 14, 'nb_layers': 4}\n",
            "x | Training hyperparameter set {'conditional': True, 'early_stopping_rounds': 100, 'kernel_size': 2, 'l2_reg': 0.001, 'learning_rate': 0.0015400035715977909, 'max_epochs': 1000, 'nb_filters': 24, 'nb_layers': 4}\n",
            "x | Training hyperparameter set {'conditional': True, 'early_stopping_rounds': 100, 'kernel_size': 2, 'l2_reg': 0.001, 'learning_rate': 0.016658891481942537, 'max_epochs': 1000, 'nb_filters': 13, 'nb_layers': 4}\n",
            "x | Training hyperparameter set {'conditional': True, 'early_stopping_rounds': 100, 'kernel_size': 2, 'l2_reg': 0.001, 'learning_rate': 0.020515044775543757, 'max_epochs': 1000, 'nb_filters': 21, 'nb_layers': 4}\n",
            "x | Training hyperparameter set {'conditional': True, 'early_stopping_rounds': 100, 'kernel_size': 2, 'l2_reg': 0.001, 'learning_rate': 0.0011167105767945916, 'max_epochs': 1000, 'nb_filters': 16, 'nb_layers': 4}\n",
            "x | Training hyperparameter set {'conditional': True, 'early_stopping_rounds': 100, 'kernel_size': 2, 'l2_reg': 0.001, 'learning_rate': 0.0018850331839668144, 'max_epochs': 1000, 'nb_filters': 7, 'nb_layers': 4}\n",
            "x | Training hyperparameter set {'conditional': True, 'early_stopping_rounds': 100, 'kernel_size': 2, 'l2_reg': 0.001, 'learning_rate': 0.00997864751493792, 'max_epochs': 1000, 'nb_filters': 17, 'nb_layers': 4}\n",
            "x | Training hyperparameter set {'conditional': True, 'early_stopping_rounds': 100, 'kernel_size': 2, 'l2_reg': 0.001, 'learning_rate': 0.0034516526982160773, 'max_epochs': 1000, 'nb_filters': 9, 'nb_layers': 4}\n",
            "x | Training hyperparameter set {'conditional': True, 'early_stopping_rounds': 100, 'kernel_size': 2, 'l2_reg': 0.001, 'learning_rate': 0.0047627073896185125, 'max_epochs': 1000, 'nb_filters': 15, 'nb_layers': 4}\n",
            "x | Training hyperparameter set {'conditional': True, 'early_stopping_rounds': 100, 'kernel_size': 2, 'l2_reg': 0.001, 'learning_rate': 0.004693427774724276, 'max_epochs': 1000, 'nb_filters': 15, 'nb_layers': 4}\n",
            "x | Training hyperparameter set {'conditional': True, 'early_stopping_rounds': 100, 'kernel_size': 2, 'l2_reg': 0.001, 'learning_rate': 0.007962510868049591, 'max_epochs': 1000, 'nb_filters': 15, 'nb_layers': 4}\n",
            "x | Training hyperparameter set {'conditional': True, 'early_stopping_rounds': 100, 'kernel_size': 2, 'l2_reg': 0.001, 'learning_rate': 0.0026164685536561147, 'max_epochs': 1000, 'nb_filters': 5, 'nb_layers': 4}\n",
            "x | Training hyperparameter set {'conditional': True, 'early_stopping_rounds': 100, 'kernel_size': 2, 'l2_reg': 0.001, 'learning_rate': 0.005195402177782838, 'max_epochs': 1000, 'nb_filters': 6, 'nb_layers': 4}\n",
            "x | Training hyperparameter set {'conditional': True, 'early_stopping_rounds': 100, 'kernel_size': 2, 'l2_reg': 0.001, 'learning_rate': 0.02736319641428606, 'max_epochs': 1000, 'nb_filters': 19, 'nb_layers': 4}\n",
            "x | Training hyperparameter set {'conditional': True, 'early_stopping_rounds': 100, 'kernel_size': 2, 'l2_reg': 0.001, 'learning_rate': 0.01022649453705093, 'max_epochs': 1000, 'nb_filters': 12, 'nb_layers': 4}\n",
            "x | Training hyperparameter set {'conditional': True, 'early_stopping_rounds': 100, 'kernel_size': 2, 'l2_reg': 0.001, 'learning_rate': 0.013361992713595127, 'max_epochs': 1000, 'nb_filters': 12, 'nb_layers': 4}\n",
            "x | Training hyperparameter set {'conditional': True, 'early_stopping_rounds': 100, 'kernel_size': 2, 'l2_reg': 0.001, 'learning_rate': 0.019696739903008097, 'max_epochs': 1000, 'nb_filters': 12, 'nb_layers': 4}\n",
            "x | Training hyperparameter set {'conditional': True, 'early_stopping_rounds': 100, 'kernel_size': 2, 'l2_reg': 0.001, 'learning_rate': 0.011912443690241872, 'max_epochs': 1000, 'nb_filters': 8, 'nb_layers': 4}\n",
            "x | Training hyperparameter set {'conditional': True, 'early_stopping_rounds': 100, 'kernel_size': 2, 'l2_reg': 0.001, 'learning_rate': 0.008861652056677221, 'max_epochs': 1000, 'nb_filters': 10, 'nb_layers': 4}\n",
            "x | Training hyperparameter set {'conditional': True, 'early_stopping_rounds': 100, 'kernel_size': 2, 'l2_reg': 0.001, 'learning_rate': 0.015910213047479138, 'max_epochs': 1000, 'nb_filters': 12, 'nb_layers': 4}\n",
            "x | Training hyperparameter set {'conditional': True, 'early_stopping_rounds': 100, 'kernel_size': 2, 'l2_reg': 0.001, 'learning_rate': 0.0068256878461838396, 'max_epochs': 1000, 'nb_filters': 20, 'nb_layers': 4}\n",
            "x | Training hyperparameter set {'conditional': True, 'early_stopping_rounds': 100, 'kernel_size': 2, 'l2_reg': 0.001, 'learning_rate': 0.003330001382545394, 'max_epochs': 1000, 'nb_filters': 23, 'nb_layers': 4}\n",
            "x | Training hyperparameter set {'conditional': True, 'early_stopping_rounds': 100, 'kernel_size': 2, 'l2_reg': 0.001, 'learning_rate': 0.025504920469625, 'max_epochs': 1000, 'nb_filters': 22, 'nb_layers': 4}\n",
            "x | Training hyperparameter set {'conditional': True, 'early_stopping_rounds': 100, 'kernel_size': 2, 'l2_reg': 0.001, 'learning_rate': 0.04134750757068512, 'max_epochs': 1000, 'nb_filters': 15, 'nb_layers': 4}\n",
            "x | Training hyperparameter set {'conditional': True, 'early_stopping_rounds': 100, 'kernel_size': 2, 'l2_reg': 0.001, 'learning_rate': 0.010155949166921677, 'max_epochs': 1000, 'nb_filters': 11, 'nb_layers': 4}\n",
            "x | Training hyperparameter set {'conditional': True, 'early_stopping_rounds': 100, 'kernel_size': 2, 'l2_reg': 0.001, 'learning_rate': 0.0038189843248197563, 'max_epochs': 1000, 'nb_filters': 18, 'nb_layers': 4}\n",
            "x | Training hyperparameter set {'conditional': True, 'early_stopping_rounds': 100, 'kernel_size': 2, 'l2_reg': 0.001, 'learning_rate': 0.005812300173086775, 'max_epochs': 1000, 'nb_filters': 21, 'nb_layers': 4}\n",
            "x | Training hyperparameter set {'conditional': True, 'early_stopping_rounds': 100, 'kernel_size': 2, 'l2_reg': 0.001, 'learning_rate': 0.007304063424488222, 'max_epochs': 1000, 'nb_filters': 13, 'nb_layers': 4}\n",
            "x | Training hyperparameter set {'conditional': True, 'early_stopping_rounds': 100, 'kernel_size': 2, 'l2_reg': 0.001, 'learning_rate': 0.00293052783250995, 'max_epochs': 1000, 'nb_filters': 24, 'nb_layers': 4}\n",
            "x | Training hyperparameter set {'conditional': True, 'early_stopping_rounds': 100, 'kernel_size': 2, 'l2_reg': 0.001, 'learning_rate': 0.0026757541450258865, 'max_epochs': 1000, 'nb_filters': 24, 'nb_layers': 4}\n",
            "x | Training hyperparameter set {'conditional': True, 'early_stopping_rounds': 100, 'kernel_size': 2, 'l2_reg': 0.001, 'learning_rate': 0.0016016710242930394, 'max_epochs': 1000, 'nb_filters': 24, 'nb_layers': 4}\n",
            "x | Training hyperparameter set {'conditional': True, 'early_stopping_rounds': 100, 'kernel_size': 2, 'l2_reg': 0.001, 'learning_rate': 0.029122235291024746, 'max_epochs': 1000, 'nb_filters': 24, 'nb_layers': 4}\n",
            "x | Training hyperparameter set {'conditional': True, 'early_stopping_rounds': 100, 'kernel_size': 2, 'l2_reg': 0.001, 'learning_rate': 0.0023259022506925634, 'max_epochs': 1000, 'nb_filters': 17, 'nb_layers': 4}\n",
            "x | Training hyperparameter set {'conditional': True, 'early_stopping_rounds': 100, 'kernel_size': 2, 'l2_reg': 0.001, 'learning_rate': 0.0030607856654514616, 'max_epochs': 1000, 'nb_filters': 16, 'nb_layers': 4}\n",
            "x | Training hyperparameter set {'conditional': True, 'early_stopping_rounds': 100, 'kernel_size': 2, 'l2_reg': 0.001, 'learning_rate': 0.01842578663995001, 'max_epochs': 1000, 'nb_filters': 12, 'nb_layers': 4}\n",
            "x | Training hyperparameter set {'conditional': True, 'early_stopping_rounds': 100, 'kernel_size': 2, 'l2_reg': 0.001, 'learning_rate': 0.003984011600827031, 'max_epochs': 1000, 'nb_filters': 19, 'nb_layers': 4}\n",
            "x | Training hyperparameter set {'conditional': True, 'early_stopping_rounds': 100, 'kernel_size': 2, 'l2_reg': 0.001, 'learning_rate': 0.006016218541888712, 'max_epochs': 1000, 'nb_filters': 5, 'nb_layers': 4}\n",
            "x | Training hyperparameter set {'conditional': True, 'early_stopping_rounds': 100, 'kernel_size': 2, 'l2_reg': 0.001, 'learning_rate': 0.0018882191261800462, 'max_epochs': 1000, 'nb_filters': 20, 'nb_layers': 4}\n",
            "x | Training hyperparameter set {'conditional': True, 'early_stopping_rounds': 100, 'kernel_size': 2, 'l2_reg': 0.001, 'learning_rate': 0.004368957761825741, 'max_epochs': 1000, 'nb_filters': 24, 'nb_layers': 4}\n",
            "x | Training hyperparameter set {'conditional': True, 'early_stopping_rounds': 100, 'kernel_size': 2, 'l2_reg': 0.001, 'learning_rate': 0.009128075623472157, 'max_epochs': 1000, 'nb_filters': 15, 'nb_layers': 4}\n",
            "x | Training hyperparameter set {'conditional': True, 'early_stopping_rounds': 100, 'kernel_size': 2, 'l2_reg': 0.001, 'learning_rate': 0.012659814576345524, 'max_epochs': 1000, 'nb_filters': 8, 'nb_layers': 4}\n",
            "x | Training hyperparameter set {'conditional': True, 'early_stopping_rounds': 100, 'kernel_size': 2, 'l2_reg': 0.001, 'learning_rate': 0.02351677806325669, 'max_epochs': 1000, 'nb_filters': 8, 'nb_layers': 4}\n",
            "x | Training hyperparameter set {'conditional': True, 'early_stopping_rounds': 100, 'kernel_size': 2, 'l2_reg': 0.001, 'learning_rate': 0.013453585766176664, 'max_epochs': 1000, 'nb_filters': 10, 'nb_layers': 4}\n",
            "x | Training hyperparameter set {'conditional': True, 'early_stopping_rounds': 100, 'kernel_size': 2, 'l2_reg': 0.001, 'learning_rate': 0.011976957698234649, 'max_epochs': 1000, 'nb_filters': 22, 'nb_layers': 4}\n",
            "x | Training hyperparameter set {'conditional': True, 'early_stopping_rounds': 100, 'kernel_size': 2, 'l2_reg': 0.001, 'learning_rate': 0.01648540203745654, 'max_epochs': 1000, 'nb_filters': 8, 'nb_layers': 4}\n",
            "x | Training hyperparameter set {'conditional': True, 'early_stopping_rounds': 100, 'kernel_size': 2, 'l2_reg': 0.001, 'learning_rate': 0.011043169286941868, 'max_epochs': 1000, 'nb_filters': 8, 'nb_layers': 4}\n",
            "x | Training hyperparameter set {'conditional': True, 'early_stopping_rounds': 100, 'kernel_size': 2, 'l2_reg': 0.001, 'learning_rate': 0.021192784841853086, 'max_epochs': 1000, 'nb_filters': 9, 'nb_layers': 4}\n",
            "x | Training hyperparameter set {'conditional': True, 'early_stopping_rounds': 100, 'kernel_size': 2, 'l2_reg': 0.001, 'learning_rate': 0.005392414611366372, 'max_epochs': 1000, 'nb_filters': 18, 'nb_layers': 4}\n",
            "x | Training hyperparameter set {'conditional': True, 'early_stopping_rounds': 100, 'kernel_size': 2, 'l2_reg': 0.001, 'learning_rate': 0.007499938141164497, 'max_epochs': 1000, 'nb_filters': 6, 'nb_layers': 4}\n",
            "x | Training hyperparameter set {'conditional': True, 'early_stopping_rounds': 100, 'kernel_size': 2, 'l2_reg': 0.001, 'learning_rate': 0.014147296097372695, 'max_epochs': 1000, 'nb_filters': 12, 'nb_layers': 4}\n",
            "x | Training hyperparameter set {'conditional': True, 'early_stopping_rounds': 100, 'kernel_size': 2, 'l2_reg': 0.001, 'learning_rate': 0.006622606210170473, 'max_epochs': 1000, 'nb_filters': 11, 'nb_layers': 4}\n",
            "x | Training hyperparameter set {'conditional': True, 'early_stopping_rounds': 100, 'kernel_size': 2, 'l2_reg': 0.001, 'learning_rate': 0.009186187909371398, 'max_epochs': 1000, 'nb_filters': 23, 'nb_layers': 4}\n",
            "x | Training hyperparameter set {'conditional': True, 'early_stopping_rounds': 100, 'kernel_size': 2, 'l2_reg': 0.001, 'learning_rate': 0.015162317530756633, 'max_epochs': 1000, 'nb_filters': 8, 'nb_layers': 4}\n",
            "x | Training hyperparameter set {'conditional': True, 'early_stopping_rounds': 100, 'kernel_size': 2, 'l2_reg': 0.001, 'learning_rate': 0.0012536105744209958, 'max_epochs': 1000, 'nb_filters': 14, 'nb_layers': 4}\n",
            "x | Training hyperparameter set {'conditional': True, 'early_stopping_rounds': 100, 'kernel_size': 2, 'l2_reg': 0.001, 'learning_rate': 0.031499251403362655, 'max_epochs': 1000, 'nb_filters': 7, 'nb_layers': 4}\n",
            "x | Training hyperparameter set {'conditional': True, 'early_stopping_rounds': 100, 'kernel_size': 2, 'l2_reg': 0.001, 'learning_rate': 0.022572652231752366, 'max_epochs': 1000, 'nb_filters': 13, 'nb_layers': 4}\n",
            "x | Training hyperparameter set {'conditional': True, 'early_stopping_rounds': 100, 'kernel_size': 2, 'l2_reg': 0.001, 'learning_rate': 0.018873187109611972, 'max_epochs': 1000, 'nb_filters': 21, 'nb_layers': 4}\n",
            "x | Training hyperparameter set {'conditional': True, 'early_stopping_rounds': 100, 'kernel_size': 2, 'l2_reg': 0.001, 'learning_rate': 0.00812853559706727, 'max_epochs': 1000, 'nb_filters': 16, 'nb_layers': 4}\n",
            "x | Training hyperparameter set {'conditional': True, 'early_stopping_rounds': 100, 'kernel_size': 2, 'l2_reg': 0.001, 'learning_rate': 0.03882093062994063, 'max_epochs': 1000, 'nb_filters': 17, 'nb_layers': 4}\n",
            "x | Training hyperparameter set {'conditional': True, 'early_stopping_rounds': 100, 'kernel_size': 2, 'l2_reg': 0.001, 'learning_rate': 0.0035177709822483676, 'max_epochs': 1000, 'nb_filters': 24, 'nb_layers': 4}\n",
            "x | Training hyperparameter set {'conditional': True, 'early_stopping_rounds': 100, 'kernel_size': 2, 'l2_reg': 0.001, 'learning_rate': 0.01731900068233682, 'max_epochs': 1000, 'nb_filters': 5, 'nb_layers': 4}\n",
            "x | Training hyperparameter set {'conditional': True, 'early_stopping_rounds': 100, 'kernel_size': 2, 'l2_reg': 0.001, 'learning_rate': 0.009962137513922512, 'max_epochs': 1000, 'nb_filters': 12, 'nb_layers': 4}\n",
            "x | Training hyperparameter set {'conditional': True, 'early_stopping_rounds': 100, 'kernel_size': 2, 'l2_reg': 0.001, 'learning_rate': 0.012532966694602113, 'max_epochs': 1000, 'nb_filters': 19, 'nb_layers': 4}\n",
            "x | Training hyperparameter set {'conditional': True, 'early_stopping_rounds': 100, 'kernel_size': 2, 'l2_reg': 0.001, 'learning_rate': 0.0021923406669882724, 'max_epochs': 1000, 'nb_filters': 9, 'nb_layers': 4}\n",
            "x | Training hyperparameter set {'conditional': True, 'early_stopping_rounds': 100, 'kernel_size': 2, 'l2_reg': 0.001, 'learning_rate': 0.045926298912329126, 'max_epochs': 1000, 'nb_filters': 8, 'nb_layers': 4}\n",
            "x | Training hyperparameter set {'conditional': True, 'early_stopping_rounds': 100, 'kernel_size': 2, 'l2_reg': 0.001, 'learning_rate': 0.001056305776527058, 'max_epochs': 1000, 'nb_filters': 24, 'nb_layers': 4}\n",
            "x | Training hyperparameter set {'conditional': True, 'early_stopping_rounds': 100, 'kernel_size': 2, 'l2_reg': 0.001, 'learning_rate': 0.0028557383270768947, 'max_epochs': 1000, 'nb_filters': 10, 'nb_layers': 4}\n",
            "x | Training hyperparameter set {'conditional': True, 'early_stopping_rounds': 100, 'kernel_size': 2, 'l2_reg': 0.001, 'learning_rate': 0.005601509082950239, 'max_epochs': 1000, 'nb_filters': 20, 'nb_layers': 4}\n",
            "x | Training hyperparameter set {'conditional': True, 'early_stopping_rounds': 100, 'kernel_size': 2, 'l2_reg': 0.001, 'learning_rate': 0.0050154571351216795, 'max_epochs': 1000, 'nb_filters': 6, 'nb_layers': 4}\n",
            "x | Training hyperparameter set {'conditional': True, 'early_stopping_rounds': 100, 'kernel_size': 2, 'l2_reg': 0.001, 'learning_rate': 0.004321048061546852, 'max_epochs': 1000, 'nb_filters': 23, 'nb_layers': 4}\n",
            "x | Training hyperparameter set {'conditional': True, 'early_stopping_rounds': 100, 'kernel_size': 2, 'l2_reg': 0.001, 'learning_rate': 0.011326209652942567, 'max_epochs': 1000, 'nb_filters': 11, 'nb_layers': 4}\n",
            "100%|██████████| 100/100 [01:19<00:00,  1.26it/s, best loss: 0.193]\n",
            "x | Training final model\n",
            "{'conditional': True, 'early_stopping_rounds': 100, 'kernel_size': 2, 'l2_reg': 0.001, 'learning_rate': 0.012659814576345524, 'max_epochs': 1000, 'nb_filters': 8, 'nb_layers': 4}\n",
            "3.74\n"
          ]
        }
      ],
      "source": [
        "target_index = 0\n",
        "c_hyperparams = {'conditional':True, 'nb_layers':4, 'kernel_size':2,\n",
        "        'nb_filters': hp.choice(\"nb_filters\", np.arange(5, 25, 1, dtype=int)),\n",
        "        'learning_rate': hp.loguniform(\"learning_rate\", np.log(0.001), np.log(0.05)), \n",
        "        'l2_reg': 0.001, 'max_epochs':1000, 'early_stopping_rounds':100 }\n",
        "cWaveNet = WaveNetWrapper(disable_cuda = True)\n",
        "cWaveNet.cross_validation(target_index = target_index, hyperparam_space=c_hyperparams, train=train_, val = val_, test = test_, \n",
        "            horizon = 200, period = 1, \n",
        "            cross_validation_objective='rmse', \n",
        "            cross_validation_objective_less_is_better=True,\n",
        "            max_evals=100)"
      ]
    },
    {
      "cell_type": "code",
      "execution_count": 23,
      "metadata": {
        "id": "DBnWm6ymzK5g",
        "colab": {
          "base_uri": "https://localhost:8080/"
        },
        "outputId": "88c636ee-1d20-4741-98cd-9982f5b11bf9"
      },
      "outputs": [
        {
          "output_type": "stream",
          "name": "stdout",
          "text": [
            "Saving model for x at ./cWaveNet0612_x\n",
            "Save Complete\n"
          ]
        }
      ],
      "source": [
        "cWaveNet.save('./cWaveNet0612_x')"
      ]
    },
    {
      "cell_type": "code",
      "execution_count": 24,
      "metadata": {
        "id": "0qudklflwhj1",
        "colab": {
          "base_uri": "https://localhost:8080/"
        },
        "outputId": "065d77d1-541c-4f79-d8cc-cfae4d4385e5"
      },
      "outputs": [
        {
          "output_type": "execute_result",
          "data": {
            "text/plain": [
              "rmse                             0.238\n",
              "num_timestamps_predicted_on    200.000\n",
              "dtype: float64"
            ]
          },
          "metadata": {},
          "execution_count": 24
        }
      ],
      "source": [
        "cWaveNet.mean_test_metrics"
      ]
    },
    {
      "cell_type": "code",
      "execution_count": 25,
      "metadata": {
        "id": "EVE1tlHe3Qiz",
        "colab": {
          "base_uri": "https://localhost:8080/"
        },
        "outputId": "ad693fd3-1c91-4968-ca83-e1049ed88562"
      },
      "outputs": [
        {
          "output_type": "stream",
          "name": "stdout",
          "text": [
            "x | Training hyperparameter set {'conditional': False, 'early_stopping_rounds': 100, 'kernel_size': 2, 'l2_reg': 0.001, 'learning_rate': 0.00648158548780485, 'max_epochs': 1000, 'nb_filters': 14, 'nb_layers': 4}\n",
            "x | Training hyperparameter set {'conditional': False, 'early_stopping_rounds': 100, 'kernel_size': 2, 'l2_reg': 0.001, 'learning_rate': 0.004155625412812358, 'max_epochs': 1000, 'nb_filters': 17, 'nb_layers': 4}\n",
            "x | Training hyperparameter set {'conditional': False, 'early_stopping_rounds': 100, 'kernel_size': 2, 'l2_reg': 0.001, 'learning_rate': 0.003174676969109308, 'max_epochs': 1000, 'nb_filters': 10, 'nb_layers': 4}\n",
            "x | Training hyperparameter set {'conditional': False, 'early_stopping_rounds': 100, 'kernel_size': 2, 'l2_reg': 0.001, 'learning_rate': 0.002008186241283632, 'max_epochs': 1000, 'nb_filters': 12, 'nb_layers': 4}\n",
            "x | Training hyperparameter set {'conditional': False, 'early_stopping_rounds': 100, 'kernel_size': 2, 'l2_reg': 0.001, 'learning_rate': 0.0016486450509058588, 'max_epochs': 1000, 'nb_filters': 10, 'nb_layers': 4}\n",
            "x | Training hyperparameter set {'conditional': False, 'early_stopping_rounds': 100, 'kernel_size': 2, 'l2_reg': 0.001, 'learning_rate': 0.0015718803339957262, 'max_epochs': 1000, 'nb_filters': 5, 'nb_layers': 4}\n",
            "x | Training hyperparameter set {'conditional': False, 'early_stopping_rounds': 100, 'kernel_size': 2, 'l2_reg': 0.001, 'learning_rate': 0.007152075531069564, 'max_epochs': 1000, 'nb_filters': 12, 'nb_layers': 4}\n",
            "x | Training hyperparameter set {'conditional': False, 'early_stopping_rounds': 100, 'kernel_size': 2, 'l2_reg': 0.001, 'learning_rate': 0.009121030625028195, 'max_epochs': 1000, 'nb_filters': 15, 'nb_layers': 4}\n",
            "x | Training hyperparameter set {'conditional': False, 'early_stopping_rounds': 100, 'kernel_size': 2, 'l2_reg': 0.001, 'learning_rate': 0.01972665585358734, 'max_epochs': 1000, 'nb_filters': 6, 'nb_layers': 4}\n",
            "x | Training hyperparameter set {'conditional': False, 'early_stopping_rounds': 100, 'kernel_size': 2, 'l2_reg': 0.001, 'learning_rate': 0.009714809005249039, 'max_epochs': 1000, 'nb_filters': 14, 'nb_layers': 4}\n",
            "x | Training hyperparameter set {'conditional': False, 'early_stopping_rounds': 100, 'kernel_size': 2, 'l2_reg': 0.001, 'learning_rate': 0.00964777193377, 'max_epochs': 1000, 'nb_filters': 12, 'nb_layers': 4}\n",
            "x | Training hyperparameter set {'conditional': False, 'early_stopping_rounds': 100, 'kernel_size': 2, 'l2_reg': 0.001, 'learning_rate': 0.0011560920732886463, 'max_epochs': 1000, 'nb_filters': 5, 'nb_layers': 4}\n",
            "x | Training hyperparameter set {'conditional': False, 'early_stopping_rounds': 100, 'kernel_size': 2, 'l2_reg': 0.001, 'learning_rate': 0.01007052182270146, 'max_epochs': 1000, 'nb_filters': 5, 'nb_layers': 4}\n",
            "x | Training hyperparameter set {'conditional': False, 'early_stopping_rounds': 100, 'kernel_size': 2, 'l2_reg': 0.001, 'learning_rate': 0.005087010519330647, 'max_epochs': 1000, 'nb_filters': 14, 'nb_layers': 4}\n",
            "x | Training hyperparameter set {'conditional': False, 'early_stopping_rounds': 100, 'kernel_size': 2, 'l2_reg': 0.001, 'learning_rate': 0.003562438299415574, 'max_epochs': 1000, 'nb_filters': 14, 'nb_layers': 4}\n",
            "x | Training hyperparameter set {'conditional': False, 'early_stopping_rounds': 100, 'kernel_size': 2, 'l2_reg': 0.001, 'learning_rate': 0.0012574470859437103, 'max_epochs': 1000, 'nb_filters': 13, 'nb_layers': 4}\n",
            "x | Training hyperparameter set {'conditional': False, 'early_stopping_rounds': 100, 'kernel_size': 2, 'l2_reg': 0.001, 'learning_rate': 0.0017992637140848988, 'max_epochs': 1000, 'nb_filters': 15, 'nb_layers': 4}\n",
            "x | Training hyperparameter set {'conditional': False, 'early_stopping_rounds': 100, 'kernel_size': 2, 'l2_reg': 0.001, 'learning_rate': 0.008482517647135564, 'max_epochs': 1000, 'nb_filters': 15, 'nb_layers': 4}\n",
            "x | Training hyperparameter set {'conditional': False, 'early_stopping_rounds': 100, 'kernel_size': 2, 'l2_reg': 0.001, 'learning_rate': 0.020012625794173088, 'max_epochs': 1000, 'nb_filters': 21, 'nb_layers': 4}\n",
            "x | Training hyperparameter set {'conditional': False, 'early_stopping_rounds': 100, 'kernel_size': 2, 'l2_reg': 0.001, 'learning_rate': 0.008142968322207183, 'max_epochs': 1000, 'nb_filters': 20, 'nb_layers': 4}\n",
            "x | Training hyperparameter set {'conditional': False, 'early_stopping_rounds': 100, 'kernel_size': 2, 'l2_reg': 0.001, 'learning_rate': 0.0023494192155617865, 'max_epochs': 1000, 'nb_filters': 11, 'nb_layers': 4}\n",
            "x | Training hyperparameter set {'conditional': False, 'early_stopping_rounds': 100, 'kernel_size': 2, 'l2_reg': 0.001, 'learning_rate': 0.0023382771718678747, 'max_epochs': 1000, 'nb_filters': 18, 'nb_layers': 4}\n",
            "x | Training hyperparameter set {'conditional': False, 'early_stopping_rounds': 100, 'kernel_size': 2, 'l2_reg': 0.001, 'learning_rate': 0.03688625466920618, 'max_epochs': 1000, 'nb_filters': 24, 'nb_layers': 4}\n",
            "x | Training hyperparameter set {'conditional': False, 'early_stopping_rounds': 100, 'kernel_size': 2, 'l2_reg': 0.001, 'learning_rate': 0.001046258001925081, 'max_epochs': 1000, 'nb_filters': 7, 'nb_layers': 4}\n",
            "x | Training hyperparameter set {'conditional': False, 'early_stopping_rounds': 100, 'kernel_size': 2, 'l2_reg': 0.001, 'learning_rate': 0.002398165183782647, 'max_epochs': 1000, 'nb_filters': 19, 'nb_layers': 4}\n",
            "x | Training hyperparameter set {'conditional': False, 'early_stopping_rounds': 100, 'kernel_size': 2, 'l2_reg': 0.001, 'learning_rate': 0.0018746125447442479, 'max_epochs': 1000, 'nb_filters': 16, 'nb_layers': 4}\n",
            "x | Training hyperparameter set {'conditional': False, 'early_stopping_rounds': 100, 'kernel_size': 2, 'l2_reg': 0.001, 'learning_rate': 0.0010211381920911858, 'max_epochs': 1000, 'nb_filters': 8, 'nb_layers': 4}\n",
            "x | Training hyperparameter set {'conditional': False, 'early_stopping_rounds': 100, 'kernel_size': 2, 'l2_reg': 0.001, 'learning_rate': 0.0014464289722979269, 'max_epochs': 1000, 'nb_filters': 9, 'nb_layers': 4}\n",
            "x | Training hyperparameter set {'conditional': False, 'early_stopping_rounds': 100, 'kernel_size': 2, 'l2_reg': 0.001, 'learning_rate': 0.005431877524782813, 'max_epochs': 1000, 'nb_filters': 23, 'nb_layers': 4}\n",
            "x | Training hyperparameter set {'conditional': False, 'early_stopping_rounds': 100, 'kernel_size': 2, 'l2_reg': 0.001, 'learning_rate': 0.0030733904497674434, 'max_epochs': 1000, 'nb_filters': 10, 'nb_layers': 4}\n",
            "x | Training hyperparameter set {'conditional': False, 'early_stopping_rounds': 100, 'kernel_size': 2, 'l2_reg': 0.001, 'learning_rate': 0.014470269378905899, 'max_epochs': 1000, 'nb_filters': 22, 'nb_layers': 4}\n",
            "x | Training hyperparameter set {'conditional': False, 'early_stopping_rounds': 100, 'kernel_size': 2, 'l2_reg': 0.001, 'learning_rate': 0.004294104550073196, 'max_epochs': 1000, 'nb_filters': 10, 'nb_layers': 4}\n",
            "x | Training hyperparameter set {'conditional': False, 'early_stopping_rounds': 100, 'kernel_size': 2, 'l2_reg': 0.001, 'learning_rate': 0.0028734949977922497, 'max_epochs': 1000, 'nb_filters': 17, 'nb_layers': 4}\n",
            "x | Training hyperparameter set {'conditional': False, 'early_stopping_rounds': 100, 'kernel_size': 2, 'l2_reg': 0.001, 'learning_rate': 0.0018275342798012237, 'max_epochs': 1000, 'nb_filters': 12, 'nb_layers': 4}\n",
            "x | Training hyperparameter set {'conditional': False, 'early_stopping_rounds': 100, 'kernel_size': 2, 'l2_reg': 0.001, 'learning_rate': 0.04136544408322879, 'max_epochs': 1000, 'nb_filters': 10, 'nb_layers': 4}\n",
            "x | Training hyperparameter set {'conditional': False, 'early_stopping_rounds': 100, 'kernel_size': 2, 'l2_reg': 0.001, 'learning_rate': 0.001380538785315027, 'max_epochs': 1000, 'nb_filters': 12, 'nb_layers': 4}\n",
            "x | Training hyperparameter set {'conditional': False, 'early_stopping_rounds': 100, 'kernel_size': 2, 'l2_reg': 0.001, 'learning_rate': 0.006094429802646269, 'max_epochs': 1000, 'nb_filters': 8, 'nb_layers': 4}\n",
            "x | Training hyperparameter set {'conditional': False, 'early_stopping_rounds': 100, 'kernel_size': 2, 'l2_reg': 0.001, 'learning_rate': 0.0036641644500387655, 'max_epochs': 1000, 'nb_filters': 6, 'nb_layers': 4}\n",
            "x | Training hyperparameter set {'conditional': False, 'early_stopping_rounds': 100, 'kernel_size': 2, 'l2_reg': 0.001, 'learning_rate': 0.004502782281942197, 'max_epochs': 1000, 'nb_filters': 20, 'nb_layers': 4}\n",
            "x | Training hyperparameter set {'conditional': False, 'early_stopping_rounds': 100, 'kernel_size': 2, 'l2_reg': 0.001, 'learning_rate': 0.012640589517655457, 'max_epochs': 1000, 'nb_filters': 9, 'nb_layers': 4}\n",
            "x | Training hyperparameter set {'conditional': False, 'early_stopping_rounds': 100, 'kernel_size': 2, 'l2_reg': 0.001, 'learning_rate': 0.0017048054129522236, 'max_epochs': 1000, 'nb_filters': 21, 'nb_layers': 4}\n",
            "x | Training hyperparameter set {'conditional': False, 'early_stopping_rounds': 100, 'kernel_size': 2, 'l2_reg': 0.001, 'learning_rate': 0.0026718301315978225, 'max_epochs': 1000, 'nb_filters': 11, 'nb_layers': 4}\n",
            "x | Training hyperparameter set {'conditional': False, 'early_stopping_rounds': 100, 'kernel_size': 2, 'l2_reg': 0.001, 'learning_rate': 0.025410060998539135, 'max_epochs': 1000, 'nb_filters': 12, 'nb_layers': 4}\n",
            "x | Training hyperparameter set {'conditional': False, 'early_stopping_rounds': 100, 'kernel_size': 2, 'l2_reg': 0.001, 'learning_rate': 0.00209317082037299, 'max_epochs': 1000, 'nb_filters': 22, 'nb_layers': 4}\n",
            "x | Training hyperparameter set {'conditional': False, 'early_stopping_rounds': 100, 'kernel_size': 2, 'l2_reg': 0.001, 'learning_rate': 0.0011746015864148194, 'max_epochs': 1000, 'nb_filters': 13, 'nb_layers': 4}\n",
            "x | Training hyperparameter set {'conditional': False, 'early_stopping_rounds': 100, 'kernel_size': 2, 'l2_reg': 0.001, 'learning_rate': 0.0037595656089435955, 'max_epochs': 1000, 'nb_filters': 24, 'nb_layers': 4}\n",
            "x | Training hyperparameter set {'conditional': False, 'early_stopping_rounds': 100, 'kernel_size': 2, 'l2_reg': 0.001, 'learning_rate': 0.0014510188839870898, 'max_epochs': 1000, 'nb_filters': 18, 'nb_layers': 4}\n",
            "x | Training hyperparameter set {'conditional': False, 'early_stopping_rounds': 100, 'kernel_size': 2, 'l2_reg': 0.001, 'learning_rate': 0.007299677485168599, 'max_epochs': 1000, 'nb_filters': 7, 'nb_layers': 4}\n",
            "x | Training hyperparameter set {'conditional': False, 'early_stopping_rounds': 100, 'kernel_size': 2, 'l2_reg': 0.001, 'learning_rate': 0.00629792568670236, 'max_epochs': 1000, 'nb_filters': 19, 'nb_layers': 4}\n",
            "x | Training hyperparameter set {'conditional': False, 'early_stopping_rounds': 100, 'kernel_size': 2, 'l2_reg': 0.001, 'learning_rate': 0.005235118762181762, 'max_epochs': 1000, 'nb_filters': 23, 'nb_layers': 4}\n",
            "x | Training hyperparameter set {'conditional': False, 'early_stopping_rounds': 100, 'kernel_size': 2, 'l2_reg': 0.001, 'learning_rate': 0.011561727839275946, 'max_epochs': 1000, 'nb_filters': 16, 'nb_layers': 4}\n",
            "x | Training hyperparameter set {'conditional': False, 'early_stopping_rounds': 100, 'kernel_size': 2, 'l2_reg': 0.001, 'learning_rate': 0.003254620170879457, 'max_epochs': 1000, 'nb_filters': 10, 'nb_layers': 4}\n",
            "x | Training hyperparameter set {'conditional': False, 'early_stopping_rounds': 100, 'kernel_size': 2, 'l2_reg': 0.001, 'learning_rate': 0.0010630971539885559, 'max_epochs': 1000, 'nb_filters': 5, 'nb_layers': 4}\n",
            "x | Training hyperparameter set {'conditional': False, 'early_stopping_rounds': 100, 'kernel_size': 2, 'l2_reg': 0.001, 'learning_rate': 0.0015941762664178076, 'max_epochs': 1000, 'nb_filters': 6, 'nb_layers': 4}\n",
            "x | Training hyperparameter set {'conditional': False, 'early_stopping_rounds': 100, 'kernel_size': 2, 'l2_reg': 0.001, 'learning_rate': 0.002174109427707277, 'max_epochs': 1000, 'nb_filters': 14, 'nb_layers': 4}\n",
            "x | Training hyperparameter set {'conditional': False, 'early_stopping_rounds': 100, 'kernel_size': 2, 'l2_reg': 0.001, 'learning_rate': 0.0012750167719285182, 'max_epochs': 1000, 'nb_filters': 17, 'nb_layers': 4}\n",
            "x | Training hyperparameter set {'conditional': False, 'early_stopping_rounds': 100, 'kernel_size': 2, 'l2_reg': 0.001, 'learning_rate': 0.002602879884373688, 'max_epochs': 1000, 'nb_filters': 12, 'nb_layers': 4}\n",
            "x | Training hyperparameter set {'conditional': False, 'early_stopping_rounds': 100, 'kernel_size': 2, 'l2_reg': 0.001, 'learning_rate': 0.02730391992335561, 'max_epochs': 1000, 'nb_filters': 13, 'nb_layers': 4}\n",
            "x | Training hyperparameter set {'conditional': False, 'early_stopping_rounds': 100, 'kernel_size': 2, 'l2_reg': 0.001, 'learning_rate': 0.030565824330045142, 'max_epochs': 1000, 'nb_filters': 13, 'nb_layers': 4}\n",
            "x | Training hyperparameter set {'conditional': False, 'early_stopping_rounds': 100, 'kernel_size': 2, 'l2_reg': 0.001, 'learning_rate': 0.020594095332570332, 'max_epochs': 1000, 'nb_filters': 13, 'nb_layers': 4}\n",
            "x | Training hyperparameter set {'conditional': False, 'early_stopping_rounds': 100, 'kernel_size': 2, 'l2_reg': 0.001, 'learning_rate': 0.01658294334172625, 'max_epochs': 1000, 'nb_filters': 15, 'nb_layers': 4}\n",
            "x | Training hyperparameter set {'conditional': False, 'early_stopping_rounds': 100, 'kernel_size': 2, 'l2_reg': 0.001, 'learning_rate': 0.031132085353363224, 'max_epochs': 1000, 'nb_filters': 13, 'nb_layers': 4}\n",
            "x | Training hyperparameter set {'conditional': False, 'early_stopping_rounds': 100, 'kernel_size': 2, 'l2_reg': 0.001, 'learning_rate': 0.044728359337883765, 'max_epochs': 1000, 'nb_filters': 21, 'nb_layers': 4}\n",
            "x | Training hyperparameter set {'conditional': False, 'early_stopping_rounds': 100, 'kernel_size': 2, 'l2_reg': 0.001, 'learning_rate': 0.02357885462622792, 'max_epochs': 1000, 'nb_filters': 18, 'nb_layers': 4}\n",
            "x | Training hyperparameter set {'conditional': False, 'early_stopping_rounds': 100, 'kernel_size': 2, 'l2_reg': 0.001, 'learning_rate': 0.049181110387216766, 'max_epochs': 1000, 'nb_filters': 20, 'nb_layers': 4}\n",
            "x | Training hyperparameter set {'conditional': False, 'early_stopping_rounds': 100, 'kernel_size': 2, 'l2_reg': 0.001, 'learning_rate': 0.01058998773075913, 'max_epochs': 1000, 'nb_filters': 10, 'nb_layers': 4}\n",
            "x | Training hyperparameter set {'conditional': False, 'early_stopping_rounds': 100, 'kernel_size': 2, 'l2_reg': 0.001, 'learning_rate': 0.016799796684357583, 'max_epochs': 1000, 'nb_filters': 11, 'nb_layers': 4}\n",
            "x | Training hyperparameter set {'conditional': False, 'early_stopping_rounds': 100, 'kernel_size': 2, 'l2_reg': 0.001, 'learning_rate': 0.0019998070849426585, 'max_epochs': 1000, 'nb_filters': 12, 'nb_layers': 4}\n",
            "x | Training hyperparameter set {'conditional': False, 'early_stopping_rounds': 100, 'kernel_size': 2, 'l2_reg': 0.001, 'learning_rate': 0.009168721717827828, 'max_epochs': 1000, 'nb_filters': 8, 'nb_layers': 4}\n",
            "x | Training hyperparameter set {'conditional': False, 'early_stopping_rounds': 100, 'kernel_size': 2, 'l2_reg': 0.001, 'learning_rate': 0.03541112306590546, 'max_epochs': 1000, 'nb_filters': 24, 'nb_layers': 4}\n",
            "x | Training hyperparameter set {'conditional': False, 'early_stopping_rounds': 100, 'kernel_size': 2, 'l2_reg': 0.001, 'learning_rate': 0.03619200508126887, 'max_epochs': 1000, 'nb_filters': 24, 'nb_layers': 4}\n",
            "x | Training hyperparameter set {'conditional': False, 'early_stopping_rounds': 100, 'kernel_size': 2, 'l2_reg': 0.001, 'learning_rate': 0.02726909760547261, 'max_epochs': 1000, 'nb_filters': 9, 'nb_layers': 4}\n",
            "x | Training hyperparameter set {'conditional': False, 'early_stopping_rounds': 100, 'kernel_size': 2, 'l2_reg': 0.001, 'learning_rate': 0.04936459924571727, 'max_epochs': 1000, 'nb_filters': 24, 'nb_layers': 4}\n",
            "x | Training hyperparameter set {'conditional': False, 'early_stopping_rounds': 100, 'kernel_size': 2, 'l2_reg': 0.001, 'learning_rate': 0.03791697677053625, 'max_epochs': 1000, 'nb_filters': 24, 'nb_layers': 4}\n",
            "x | Training hyperparameter set {'conditional': False, 'early_stopping_rounds': 100, 'kernel_size': 2, 'l2_reg': 0.001, 'learning_rate': 0.0379781530662498, 'max_epochs': 1000, 'nb_filters': 24, 'nb_layers': 4}\n",
            "x | Training hyperparameter set {'conditional': False, 'early_stopping_rounds': 100, 'kernel_size': 2, 'l2_reg': 0.001, 'learning_rate': 0.022111303243824747, 'max_epochs': 1000, 'nb_filters': 24, 'nb_layers': 4}\n",
            "x | Training hyperparameter set {'conditional': False, 'early_stopping_rounds': 100, 'kernel_size': 2, 'l2_reg': 0.001, 'learning_rate': 0.031654356690330974, 'max_epochs': 1000, 'nb_filters': 24, 'nb_layers': 4}\n",
            "x | Training hyperparameter set {'conditional': False, 'early_stopping_rounds': 100, 'kernel_size': 2, 'l2_reg': 0.001, 'learning_rate': 0.01341996744818131, 'max_epochs': 1000, 'nb_filters': 7, 'nb_layers': 4}\n",
            "x | Training hyperparameter set {'conditional': False, 'early_stopping_rounds': 100, 'kernel_size': 2, 'l2_reg': 0.001, 'learning_rate': 0.018329581051760812, 'max_epochs': 1000, 'nb_filters': 24, 'nb_layers': 4}\n",
            "x | Training hyperparameter set {'conditional': False, 'early_stopping_rounds': 100, 'kernel_size': 2, 'l2_reg': 0.001, 'learning_rate': 0.0412020459026784, 'max_epochs': 1000, 'nb_filters': 19, 'nb_layers': 4}\n",
            "x | Training hyperparameter set {'conditional': False, 'early_stopping_rounds': 100, 'kernel_size': 2, 'l2_reg': 0.001, 'learning_rate': 0.028669515406178698, 'max_epochs': 1000, 'nb_filters': 16, 'nb_layers': 4}\n",
            "x | Training hyperparameter set {'conditional': False, 'early_stopping_rounds': 100, 'kernel_size': 2, 'l2_reg': 0.001, 'learning_rate': 0.01593394926470432, 'max_epochs': 1000, 'nb_filters': 23, 'nb_layers': 4}\n",
            "x | Training hyperparameter set {'conditional': False, 'early_stopping_rounds': 100, 'kernel_size': 2, 'l2_reg': 0.001, 'learning_rate': 0.014995863534695182, 'max_epochs': 1000, 'nb_filters': 23, 'nb_layers': 4}\n",
            "x | Training hyperparameter set {'conditional': False, 'early_stopping_rounds': 100, 'kernel_size': 2, 'l2_reg': 0.001, 'learning_rate': 0.03534271782484659, 'max_epochs': 1000, 'nb_filters': 5, 'nb_layers': 4}\n",
            "x | Training hyperparameter set {'conditional': False, 'early_stopping_rounds': 100, 'kernel_size': 2, 'l2_reg': 0.001, 'learning_rate': 0.04473842204096417, 'max_epochs': 1000, 'nb_filters': 22, 'nb_layers': 4}\n",
            "x | Training hyperparameter set {'conditional': False, 'early_stopping_rounds': 100, 'kernel_size': 2, 'l2_reg': 0.001, 'learning_rate': 0.007965750696799187, 'max_epochs': 1000, 'nb_filters': 23, 'nb_layers': 4}\n",
            "x | Training hyperparameter set {'conditional': False, 'early_stopping_rounds': 100, 'kernel_size': 2, 'l2_reg': 0.001, 'learning_rate': 0.018453726532911986, 'max_epochs': 1000, 'nb_filters': 17, 'nb_layers': 4}\n",
            "x | Training hyperparameter set {'conditional': False, 'early_stopping_rounds': 100, 'kernel_size': 2, 'l2_reg': 0.001, 'learning_rate': 0.02327904339350328, 'max_epochs': 1000, 'nb_filters': 23, 'nb_layers': 4}\n",
            "x | Training hyperparameter set {'conditional': False, 'early_stopping_rounds': 100, 'kernel_size': 2, 'l2_reg': 0.001, 'learning_rate': 0.02530841077865023, 'max_epochs': 1000, 'nb_filters': 23, 'nb_layers': 4}\n",
            "x | Training hyperparameter set {'conditional': False, 'early_stopping_rounds': 100, 'kernel_size': 2, 'l2_reg': 0.001, 'learning_rate': 0.03387466678350007, 'max_epochs': 1000, 'nb_filters': 13, 'nb_layers': 4}\n",
            "x | Training hyperparameter set {'conditional': False, 'early_stopping_rounds': 100, 'kernel_size': 2, 'l2_reg': 0.001, 'learning_rate': 0.02690436484303678, 'max_epochs': 1000, 'nb_filters': 15, 'nb_layers': 4}\n",
            "x | Training hyperparameter set {'conditional': False, 'early_stopping_rounds': 100, 'kernel_size': 2, 'l2_reg': 0.001, 'learning_rate': 0.011533855497496727, 'max_epochs': 1000, 'nb_filters': 14, 'nb_layers': 4}\n",
            "x | Training hyperparameter set {'conditional': False, 'early_stopping_rounds': 100, 'kernel_size': 2, 'l2_reg': 0.001, 'learning_rate': 0.015323155671091842, 'max_epochs': 1000, 'nb_filters': 6, 'nb_layers': 4}\n",
            "x | Training hyperparameter set {'conditional': False, 'early_stopping_rounds': 100, 'kernel_size': 2, 'l2_reg': 0.001, 'learning_rate': 0.041860420520499465, 'max_epochs': 1000, 'nb_filters': 24, 'nb_layers': 4}\n",
            "x | Training hyperparameter set {'conditional': False, 'early_stopping_rounds': 100, 'kernel_size': 2, 'l2_reg': 0.001, 'learning_rate': 0.013007711062784102, 'max_epochs': 1000, 'nb_filters': 8, 'nb_layers': 4}\n",
            "x | Training hyperparameter set {'conditional': False, 'early_stopping_rounds': 100, 'kernel_size': 2, 'l2_reg': 0.001, 'learning_rate': 0.0209041978803868, 'max_epochs': 1000, 'nb_filters': 13, 'nb_layers': 4}\n",
            "x | Training hyperparameter set {'conditional': False, 'early_stopping_rounds': 100, 'kernel_size': 2, 'l2_reg': 0.001, 'learning_rate': 0.017863184969913605, 'max_epochs': 1000, 'nb_filters': 21, 'nb_layers': 4}\n",
            "x | Training hyperparameter set {'conditional': False, 'early_stopping_rounds': 100, 'kernel_size': 2, 'l2_reg': 0.001, 'learning_rate': 0.049927640000239124, 'max_epochs': 1000, 'nb_filters': 18, 'nb_layers': 4}\n",
            "x | Training hyperparameter set {'conditional': False, 'early_stopping_rounds': 100, 'kernel_size': 2, 'l2_reg': 0.001, 'learning_rate': 0.04869426097132904, 'max_epochs': 1000, 'nb_filters': 18, 'nb_layers': 4}\n",
            "x | Training hyperparameter set {'conditional': False, 'early_stopping_rounds': 100, 'kernel_size': 2, 'l2_reg': 0.001, 'learning_rate': 0.005781240790472054, 'max_epochs': 1000, 'nb_filters': 18, 'nb_layers': 4}\n",
            "100%|██████████| 100/100 [01:21<00:00,  1.23it/s, best loss: 0.191]\n",
            "x | Training final model\n",
            "{'conditional': False, 'early_stopping_rounds': 100, 'kernel_size': 2, 'l2_reg': 0.001, 'learning_rate': 0.03791697677053625, 'max_epochs': 1000, 'nb_filters': 24, 'nb_layers': 4}\n",
            "4.48\n"
          ]
        }
      ],
      "source": [
        "target_index = 0\n",
        "u_hyperparams = {'conditional':False, 'nb_layers':4, 'kernel_size':2,\n",
        "        'nb_filters': hp.choice(\"nb_filters\", np.arange(5, 25, 1, dtype=int)),\n",
        "        'learning_rate': hp.loguniform(\"learning_rate\", np.log(0.001), np.log(0.05)), \n",
        "        'l2_reg': 0.001, 'max_epochs':1000, 'early_stopping_rounds':100 }\n",
        "uWaveNet = WaveNetWrapper(disable_cuda = True)\n",
        "uWaveNet.cross_validation(target_index=target_index, hyperparam_space=u_hyperparams, train=train_, val = val_, test = test_, \n",
        "            horizon = 200, period = 1, \n",
        "            cross_validation_objective='rmse', \n",
        "            cross_validation_objective_less_is_better=True,\n",
        "            max_evals=100)"
      ]
    },
    {
      "cell_type": "code",
      "execution_count": 26,
      "metadata": {
        "id": "456ROlH53vNM",
        "colab": {
          "base_uri": "https://localhost:8080/"
        },
        "outputId": "4c5e121e-ef17-428f-84f6-51a1d9c1be08"
      },
      "outputs": [
        {
          "output_type": "stream",
          "name": "stdout",
          "text": [
            "Saving model for x at ./uWaveNet0612_x\n",
            "Save Complete\n"
          ]
        }
      ],
      "source": [
        "uWaveNet.save('./uWaveNet0612_x')"
      ]
    },
    {
      "cell_type": "code",
      "execution_count": 27,
      "metadata": {
        "id": "OSq2uQJJ35Xl",
        "colab": {
          "base_uri": "https://localhost:8080/"
        },
        "outputId": "efc0c1c7-67e4-410e-ac83-b88e579ba651"
      },
      "outputs": [
        {
          "output_type": "execute_result",
          "data": {
            "text/plain": [
              "rmse                             0.244\n",
              "num_timestamps_predicted_on    200.000\n",
              "dtype: float64"
            ]
          },
          "metadata": {},
          "execution_count": 27
        }
      ],
      "source": [
        "uWaveNet.mean_test_metrics"
      ]
    },
    {
      "cell_type": "code",
      "execution_count": 29,
      "metadata": {
        "id": "OlQel5ObNF2b",
        "colab": {
          "base_uri": "https://localhost:8080/",
          "height": 352
        },
        "outputId": "289e7fe1-688d-4244-a109-030c1d7d5a8f"
      },
      "outputs": [
        {
          "output_type": "stream",
          "name": "stdout",
          "text": [
            "rmse                             0.313\n",
            "num_timestamps_predicted_on    500.000\n",
            "dtype: float64 rmse                             0.227\n",
            "num_timestamps_predicted_on    500.000\n",
            "dtype: float64\n"
          ]
        },
        {
          "output_type": "display_data",
          "data": {
            "text/plain": [
              "<Figure size 432x288 with 1 Axes>"
            ],
            "image/png": "[encoded data removed]"
          },
          "metadata": {
            "needs_background": "light"
          }
        }
      ],
      "source": [
        "target_index = 0\n",
        "iterations = 1000\n",
        "c_predict = 0\n",
        "u_predict = 0\n",
        "c_rmse = 0\n",
        "u_rmse = 0\n",
        "\n",
        "for item in range(0,iterations):\n",
        "\n",
        "  c_pre_result = cWaveNet.predict(train_val, target_index = target_index, hps = cWaveNet.best_hyperparams, horizon = 500)\n",
        "  u_pre_result = uWaveNet.predict(train_val, target_index = target_index, hps = uWaveNet.best_hyperparams, horizon = 500)\n",
        "  c_predict = c_predict + c_pre_result\n",
        "  u_predict = u_predict + u_pre_result\n",
        "  c_metrics_result = cWaveNet.calculate_train_and_forecast_metrics(train = train_val, oos = test_, target_index=target_index, hps = cWaveNet.best_hyperparams, horizon = 500)\n",
        "  u_metrics_result = uWaveNet.calculate_train_and_forecast_metrics(train = train_val, oos = test_, target_index=target_index, hps = uWaveNet.best_hyperparams, horizon = 500)\n",
        "  c_rmse = c_rmse + c_metrics_result[1]\n",
        "  u_rmse = u_rmse + u_metrics_result[1]\n",
        "\n",
        "x1 = np.arange(len(data_x))\n",
        "x2 = np.arange(len(c_pre_result))+1000\n",
        "\n",
        "c_predict = c_predict/iterations\n",
        "u_predict = u_predict/iterations\n",
        "plt.plot(x1,data_x,'g-')\n",
        "plt.plot(x2,c_predict,'b--')\n",
        "plt.plot(x2,u_predict,'r-')\n",
        "\n",
        "\n",
        "c_rmse_result = c_rmse/iterations\n",
        "u_rmse_result = u_rmse/iterations\n",
        "print(c_rmse_result, u_rmse_result)"
      ]
    },
    {
      "cell_type": "code",
      "execution_count": null,
      "metadata": {
        "id": "IsmXAv0twlcy"
      },
      "outputs": [],
      "source": [
        "with open('./x_model.p', 'rb') as f:\n",
        "  abc = pickle.load(f)"
      ]
    },
    {
      "cell_type": "markdown",
      "metadata": {
        "id": "GSm-W1aewiNR"
      },
      "source": [
        ""
      ]
    },
    {
      "cell_type": "markdown",
      "metadata": {
        "id": "UwyFvF9CuiRs"
      },
      "source": [
        "##train cWaveNet_y & uWaveNet_y"
      ]
    },
    {
      "cell_type": "code",
      "execution_count": null,
      "metadata": {
        "colab": {
          "base_uri": "https://localhost:8080/"
        },
        "id": "hoo9B3G6uovz",
        "outputId": "3417ad96-9e16-442d-e456-7bb6a6b502d4"
      },
      "outputs": [
        {
          "output_type": "stream",
          "name": "stdout",
          "text": [
            "y | Training hyperparameter set {'conditional': True, 'early_stopping_rounds': 100, 'kernel_size': 2, 'l2_reg': 0.001, 'learning_rate': 0.0055701578236190576, 'max_epochs': 1000, 'nb_filters': 22, 'nb_layers': 4}\n",
            "y | Training hyperparameter set {'conditional': True, 'early_stopping_rounds': 100, 'kernel_size': 2, 'l2_reg': 0.001, 'learning_rate': 0.008704097813308883, 'max_epochs': 1000, 'nb_filters': 19, 'nb_layers': 4}\n",
            "y | Training hyperparameter set {'conditional': True, 'early_stopping_rounds': 100, 'kernel_size': 2, 'l2_reg': 0.001, 'learning_rate': 0.0011271219515308103, 'max_epochs': 1000, 'nb_filters': 12, 'nb_layers': 4}\n",
            "y | Training hyperparameter set {'conditional': True, 'early_stopping_rounds': 100, 'kernel_size': 2, 'l2_reg': 0.001, 'learning_rate': 0.031526608979298924, 'max_epochs': 1000, 'nb_filters': 15, 'nb_layers': 4}\n",
            "y | Training hyperparameter set {'conditional': True, 'early_stopping_rounds': 100, 'kernel_size': 2, 'l2_reg': 0.001, 'learning_rate': 0.0029334389359727603, 'max_epochs': 1000, 'nb_filters': 10, 'nb_layers': 4}\n",
            "y | Training hyperparameter set {'conditional': True, 'early_stopping_rounds': 100, 'kernel_size': 2, 'l2_reg': 0.001, 'learning_rate': 0.017534634028556657, 'max_epochs': 1000, 'nb_filters': 16, 'nb_layers': 4}\n",
            "y | Training hyperparameter set {'conditional': True, 'early_stopping_rounds': 100, 'kernel_size': 2, 'l2_reg': 0.001, 'learning_rate': 0.006787106152234846, 'max_epochs': 1000, 'nb_filters': 10, 'nb_layers': 4}\n",
            "y | Training hyperparameter set {'conditional': True, 'early_stopping_rounds': 100, 'kernel_size': 2, 'l2_reg': 0.001, 'learning_rate': 0.005384683052728311, 'max_epochs': 1000, 'nb_filters': 12, 'nb_layers': 4}\n",
            "y | Training hyperparameter set {'conditional': True, 'early_stopping_rounds': 100, 'kernel_size': 2, 'l2_reg': 0.001, 'learning_rate': 0.003663921956026087, 'max_epochs': 1000, 'nb_filters': 14, 'nb_layers': 4}\n",
            "y | Training hyperparameter set {'conditional': True, 'early_stopping_rounds': 100, 'kernel_size': 2, 'l2_reg': 0.001, 'learning_rate': 0.01875195350571283, 'max_epochs': 1000, 'nb_filters': 16, 'nb_layers': 4}\n",
            "y | Training hyperparameter set {'conditional': True, 'early_stopping_rounds': 100, 'kernel_size': 2, 'l2_reg': 0.001, 'learning_rate': 0.030484021940327878, 'max_epochs': 1000, 'nb_filters': 12, 'nb_layers': 4}\n",
            "y | Training hyperparameter set {'conditional': True, 'early_stopping_rounds': 100, 'kernel_size': 2, 'l2_reg': 0.001, 'learning_rate': 0.0013135517611807396, 'max_epochs': 1000, 'nb_filters': 10, 'nb_layers': 4}\n",
            "y | Training hyperparameter set {'conditional': True, 'early_stopping_rounds': 100, 'kernel_size': 2, 'l2_reg': 0.001, 'learning_rate': 0.028016056063239266, 'max_epochs': 1000, 'nb_filters': 21, 'nb_layers': 4}\n",
            "y | Training hyperparameter set {'conditional': True, 'early_stopping_rounds': 100, 'kernel_size': 2, 'l2_reg': 0.001, 'learning_rate': 0.015599592274796393, 'max_epochs': 1000, 'nb_filters': 6, 'nb_layers': 4}\n",
            "y | Training hyperparameter set {'conditional': True, 'early_stopping_rounds': 100, 'kernel_size': 2, 'l2_reg': 0.001, 'learning_rate': 0.0013869123175972186, 'max_epochs': 1000, 'nb_filters': 10, 'nb_layers': 4}\n",
            "y | Training hyperparameter set {'conditional': True, 'early_stopping_rounds': 100, 'kernel_size': 2, 'l2_reg': 0.001, 'learning_rate': 0.00209272227471222, 'max_epochs': 1000, 'nb_filters': 19, 'nb_layers': 4}\n",
            "y | Training hyperparameter set {'conditional': True, 'early_stopping_rounds': 100, 'kernel_size': 2, 'l2_reg': 0.001, 'learning_rate': 0.008254325340140409, 'max_epochs': 1000, 'nb_filters': 16, 'nb_layers': 4}\n",
            "y | Training hyperparameter set {'conditional': True, 'early_stopping_rounds': 100, 'kernel_size': 2, 'l2_reg': 0.001, 'learning_rate': 0.014544749517522881, 'max_epochs': 1000, 'nb_filters': 5, 'nb_layers': 4}\n",
            "y | Training hyperparameter set {'conditional': True, 'early_stopping_rounds': 100, 'kernel_size': 2, 'l2_reg': 0.001, 'learning_rate': 0.0013938749661340122, 'max_epochs': 1000, 'nb_filters': 20, 'nb_layers': 4}\n",
            "y | Training hyperparameter set {'conditional': True, 'early_stopping_rounds': 100, 'kernel_size': 2, 'l2_reg': 0.001, 'learning_rate': 0.0012456147766596697, 'max_epochs': 1000, 'nb_filters': 21, 'nb_layers': 4}\n",
            "y | Training hyperparameter set {'conditional': True, 'early_stopping_rounds': 100, 'kernel_size': 2, 'l2_reg': 0.001, 'learning_rate': 0.009749145251922022, 'max_epochs': 1000, 'nb_filters': 9, 'nb_layers': 4}\n",
            "y | Training hyperparameter set {'conditional': True, 'early_stopping_rounds': 100, 'kernel_size': 2, 'l2_reg': 0.001, 'learning_rate': 0.0037414945719827864, 'max_epochs': 1000, 'nb_filters': 23, 'nb_layers': 4}\n",
            "y | Training hyperparameter set {'conditional': True, 'early_stopping_rounds': 100, 'kernel_size': 2, 'l2_reg': 0.001, 'learning_rate': 0.005461809900132893, 'max_epochs': 1000, 'nb_filters': 13, 'nb_layers': 4}\n",
            "y | Training hyperparameter set {'conditional': True, 'early_stopping_rounds': 100, 'kernel_size': 2, 'l2_reg': 0.001, 'learning_rate': 0.04557812865660127, 'max_epochs': 1000, 'nb_filters': 24, 'nb_layers': 4}\n",
            "y | Training hyperparameter set {'conditional': True, 'early_stopping_rounds': 100, 'kernel_size': 2, 'l2_reg': 0.001, 'learning_rate': 0.009848652897269923, 'max_epochs': 1000, 'nb_filters': 8, 'nb_layers': 4}\n",
            "y | Training hyperparameter set {'conditional': True, 'early_stopping_rounds': 100, 'kernel_size': 2, 'l2_reg': 0.001, 'learning_rate': 0.0025039503204784225, 'max_epochs': 1000, 'nb_filters': 17, 'nb_layers': 4}\n",
            "y | Training hyperparameter set {'conditional': True, 'early_stopping_rounds': 100, 'kernel_size': 2, 'l2_reg': 0.001, 'learning_rate': 0.011635105329636065, 'max_epochs': 1000, 'nb_filters': 7, 'nb_layers': 4}\n",
            "y | Training hyperparameter set {'conditional': True, 'early_stopping_rounds': 100, 'kernel_size': 2, 'l2_reg': 0.001, 'learning_rate': 0.005047002416896421, 'max_epochs': 1000, 'nb_filters': 11, 'nb_layers': 4}\n",
            "y | Training hyperparameter set {'conditional': True, 'early_stopping_rounds': 100, 'kernel_size': 2, 'l2_reg': 0.001, 'learning_rate': 0.004016823147106951, 'max_epochs': 1000, 'nb_filters': 18, 'nb_layers': 4}\n",
            "y | Training hyperparameter set {'conditional': True, 'early_stopping_rounds': 100, 'kernel_size': 2, 'l2_reg': 0.001, 'learning_rate': 0.007023346724923404, 'max_epochs': 1000, 'nb_filters': 19, 'nb_layers': 4}\n",
            "y | Training hyperparameter set {'conditional': True, 'early_stopping_rounds': 100, 'kernel_size': 2, 'l2_reg': 0.001, 'learning_rate': 0.0020148051649339733, 'max_epochs': 1000, 'nb_filters': 22, 'nb_layers': 4}\n",
            "y | Training hyperparameter set {'conditional': True, 'early_stopping_rounds': 100, 'kernel_size': 2, 'l2_reg': 0.001, 'learning_rate': 0.005071089581485055, 'max_epochs': 1000, 'nb_filters': 12, 'nb_layers': 4}\n",
            "y | Training hyperparameter set {'conditional': True, 'early_stopping_rounds': 100, 'kernel_size': 2, 'l2_reg': 0.001, 'learning_rate': 0.011466987485265444, 'max_epochs': 1000, 'nb_filters': 19, 'nb_layers': 4}\n",
            "y | Training hyperparameter set {'conditional': True, 'early_stopping_rounds': 100, 'kernel_size': 2, 'l2_reg': 0.001, 'learning_rate': 0.04527197129401015, 'max_epochs': 1000, 'nb_filters': 15, 'nb_layers': 4}\n",
            "y | Training hyperparameter set {'conditional': True, 'early_stopping_rounds': 100, 'kernel_size': 2, 'l2_reg': 0.001, 'learning_rate': 0.023961607611608888, 'max_epochs': 1000, 'nb_filters': 12, 'nb_layers': 4}\n",
            "y | Training hyperparameter set {'conditional': True, 'early_stopping_rounds': 100, 'kernel_size': 2, 'l2_reg': 0.001, 'learning_rate': 0.00311775614928152, 'max_epochs': 1000, 'nb_filters': 5, 'nb_layers': 4}\n",
            "y | Training hyperparameter set {'conditional': True, 'early_stopping_rounds': 100, 'kernel_size': 2, 'l2_reg': 0.001, 'learning_rate': 0.006397885095845448, 'max_epochs': 1000, 'nb_filters': 17, 'nb_layers': 4}\n",
            "y | Training hyperparameter set {'conditional': True, 'early_stopping_rounds': 100, 'kernel_size': 2, 'l2_reg': 0.001, 'learning_rate': 0.02136960915150164, 'max_epochs': 1000, 'nb_filters': 14, 'nb_layers': 4}\n",
            "y | Training hyperparameter set {'conditional': True, 'early_stopping_rounds': 100, 'kernel_size': 2, 'l2_reg': 0.001, 'learning_rate': 0.0010135989239931599, 'max_epochs': 1000, 'nb_filters': 12, 'nb_layers': 4}\n",
            "y | Training hyperparameter set {'conditional': True, 'early_stopping_rounds': 100, 'kernel_size': 2, 'l2_reg': 0.001, 'learning_rate': 0.004554106251993575, 'max_epochs': 1000, 'nb_filters': 24, 'nb_layers': 4}\n",
            "y | Training hyperparameter set {'conditional': True, 'early_stopping_rounds': 100, 'kernel_size': 2, 'l2_reg': 0.001, 'learning_rate': 0.008348485880632079, 'max_epochs': 1000, 'nb_filters': 20, 'nb_layers': 4}\n",
            "y | Training hyperparameter set {'conditional': True, 'early_stopping_rounds': 100, 'kernel_size': 2, 'l2_reg': 0.001, 'learning_rate': 0.03495541895647998, 'max_epochs': 1000, 'nb_filters': 6, 'nb_layers': 4}\n",
            "y | Training hyperparameter set {'conditional': True, 'early_stopping_rounds': 100, 'kernel_size': 2, 'l2_reg': 0.001, 'learning_rate': 0.014086855824970813, 'max_epochs': 1000, 'nb_filters': 19, 'nb_layers': 4}\n",
            "y | Training hyperparameter set {'conditional': True, 'early_stopping_rounds': 100, 'kernel_size': 2, 'l2_reg': 0.001, 'learning_rate': 0.0016291848408884315, 'max_epochs': 1000, 'nb_filters': 13, 'nb_layers': 4}\n",
            "y | Training hyperparameter set {'conditional': True, 'early_stopping_rounds': 100, 'kernel_size': 2, 'l2_reg': 0.001, 'learning_rate': 0.0027903959901706948, 'max_epochs': 1000, 'nb_filters': 9, 'nb_layers': 4}\n",
            "y | Training hyperparameter set {'conditional': True, 'early_stopping_rounds': 100, 'kernel_size': 2, 'l2_reg': 0.001, 'learning_rate': 0.019125276442744026, 'max_epochs': 1000, 'nb_filters': 18, 'nb_layers': 4}\n",
            "y | Training hyperparameter set {'conditional': True, 'early_stopping_rounds': 100, 'kernel_size': 2, 'l2_reg': 0.001, 'learning_rate': 0.006133516620487855, 'max_epochs': 1000, 'nb_filters': 23, 'nb_layers': 4}\n",
            "y | Training hyperparameter set {'conditional': True, 'early_stopping_rounds': 100, 'kernel_size': 2, 'l2_reg': 0.001, 'learning_rate': 0.008520339692264423, 'max_epochs': 1000, 'nb_filters': 11, 'nb_layers': 4}\n",
            "y | Training hyperparameter set {'conditional': True, 'early_stopping_rounds': 100, 'kernel_size': 2, 'l2_reg': 0.001, 'learning_rate': 0.012100739561158504, 'max_epochs': 1000, 'nb_filters': 8, 'nb_layers': 4}\n",
            "y | Training hyperparameter set {'conditional': True, 'early_stopping_rounds': 100, 'kernel_size': 2, 'l2_reg': 0.001, 'learning_rate': 0.003198338965655804, 'max_epochs': 1000, 'nb_filters': 7, 'nb_layers': 4}\n",
            "y | Training hyperparameter set {'conditional': True, 'early_stopping_rounds': 100, 'kernel_size': 2, 'l2_reg': 0.001, 'learning_rate': 0.004372557871086358, 'max_epochs': 1000, 'nb_filters': 15, 'nb_layers': 4}\n",
            "y | Training hyperparameter set {'conditional': True, 'early_stopping_rounds': 100, 'kernel_size': 2, 'l2_reg': 0.001, 'learning_rate': 0.0019182073252771946, 'max_epochs': 1000, 'nb_filters': 15, 'nb_layers': 4}\n",
            "y | Training hyperparameter set {'conditional': True, 'early_stopping_rounds': 100, 'kernel_size': 2, 'l2_reg': 0.001, 'learning_rate': 0.004322802527878757, 'max_epochs': 1000, 'nb_filters': 15, 'nb_layers': 4}\n",
            "y | Training hyperparameter set {'conditional': True, 'early_stopping_rounds': 100, 'kernel_size': 2, 'l2_reg': 0.001, 'learning_rate': 0.03701372611712273, 'max_epochs': 1000, 'nb_filters': 15, 'nb_layers': 4}\n",
            "y | Training hyperparameter set {'conditional': True, 'early_stopping_rounds': 100, 'kernel_size': 2, 'l2_reg': 0.001, 'learning_rate': 0.015988416459234947, 'max_epochs': 1000, 'nb_filters': 22, 'nb_layers': 4}\n",
            "y | Training hyperparameter set {'conditional': True, 'early_stopping_rounds': 100, 'kernel_size': 2, 'l2_reg': 0.001, 'learning_rate': 0.002386656990304189, 'max_epochs': 1000, 'nb_filters': 16, 'nb_layers': 4}\n",
            "y | Training hyperparameter set {'conditional': True, 'early_stopping_rounds': 100, 'kernel_size': 2, 'l2_reg': 0.001, 'learning_rate': 0.0036004819061704503, 'max_epochs': 1000, 'nb_filters': 21, 'nb_layers': 4}\n",
            "y | Training hyperparameter set {'conditional': True, 'early_stopping_rounds': 100, 'kernel_size': 2, 'l2_reg': 0.001, 'learning_rate': 0.009209254468013722, 'max_epochs': 1000, 'nb_filters': 19, 'nb_layers': 4}\n",
            "y | Training hyperparameter set {'conditional': True, 'early_stopping_rounds': 100, 'kernel_size': 2, 'l2_reg': 0.001, 'learning_rate': 0.00743569560004506, 'max_epochs': 1000, 'nb_filters': 10, 'nb_layers': 4}\n",
            "y | Training hyperparameter set {'conditional': True, 'early_stopping_rounds': 100, 'kernel_size': 2, 'l2_reg': 0.001, 'learning_rate': 0.0015661722405740132, 'max_epochs': 1000, 'nb_filters': 20, 'nb_layers': 4}\n",
            "y | Training hyperparameter set {'conditional': True, 'early_stopping_rounds': 100, 'kernel_size': 2, 'l2_reg': 0.001, 'learning_rate': 0.02393080765518523, 'max_epochs': 1000, 'nb_filters': 14, 'nb_layers': 4}\n",
            "y | Training hyperparameter set {'conditional': True, 'early_stopping_rounds': 100, 'kernel_size': 2, 'l2_reg': 0.001, 'learning_rate': 0.013671567990154525, 'max_epochs': 1000, 'nb_filters': 5, 'nb_layers': 4}\n",
            "y | Training hyperparameter set {'conditional': True, 'early_stopping_rounds': 100, 'kernel_size': 2, 'l2_reg': 0.001, 'learning_rate': 0.0056681543698621755, 'max_epochs': 1000, 'nb_filters': 15, 'nb_layers': 4}\n",
            "y | Training hyperparameter set {'conditional': True, 'early_stopping_rounds': 100, 'kernel_size': 2, 'l2_reg': 0.001, 'learning_rate': 0.007428591704765208, 'max_epochs': 1000, 'nb_filters': 6, 'nb_layers': 4}\n",
            "y | Training hyperparameter set {'conditional': True, 'early_stopping_rounds': 100, 'kernel_size': 2, 'l2_reg': 0.001, 'learning_rate': 0.011031087612413077, 'max_epochs': 1000, 'nb_filters': 19, 'nb_layers': 4}\n",
            "y | Training hyperparameter set {'conditional': True, 'early_stopping_rounds': 100, 'kernel_size': 2, 'l2_reg': 0.001, 'learning_rate': 0.004686793212965769, 'max_epochs': 1000, 'nb_filters': 12, 'nb_layers': 4}\n",
            "y | Training hyperparameter set {'conditional': True, 'early_stopping_rounds': 100, 'kernel_size': 2, 'l2_reg': 0.001, 'learning_rate': 0.0033547927432293323, 'max_epochs': 1000, 'nb_filters': 12, 'nb_layers': 4}\n",
            "y | Training hyperparameter set {'conditional': True, 'early_stopping_rounds': 100, 'kernel_size': 2, 'l2_reg': 0.001, 'learning_rate': 0.0026952943910136646, 'max_epochs': 1000, 'nb_filters': 17, 'nb_layers': 4}\n",
            "y | Training hyperparameter set {'conditional': True, 'early_stopping_rounds': 100, 'kernel_size': 2, 'l2_reg': 0.001, 'learning_rate': 0.00220726435757717, 'max_epochs': 1000, 'nb_filters': 23, 'nb_layers': 4}\n",
            "y | Training hyperparameter set {'conditional': True, 'early_stopping_rounds': 100, 'kernel_size': 2, 'l2_reg': 0.001, 'learning_rate': 0.005995332548123679, 'max_epochs': 1000, 'nb_filters': 7, 'nb_layers': 4}\n",
            "y | Training hyperparameter set {'conditional': True, 'early_stopping_rounds': 100, 'kernel_size': 2, 'l2_reg': 0.001, 'learning_rate': 0.004029404761232252, 'max_epochs': 1000, 'nb_filters': 24, 'nb_layers': 4}\n",
            "y | Training hyperparameter set {'conditional': True, 'early_stopping_rounds': 100, 'kernel_size': 2, 'l2_reg': 0.001, 'learning_rate': 0.005270486327613846, 'max_epochs': 1000, 'nb_filters': 9, 'nb_layers': 4}\n",
            "y | Training hyperparameter set {'conditional': True, 'early_stopping_rounds': 100, 'kernel_size': 2, 'l2_reg': 0.001, 'learning_rate': 0.010685858171465636, 'max_epochs': 1000, 'nb_filters': 13, 'nb_layers': 4}\n",
            "y | Training hyperparameter set {'conditional': True, 'early_stopping_rounds': 100, 'kernel_size': 2, 'l2_reg': 0.001, 'learning_rate': 0.012862296322579616, 'max_epochs': 1000, 'nb_filters': 8, 'nb_layers': 4}\n",
            "y | Training hyperparameter set {'conditional': True, 'early_stopping_rounds': 100, 'kernel_size': 2, 'l2_reg': 0.001, 'learning_rate': 0.006532967349997876, 'max_epochs': 1000, 'nb_filters': 18, 'nb_layers': 4}\n",
            "y | Training hyperparameter set {'conditional': True, 'early_stopping_rounds': 100, 'kernel_size': 2, 'l2_reg': 0.001, 'learning_rate': 0.006839842646117637, 'max_epochs': 1000, 'nb_filters': 18, 'nb_layers': 4}\n",
            "y | Training hyperparameter set {'conditional': True, 'early_stopping_rounds': 100, 'kernel_size': 2, 'l2_reg': 0.001, 'learning_rate': 0.01761341420112338, 'max_epochs': 1000, 'nb_filters': 18, 'nb_layers': 4}\n",
            "y | Training hyperparameter set {'conditional': True, 'early_stopping_rounds': 100, 'kernel_size': 2, 'l2_reg': 0.001, 'learning_rate': 0.01007224457652002, 'max_epochs': 1000, 'nb_filters': 18, 'nb_layers': 4}\n",
            "y | Training hyperparameter set {'conditional': True, 'early_stopping_rounds': 100, 'kernel_size': 2, 'l2_reg': 0.001, 'learning_rate': 0.008825258008196191, 'max_epochs': 1000, 'nb_filters': 11, 'nb_layers': 4}\n",
            "y | Training hyperparameter set {'conditional': True, 'early_stopping_rounds': 100, 'kernel_size': 2, 'l2_reg': 0.001, 'learning_rate': 0.00809308522974504, 'max_epochs': 1000, 'nb_filters': 21, 'nb_layers': 4}\n",
            "y | Training hyperparameter set {'conditional': True, 'early_stopping_rounds': 100, 'kernel_size': 2, 'l2_reg': 0.001, 'learning_rate': 0.003810642467953338, 'max_epochs': 1000, 'nb_filters': 22, 'nb_layers': 4}\n",
            "y | Training hyperparameter set {'conditional': True, 'early_stopping_rounds': 100, 'kernel_size': 2, 'l2_reg': 0.001, 'learning_rate': 0.0035437288401142875, 'max_epochs': 1000, 'nb_filters': 22, 'nb_layers': 4}\n",
            "y | Training hyperparameter set {'conditional': True, 'early_stopping_rounds': 100, 'kernel_size': 2, 'l2_reg': 0.001, 'learning_rate': 0.001798976524369935, 'max_epochs': 1000, 'nb_filters': 22, 'nb_layers': 4}\n",
            "y | Training hyperparameter set {'conditional': True, 'early_stopping_rounds': 100, 'kernel_size': 2, 'l2_reg': 0.001, 'learning_rate': 0.0029552228188665024, 'max_epochs': 1000, 'nb_filters': 22, 'nb_layers': 4}\n",
            "y | Training hyperparameter set {'conditional': True, 'early_stopping_rounds': 100, 'kernel_size': 2, 'l2_reg': 0.001, 'learning_rate': 0.001226925797594385, 'max_epochs': 1000, 'nb_filters': 16, 'nb_layers': 4}\n",
            "y | Training hyperparameter set {'conditional': True, 'early_stopping_rounds': 100, 'kernel_size': 2, 'l2_reg': 0.001, 'learning_rate': 0.00415389174009624, 'max_epochs': 1000, 'nb_filters': 18, 'nb_layers': 4}\n",
            "y | Training hyperparameter set {'conditional': True, 'early_stopping_rounds': 100, 'kernel_size': 2, 'l2_reg': 0.001, 'learning_rate': 0.0010093445770110012, 'max_epochs': 1000, 'nb_filters': 10, 'nb_layers': 4}\n",
            "y | Training hyperparameter set {'conditional': True, 'early_stopping_rounds': 100, 'kernel_size': 2, 'l2_reg': 0.001, 'learning_rate': 0.004661333710017107, 'max_epochs': 1000, 'nb_filters': 15, 'nb_layers': 4}\n",
            "y | Training hyperparameter set {'conditional': True, 'early_stopping_rounds': 100, 'kernel_size': 2, 'l2_reg': 0.001, 'learning_rate': 0.0024228180787085724, 'max_epochs': 1000, 'nb_filters': 22, 'nb_layers': 4}\n",
            "y | Training hyperparameter set {'conditional': True, 'early_stopping_rounds': 100, 'kernel_size': 2, 'l2_reg': 0.001, 'learning_rate': 0.0038858064220460634, 'max_epochs': 1000, 'nb_filters': 14, 'nb_layers': 4}\n",
            "y | Training hyperparameter set {'conditional': True, 'early_stopping_rounds': 100, 'kernel_size': 2, 'l2_reg': 0.001, 'learning_rate': 0.0021736029844697355, 'max_epochs': 1000, 'nb_filters': 5, 'nb_layers': 4}\n",
            "y | Training hyperparameter set {'conditional': True, 'early_stopping_rounds': 100, 'kernel_size': 2, 'l2_reg': 0.001, 'learning_rate': 0.006527288561959898, 'max_epochs': 1000, 'nb_filters': 20, 'nb_layers': 4}\n",
            "y | Training hyperparameter set {'conditional': True, 'early_stopping_rounds': 100, 'kernel_size': 2, 'l2_reg': 0.001, 'learning_rate': 0.0014972263703295567, 'max_epochs': 1000, 'nb_filters': 17, 'nb_layers': 4}\n",
            "y | Training hyperparameter set {'conditional': True, 'early_stopping_rounds': 100, 'kernel_size': 2, 'l2_reg': 0.001, 'learning_rate': 0.0026490739161781347, 'max_epochs': 1000, 'nb_filters': 6, 'nb_layers': 4}\n",
            "y | Training hyperparameter set {'conditional': True, 'early_stopping_rounds': 100, 'kernel_size': 2, 'l2_reg': 0.001, 'learning_rate': 0.005683938491867135, 'max_epochs': 1000, 'nb_filters': 15, 'nb_layers': 4}\n",
            "y | Training hyperparameter set {'conditional': True, 'early_stopping_rounds': 100, 'kernel_size': 2, 'l2_reg': 0.001, 'learning_rate': 0.005137099742465817, 'max_epochs': 1000, 'nb_filters': 9, 'nb_layers': 4}\n",
            "y | Training hyperparameter set {'conditional': True, 'early_stopping_rounds': 100, 'kernel_size': 2, 'l2_reg': 0.001, 'learning_rate': 0.0017956729329335099, 'max_epochs': 1000, 'nb_filters': 24, 'nb_layers': 4}\n",
            "y | Training hyperparameter set {'conditional': True, 'early_stopping_rounds': 100, 'kernel_size': 2, 'l2_reg': 0.001, 'learning_rate': 0.003119085157908735, 'max_epochs': 1000, 'nb_filters': 13, 'nb_layers': 4}\n",
            "y | Training hyperparameter set {'conditional': True, 'early_stopping_rounds': 100, 'kernel_size': 2, 'l2_reg': 0.001, 'learning_rate': 0.007836981285090585, 'max_epochs': 1000, 'nb_filters': 23, 'nb_layers': 4}\n",
            "y | Training hyperparameter set {'conditional': True, 'early_stopping_rounds': 100, 'kernel_size': 2, 'l2_reg': 0.001, 'learning_rate': 0.007849601628572579, 'max_epochs': 1000, 'nb_filters': 23, 'nb_layers': 4}\n",
            "100%|██████████| 100/100 [01:34<00:00,  1.06it/s, best loss: 0.162]\n",
            "y | Training final model\n",
            "{'conditional': True, 'early_stopping_rounds': 100, 'kernel_size': 2, 'l2_reg': 0.001, 'learning_rate': 0.004372557871086358, 'max_epochs': 1000, 'nb_filters': 15, 'nb_layers': 4}\n",
            "4.66\n"
          ]
        }
      ],
      "source": [
        "target_index = 1\n",
        "c_hyperparams = {'conditional':True, 'nb_layers':4, 'kernel_size':2,\n",
        "        'nb_filters': hp.choice(\"nb_filters\", np.arange(5, 25, 1, dtype=int)),\n",
        "        'learning_rate': hp.loguniform(\"learning_rate\", np.log(0.001), np.log(0.05)), \n",
        "        'l2_reg': 0.001, 'max_epochs':1000, 'early_stopping_rounds':100 }\n",
        "cWaveNet = WaveNetWrapper(disable_cuda = True)\n",
        "cWaveNet.cross_validation(target_index=target_index, hyperparam_space=c_hyperparams, train=train_, val = val_, test = test_, \n",
        "            horizon = 200, period = 1, \n",
        "            cross_validation_objective='rmse', \n",
        "            cross_validation_objective_less_is_better=True,\n",
        "            max_evals=100)"
      ]
    },
    {
      "cell_type": "code",
      "execution_count": null,
      "metadata": {
        "colab": {
          "base_uri": "https://localhost:8080/"
        },
        "id": "fij01Lzevmsp",
        "outputId": "106f6f18-9af7-45da-a650-1d39c0c16aa9"
      },
      "outputs": [
        {
          "output_type": "stream",
          "name": "stdout",
          "text": [
            "Saving model for y at ./cWaveNet0612_y\n",
            "Save Complete\n"
          ]
        }
      ],
      "source": [
        "cWaveNet.save('./cWaveNet0612_y')"
      ]
    },
    {
      "cell_type": "code",
      "execution_count": null,
      "metadata": {
        "colab": {
          "base_uri": "https://localhost:8080/"
        },
        "id": "mvviF2wyvxPt",
        "outputId": "b0334946-0dcb-4463-803a-d448ac9eff54"
      },
      "outputs": [
        {
          "output_type": "execute_result",
          "data": {
            "text/plain": [
              "rmse                             0.206\n",
              "num_timestamps_predicted_on    200.000\n",
              "dtype: float64"
            ]
          },
          "metadata": {},
          "execution_count": 33
        }
      ],
      "source": [
        "cWaveNet.mean_test_metrics"
      ]
    },
    {
      "cell_type": "code",
      "execution_count": null,
      "metadata": {
        "id": "EA0ZTJfnRA1C"
      },
      "outputs": [],
      "source": [
        "with open('./cWaveNet0611_yy_model.p', 'rb') as f:\n",
        "  abc = pickle.load(f)"
      ]
    },
    {
      "cell_type": "code",
      "execution_count": null,
      "metadata": {
        "colab": {
          "base_uri": "https://localhost:8080/"
        },
        "id": "wispO0pdRJIu",
        "outputId": "51f9cb5d-e7cf-4afd-ecef-753937d8791b"
      },
      "outputs": [
        {
          "data": {
            "text/plain": [
              "{'conditional': True,\n",
              " 'early_stopping_rounds': 100,\n",
              " 'kernel_size': 2,\n",
              " 'l2_reg': 0.001,\n",
              " 'learning_rate': 0.008860091411994014,\n",
              " 'max_epochs': 1000,\n",
              " 'nb_filters': 13,\n",
              " 'nb_layers': 4}"
            ]
          },
          "execution_count": 20,
          "metadata": {},
          "output_type": "execute_result"
        }
      ],
      "source": [
        "abc.best_hyperparams"
      ]
    },
    {
      "cell_type": "code",
      "execution_count": null,
      "metadata": {
        "colab": {
          "base_uri": "https://localhost:8080/"
        },
        "id": "xlohYMjivxYc",
        "outputId": "ee9263c3-d76d-4a3c-ebb7-6a8b0e5e619e"
      },
      "outputs": [
        {
          "output_type": "stream",
          "name": "stdout",
          "text": [
            "y | Training hyperparameter set {'conditional': False, 'early_stopping_rounds': 100, 'kernel_size': 2, 'l2_reg': 0.001, 'learning_rate': 0.0047694709530668586, 'max_epochs': 1000, 'nb_filters': 15, 'nb_layers': 4}\n",
            "y | Training hyperparameter set {'conditional': False, 'early_stopping_rounds': 100, 'kernel_size': 2, 'l2_reg': 0.001, 'learning_rate': 0.004567356054258815, 'max_epochs': 1000, 'nb_filters': 12, 'nb_layers': 4}\n",
            "y | Training hyperparameter set {'conditional': False, 'early_stopping_rounds': 100, 'kernel_size': 2, 'l2_reg': 0.001, 'learning_rate': 0.0054314635232938545, 'max_epochs': 1000, 'nb_filters': 15, 'nb_layers': 4}\n",
            "y | Training hyperparameter set {'conditional': False, 'early_stopping_rounds': 100, 'kernel_size': 2, 'l2_reg': 0.001, 'learning_rate': 0.03325750102505773, 'max_epochs': 1000, 'nb_filters': 21, 'nb_layers': 4}\n",
            "y | Training hyperparameter set {'conditional': False, 'early_stopping_rounds': 100, 'kernel_size': 2, 'l2_reg': 0.001, 'learning_rate': 0.024627739570416876, 'max_epochs': 1000, 'nb_filters': 12, 'nb_layers': 4}\n",
            "y | Training hyperparameter set {'conditional': False, 'early_stopping_rounds': 100, 'kernel_size': 2, 'l2_reg': 0.001, 'learning_rate': 0.004104204509204355, 'max_epochs': 1000, 'nb_filters': 15, 'nb_layers': 4}\n",
            "y | Training hyperparameter set {'conditional': False, 'early_stopping_rounds': 100, 'kernel_size': 2, 'l2_reg': 0.001, 'learning_rate': 0.002117971191411672, 'max_epochs': 1000, 'nb_filters': 23, 'nb_layers': 4}\n",
            "y | Training hyperparameter set {'conditional': False, 'early_stopping_rounds': 100, 'kernel_size': 2, 'l2_reg': 0.001, 'learning_rate': 0.002997938532470085, 'max_epochs': 1000, 'nb_filters': 11, 'nb_layers': 4}\n",
            "y | Training hyperparameter set {'conditional': False, 'early_stopping_rounds': 100, 'kernel_size': 2, 'l2_reg': 0.001, 'learning_rate': 0.006823179728467894, 'max_epochs': 1000, 'nb_filters': 21, 'nb_layers': 4}\n",
            "y | Training hyperparameter set {'conditional': False, 'early_stopping_rounds': 100, 'kernel_size': 2, 'l2_reg': 0.001, 'learning_rate': 0.0030343828233774764, 'max_epochs': 1000, 'nb_filters': 12, 'nb_layers': 4}\n",
            "y | Training hyperparameter set {'conditional': False, 'early_stopping_rounds': 100, 'kernel_size': 2, 'l2_reg': 0.001, 'learning_rate': 0.004201638196896089, 'max_epochs': 1000, 'nb_filters': 12, 'nb_layers': 4}\n",
            "y | Training hyperparameter set {'conditional': False, 'early_stopping_rounds': 100, 'kernel_size': 2, 'l2_reg': 0.001, 'learning_rate': 0.0014667758249653287, 'max_epochs': 1000, 'nb_filters': 23, 'nb_layers': 4}\n",
            "y | Training hyperparameter set {'conditional': False, 'early_stopping_rounds': 100, 'kernel_size': 2, 'l2_reg': 0.001, 'learning_rate': 0.04798050243515288, 'max_epochs': 1000, 'nb_filters': 23, 'nb_layers': 4}\n",
            "y | Training hyperparameter set {'conditional': False, 'early_stopping_rounds': 100, 'kernel_size': 2, 'l2_reg': 0.001, 'learning_rate': 0.02859389758369182, 'max_epochs': 1000, 'nb_filters': 13, 'nb_layers': 4}\n",
            "y | Training hyperparameter set {'conditional': False, 'early_stopping_rounds': 100, 'kernel_size': 2, 'l2_reg': 0.001, 'learning_rate': 0.002194941958635421, 'max_epochs': 1000, 'nb_filters': 24, 'nb_layers': 4}\n",
            "y | Training hyperparameter set {'conditional': False, 'early_stopping_rounds': 100, 'kernel_size': 2, 'l2_reg': 0.001, 'learning_rate': 0.01018051284425694, 'max_epochs': 1000, 'nb_filters': 10, 'nb_layers': 4}\n",
            "y | Training hyperparameter set {'conditional': False, 'early_stopping_rounds': 100, 'kernel_size': 2, 'l2_reg': 0.001, 'learning_rate': 0.0010081273622849648, 'max_epochs': 1000, 'nb_filters': 6, 'nb_layers': 4}\n",
            "y | Training hyperparameter set {'conditional': False, 'early_stopping_rounds': 100, 'kernel_size': 2, 'l2_reg': 0.001, 'learning_rate': 0.026966612586626904, 'max_epochs': 1000, 'nb_filters': 20, 'nb_layers': 4}\n",
            "y | Training hyperparameter set {'conditional': False, 'early_stopping_rounds': 100, 'kernel_size': 2, 'l2_reg': 0.001, 'learning_rate': 0.031454230839350034, 'max_epochs': 1000, 'nb_filters': 13, 'nb_layers': 4}\n",
            "y | Training hyperparameter set {'conditional': False, 'early_stopping_rounds': 100, 'kernel_size': 2, 'l2_reg': 0.001, 'learning_rate': 0.03262900981439672, 'max_epochs': 1000, 'nb_filters': 21, 'nb_layers': 4}\n",
            "y | Training hyperparameter set {'conditional': False, 'early_stopping_rounds': 100, 'kernel_size': 2, 'l2_reg': 0.001, 'learning_rate': 0.01267437925091314, 'max_epochs': 1000, 'nb_filters': 22, 'nb_layers': 4}\n",
            "y | Training hyperparameter set {'conditional': False, 'early_stopping_rounds': 100, 'kernel_size': 2, 'l2_reg': 0.001, 'learning_rate': 0.014046734705130426, 'max_epochs': 1000, 'nb_filters': 10, 'nb_layers': 4}\n",
            "y | Training hyperparameter set {'conditional': False, 'early_stopping_rounds': 100, 'kernel_size': 2, 'l2_reg': 0.001, 'learning_rate': 0.01195542185646941, 'max_epochs': 1000, 'nb_filters': 18, 'nb_layers': 4}\n",
            "y | Training hyperparameter set {'conditional': False, 'early_stopping_rounds': 100, 'kernel_size': 2, 'l2_reg': 0.001, 'learning_rate': 0.047061460482954315, 'max_epochs': 1000, 'nb_filters': 16, 'nb_layers': 4}\n",
            "y | Training hyperparameter set {'conditional': False, 'early_stopping_rounds': 100, 'kernel_size': 2, 'l2_reg': 0.001, 'learning_rate': 0.017189713276224716, 'max_epochs': 1000, 'nb_filters': 9, 'nb_layers': 4}\n",
            "y | Training hyperparameter set {'conditional': False, 'early_stopping_rounds': 100, 'kernel_size': 2, 'l2_reg': 0.001, 'learning_rate': 0.009396717819567068, 'max_epochs': 1000, 'nb_filters': 5, 'nb_layers': 4}\n",
            "y | Training hyperparameter set {'conditional': False, 'early_stopping_rounds': 100, 'kernel_size': 2, 'l2_reg': 0.001, 'learning_rate': 0.01945506029101346, 'max_epochs': 1000, 'nb_filters': 14, 'nb_layers': 4}\n",
            "y | Training hyperparameter set {'conditional': False, 'early_stopping_rounds': 100, 'kernel_size': 2, 'l2_reg': 0.001, 'learning_rate': 0.008002020289912945, 'max_epochs': 1000, 'nb_filters': 7, 'nb_layers': 4}\n",
            "y | Training hyperparameter set {'conditional': False, 'early_stopping_rounds': 100, 'kernel_size': 2, 'l2_reg': 0.001, 'learning_rate': 0.04168411581721438, 'max_epochs': 1000, 'nb_filters': 19, 'nb_layers': 4}\n",
            "y | Training hyperparameter set {'conditional': False, 'early_stopping_rounds': 100, 'kernel_size': 2, 'l2_reg': 0.001, 'learning_rate': 0.010574858623976831, 'max_epochs': 1000, 'nb_filters': 17, 'nb_layers': 4}\n",
            "y | Training hyperparameter set {'conditional': False, 'early_stopping_rounds': 100, 'kernel_size': 2, 'l2_reg': 0.001, 'learning_rate': 0.017469827196757798, 'max_epochs': 1000, 'nb_filters': 8, 'nb_layers': 4}\n",
            "y | Training hyperparameter set {'conditional': False, 'early_stopping_rounds': 100, 'kernel_size': 2, 'l2_reg': 0.001, 'learning_rate': 0.005976689792279555, 'max_epochs': 1000, 'nb_filters': 10, 'nb_layers': 4}\n",
            "y | Training hyperparameter set {'conditional': False, 'early_stopping_rounds': 100, 'kernel_size': 2, 'l2_reg': 0.001, 'learning_rate': 0.037480240745686774, 'max_epochs': 1000, 'nb_filters': 10, 'nb_layers': 4}\n",
            "y | Training hyperparameter set {'conditional': False, 'early_stopping_rounds': 100, 'kernel_size': 2, 'l2_reg': 0.001, 'learning_rate': 0.02396552248535917, 'max_epochs': 1000, 'nb_filters': 21, 'nb_layers': 4}\n",
            "y | Training hyperparameter set {'conditional': False, 'early_stopping_rounds': 100, 'kernel_size': 2, 'l2_reg': 0.001, 'learning_rate': 0.008382501231848975, 'max_epochs': 1000, 'nb_filters': 21, 'nb_layers': 4}\n",
            "y | Training hyperparameter set {'conditional': False, 'early_stopping_rounds': 100, 'kernel_size': 2, 'l2_reg': 0.001, 'learning_rate': 0.021000580240637924, 'max_epochs': 1000, 'nb_filters': 15, 'nb_layers': 4}\n",
            "y | Training hyperparameter set {'conditional': False, 'early_stopping_rounds': 100, 'kernel_size': 2, 'l2_reg': 0.001, 'learning_rate': 0.005233689156931023, 'max_epochs': 1000, 'nb_filters': 11, 'nb_layers': 4}\n",
            "y | Training hyperparameter set {'conditional': False, 'early_stopping_rounds': 100, 'kernel_size': 2, 'l2_reg': 0.001, 'learning_rate': 0.006691962403596828, 'max_epochs': 1000, 'nb_filters': 5, 'nb_layers': 4}\n",
            "y | Training hyperparameter set {'conditional': False, 'early_stopping_rounds': 100, 'kernel_size': 2, 'l2_reg': 0.001, 'learning_rate': 0.01552839843575169, 'max_epochs': 1000, 'nb_filters': 14, 'nb_layers': 4}\n",
            "y | Training hyperparameter set {'conditional': False, 'early_stopping_rounds': 100, 'kernel_size': 2, 'l2_reg': 0.001, 'learning_rate': 0.0031132319864697667, 'max_epochs': 1000, 'nb_filters': 8, 'nb_layers': 4}\n",
            "y | Training hyperparameter set {'conditional': False, 'early_stopping_rounds': 100, 'kernel_size': 2, 'l2_reg': 0.001, 'learning_rate': 0.0036929551485515304, 'max_epochs': 1000, 'nb_filters': 18, 'nb_layers': 4}\n",
            "y | Training hyperparameter set {'conditional': False, 'early_stopping_rounds': 100, 'kernel_size': 2, 'l2_reg': 0.001, 'learning_rate': 0.0021865863781595786, 'max_epochs': 1000, 'nb_filters': 16, 'nb_layers': 4}\n",
            "y | Training hyperparameter set {'conditional': False, 'early_stopping_rounds': 100, 'kernel_size': 2, 'l2_reg': 0.001, 'learning_rate': 0.0015515498416017277, 'max_epochs': 1000, 'nb_filters': 22, 'nb_layers': 4}\n",
            "y | Training hyperparameter set {'conditional': False, 'early_stopping_rounds': 100, 'kernel_size': 2, 'l2_reg': 0.001, 'learning_rate': 0.010350135553539216, 'max_epochs': 1000, 'nb_filters': 6, 'nb_layers': 4}\n",
            "y | Training hyperparameter set {'conditional': False, 'early_stopping_rounds': 100, 'kernel_size': 2, 'l2_reg': 0.001, 'learning_rate': 0.004576068588016033, 'max_epochs': 1000, 'nb_filters': 20, 'nb_layers': 4}\n",
            "y | Training hyperparameter set {'conditional': False, 'early_stopping_rounds': 100, 'kernel_size': 2, 'l2_reg': 0.001, 'learning_rate': 0.024478232316314748, 'max_epochs': 1000, 'nb_filters': 9, 'nb_layers': 4}\n",
            "y | Training hyperparameter set {'conditional': False, 'early_stopping_rounds': 100, 'kernel_size': 2, 'l2_reg': 0.001, 'learning_rate': 0.03746036566127621, 'max_epochs': 1000, 'nb_filters': 24, 'nb_layers': 4}\n",
            "y | Training hyperparameter set {'conditional': False, 'early_stopping_rounds': 100, 'kernel_size': 2, 'l2_reg': 0.001, 'learning_rate': 0.02110381412183388, 'max_epochs': 1000, 'nb_filters': 7, 'nb_layers': 4}\n",
            "y | Training hyperparameter set {'conditional': False, 'early_stopping_rounds': 100, 'kernel_size': 2, 'l2_reg': 0.001, 'learning_rate': 0.0017204613146463842, 'max_epochs': 1000, 'nb_filters': 10, 'nb_layers': 4}\n",
            "y | Training hyperparameter set {'conditional': False, 'early_stopping_rounds': 100, 'kernel_size': 2, 'l2_reg': 0.001, 'learning_rate': 0.0010977104486094625, 'max_epochs': 1000, 'nb_filters': 17, 'nb_layers': 4}\n",
            "y | Training hyperparameter set {'conditional': False, 'early_stopping_rounds': 100, 'kernel_size': 2, 'l2_reg': 0.001, 'learning_rate': 0.012885852459187339, 'max_epochs': 1000, 'nb_filters': 19, 'nb_layers': 4}\n",
            "y | Training hyperparameter set {'conditional': False, 'early_stopping_rounds': 100, 'kernel_size': 2, 'l2_reg': 0.001, 'learning_rate': 0.003775683989766185, 'max_epochs': 1000, 'nb_filters': 12, 'nb_layers': 4}\n",
            "y | Training hyperparameter set {'conditional': False, 'early_stopping_rounds': 100, 'kernel_size': 2, 'l2_reg': 0.001, 'learning_rate': 0.030617748132967974, 'max_epochs': 1000, 'nb_filters': 23, 'nb_layers': 4}\n",
            "y | Training hyperparameter set {'conditional': False, 'early_stopping_rounds': 100, 'kernel_size': 2, 'l2_reg': 0.001, 'learning_rate': 0.04743688859418322, 'max_epochs': 1000, 'nb_filters': 21, 'nb_layers': 4}\n",
            "y | Training hyperparameter set {'conditional': False, 'early_stopping_rounds': 100, 'kernel_size': 2, 'l2_reg': 0.001, 'learning_rate': 0.007436369606726, 'max_epochs': 1000, 'nb_filters': 13, 'nb_layers': 4}\n",
            "y | Training hyperparameter set {'conditional': False, 'early_stopping_rounds': 100, 'kernel_size': 2, 'l2_reg': 0.001, 'learning_rate': 0.006018933807679567, 'max_epochs': 1000, 'nb_filters': 11, 'nb_layers': 4}\n",
            "y | Training hyperparameter set {'conditional': False, 'early_stopping_rounds': 100, 'kernel_size': 2, 'l2_reg': 0.001, 'learning_rate': 0.01122865538082336, 'max_epochs': 1000, 'nb_filters': 15, 'nb_layers': 4}\n",
            "y | Training hyperparameter set {'conditional': False, 'early_stopping_rounds': 100, 'kernel_size': 2, 'l2_reg': 0.001, 'learning_rate': 0.0025903481780224715, 'max_epochs': 1000, 'nb_filters': 10, 'nb_layers': 4}\n",
            "y | Training hyperparameter set {'conditional': False, 'early_stopping_rounds': 100, 'kernel_size': 2, 'l2_reg': 0.001, 'learning_rate': 0.014414492683343553, 'max_epochs': 1000, 'nb_filters': 21, 'nb_layers': 4}\n",
            "y | Training hyperparameter set {'conditional': False, 'early_stopping_rounds': 100, 'kernel_size': 2, 'l2_reg': 0.001, 'learning_rate': 0.0092410617634352, 'max_epochs': 1000, 'nb_filters': 6, 'nb_layers': 4}\n",
            "y | Training hyperparameter set {'conditional': False, 'early_stopping_rounds': 100, 'kernel_size': 2, 'l2_reg': 0.001, 'learning_rate': 0.016713370639191, 'max_epochs': 1000, 'nb_filters': 20, 'nb_layers': 4}\n",
            "y | Training hyperparameter set {'conditional': False, 'early_stopping_rounds': 100, 'kernel_size': 2, 'l2_reg': 0.001, 'learning_rate': 0.037277646504886755, 'max_epochs': 1000, 'nb_filters': 24, 'nb_layers': 4}\n",
            "y | Training hyperparameter set {'conditional': False, 'early_stopping_rounds': 100, 'kernel_size': 2, 'l2_reg': 0.001, 'learning_rate': 0.005160912568387211, 'max_epochs': 1000, 'nb_filters': 10, 'nb_layers': 4}\n",
            "y | Training hyperparameter set {'conditional': False, 'early_stopping_rounds': 100, 'kernel_size': 2, 'l2_reg': 0.001, 'learning_rate': 0.04325861169697002, 'max_epochs': 1000, 'nb_filters': 18, 'nb_layers': 4}\n",
            "y | Training hyperparameter set {'conditional': False, 'early_stopping_rounds': 100, 'kernel_size': 2, 'l2_reg': 0.001, 'learning_rate': 0.027734665186832236, 'max_epochs': 1000, 'nb_filters': 9, 'nb_layers': 4}\n",
            "y | Training hyperparameter set {'conditional': False, 'early_stopping_rounds': 100, 'kernel_size': 2, 'l2_reg': 0.001, 'learning_rate': 0.04990054367547765, 'max_epochs': 1000, 'nb_filters': 5, 'nb_layers': 4}\n",
            "y | Training hyperparameter set {'conditional': False, 'early_stopping_rounds': 100, 'kernel_size': 2, 'l2_reg': 0.001, 'learning_rate': 0.033547737427047884, 'max_epochs': 1000, 'nb_filters': 23, 'nb_layers': 4}\n",
            "y | Training hyperparameter set {'conditional': False, 'early_stopping_rounds': 100, 'kernel_size': 2, 'l2_reg': 0.001, 'learning_rate': 0.03263024568244354, 'max_epochs': 1000, 'nb_filters': 23, 'nb_layers': 4}\n",
            "y | Training hyperparameter set {'conditional': False, 'early_stopping_rounds': 100, 'kernel_size': 2, 'l2_reg': 0.001, 'learning_rate': 0.02013015952143207, 'max_epochs': 1000, 'nb_filters': 23, 'nb_layers': 4}\n",
            "y | Training hyperparameter set {'conditional': False, 'early_stopping_rounds': 100, 'kernel_size': 2, 'l2_reg': 0.001, 'learning_rate': 0.02413525213334968, 'max_epochs': 1000, 'nb_filters': 23, 'nb_layers': 4}\n",
            "y | Training hyperparameter set {'conditional': False, 'early_stopping_rounds': 100, 'kernel_size': 2, 'l2_reg': 0.001, 'learning_rate': 0.017620713707101453, 'max_epochs': 1000, 'nb_filters': 16, 'nb_layers': 4}\n",
            "y | Training hyperparameter set {'conditional': False, 'early_stopping_rounds': 100, 'kernel_size': 2, 'l2_reg': 0.001, 'learning_rate': 0.03483982920208038, 'max_epochs': 1000, 'nb_filters': 22, 'nb_layers': 4}\n",
            "y | Training hyperparameter set {'conditional': False, 'early_stopping_rounds': 100, 'kernel_size': 2, 'l2_reg': 0.001, 'learning_rate': 0.044231029953184245, 'max_epochs': 1000, 'nb_filters': 14, 'nb_layers': 4}\n",
            "y | Training hyperparameter set {'conditional': False, 'early_stopping_rounds': 100, 'kernel_size': 2, 'l2_reg': 0.001, 'learning_rate': 0.021910488029836687, 'max_epochs': 1000, 'nb_filters': 8, 'nb_layers': 4}\n",
            "y | Training hyperparameter set {'conditional': False, 'early_stopping_rounds': 100, 'kernel_size': 2, 'l2_reg': 0.001, 'learning_rate': 0.02672871072702203, 'max_epochs': 1000, 'nb_filters': 21, 'nb_layers': 4}\n",
            "y | Training hyperparameter set {'conditional': False, 'early_stopping_rounds': 100, 'kernel_size': 2, 'l2_reg': 0.001, 'learning_rate': 0.014436334850323258, 'max_epochs': 1000, 'nb_filters': 12, 'nb_layers': 4}\n",
            "y | Training hyperparameter set {'conditional': False, 'early_stopping_rounds': 100, 'kernel_size': 2, 'l2_reg': 0.001, 'learning_rate': 0.009433716646055358, 'max_epochs': 1000, 'nb_filters': 7, 'nb_layers': 4}\n",
            "y | Training hyperparameter set {'conditional': False, 'early_stopping_rounds': 100, 'kernel_size': 2, 'l2_reg': 0.001, 'learning_rate': 0.04140469722627912, 'max_epochs': 1000, 'nb_filters': 19, 'nb_layers': 4}\n",
            "y | Training hyperparameter set {'conditional': False, 'early_stopping_rounds': 100, 'kernel_size': 2, 'l2_reg': 0.001, 'learning_rate': 0.018395222084334136, 'max_epochs': 1000, 'nb_filters': 10, 'nb_layers': 4}\n",
            "y | Training hyperparameter set {'conditional': False, 'early_stopping_rounds': 100, 'kernel_size': 2, 'l2_reg': 0.001, 'learning_rate': 0.012036982271931848, 'max_epochs': 1000, 'nb_filters': 17, 'nb_layers': 4}\n",
            "y | Training hyperparameter set {'conditional': False, 'early_stopping_rounds': 100, 'kernel_size': 2, 'l2_reg': 0.001, 'learning_rate': 0.029752349352483377, 'max_epochs': 1000, 'nb_filters': 13, 'nb_layers': 4}\n",
            "y | Training hyperparameter set {'conditional': False, 'early_stopping_rounds': 100, 'kernel_size': 2, 'l2_reg': 0.001, 'learning_rate': 0.01580647513042011, 'max_epochs': 1000, 'nb_filters': 23, 'nb_layers': 4}\n",
            "y | Training hyperparameter set {'conditional': False, 'early_stopping_rounds': 100, 'kernel_size': 2, 'l2_reg': 0.001, 'learning_rate': 0.001185166519386493, 'max_epochs': 1000, 'nb_filters': 11, 'nb_layers': 4}\n",
            "y | Training hyperparameter set {'conditional': False, 'early_stopping_rounds': 100, 'kernel_size': 2, 'l2_reg': 0.001, 'learning_rate': 0.006027976775909281, 'max_epochs': 1000, 'nb_filters': 15, 'nb_layers': 4}\n",
            "y | Training hyperparameter set {'conditional': False, 'early_stopping_rounds': 100, 'kernel_size': 2, 'l2_reg': 0.001, 'learning_rate': 0.004183793681096278, 'max_epochs': 1000, 'nb_filters': 21, 'nb_layers': 4}\n",
            "y | Training hyperparameter set {'conditional': False, 'early_stopping_rounds': 100, 'kernel_size': 2, 'l2_reg': 0.001, 'learning_rate': 0.0027563079655218083, 'max_epochs': 1000, 'nb_filters': 20, 'nb_layers': 4}\n",
            "y | Training hyperparameter set {'conditional': False, 'early_stopping_rounds': 100, 'kernel_size': 2, 'l2_reg': 0.001, 'learning_rate': 0.00816671567622008, 'max_epochs': 1000, 'nb_filters': 24, 'nb_layers': 4}\n",
            "y | Training hyperparameter set {'conditional': False, 'early_stopping_rounds': 100, 'kernel_size': 2, 'l2_reg': 0.001, 'learning_rate': 0.02218899921546227, 'max_epochs': 1000, 'nb_filters': 22, 'nb_layers': 4}\n",
            "y | Training hyperparameter set {'conditional': False, 'early_stopping_rounds': 100, 'kernel_size': 2, 'l2_reg': 0.001, 'learning_rate': 0.013157863532622174, 'max_epochs': 1000, 'nb_filters': 6, 'nb_layers': 4}\n",
            "y | Training hyperparameter set {'conditional': False, 'early_stopping_rounds': 100, 'kernel_size': 2, 'l2_reg': 0.001, 'learning_rate': 0.006837597810176047, 'max_epochs': 1000, 'nb_filters': 10, 'nb_layers': 4}\n",
            "y | Training hyperparameter set {'conditional': False, 'early_stopping_rounds': 100, 'kernel_size': 2, 'l2_reg': 0.001, 'learning_rate': 0.0033217550177350023, 'max_epochs': 1000, 'nb_filters': 5, 'nb_layers': 4}\n",
            "y | Training hyperparameter set {'conditional': False, 'early_stopping_rounds': 100, 'kernel_size': 2, 'l2_reg': 0.001, 'learning_rate': 0.02695252930924731, 'max_epochs': 1000, 'nb_filters': 14, 'nb_layers': 4}\n",
            "y | Training hyperparameter set {'conditional': False, 'early_stopping_rounds': 100, 'kernel_size': 2, 'l2_reg': 0.001, 'learning_rate': 0.03928993032441516, 'max_epochs': 1000, 'nb_filters': 18, 'nb_layers': 4}\n",
            "y | Training hyperparameter set {'conditional': False, 'early_stopping_rounds': 100, 'kernel_size': 2, 'l2_reg': 0.001, 'learning_rate': 0.001817599545835907, 'max_epochs': 1000, 'nb_filters': 9, 'nb_layers': 4}\n",
            "y | Training hyperparameter set {'conditional': False, 'early_stopping_rounds': 100, 'kernel_size': 2, 'l2_reg': 0.001, 'learning_rate': 0.010800085256316372, 'max_epochs': 1000, 'nb_filters': 16, 'nb_layers': 4}\n",
            "y | Training hyperparameter set {'conditional': False, 'early_stopping_rounds': 100, 'kernel_size': 2, 'l2_reg': 0.001, 'learning_rate': 0.03245674797648581, 'max_epochs': 1000, 'nb_filters': 8, 'nb_layers': 4}\n",
            "y | Training hyperparameter set {'conditional': False, 'early_stopping_rounds': 100, 'kernel_size': 2, 'l2_reg': 0.001, 'learning_rate': 0.03483992596655974, 'max_epochs': 1000, 'nb_filters': 23, 'nb_layers': 4}\n",
            "y | Training hyperparameter set {'conditional': False, 'early_stopping_rounds': 100, 'kernel_size': 2, 'l2_reg': 0.001, 'learning_rate': 0.018589281429418483, 'max_epochs': 1000, 'nb_filters': 21, 'nb_layers': 4}\n",
            "y | Training hyperparameter set {'conditional': False, 'early_stopping_rounds': 100, 'kernel_size': 2, 'l2_reg': 0.001, 'learning_rate': 0.04968621756276839, 'max_epochs': 1000, 'nb_filters': 7, 'nb_layers': 4}\n",
            "y | Training hyperparameter set {'conditional': False, 'early_stopping_rounds': 100, 'kernel_size': 2, 'l2_reg': 0.001, 'learning_rate': 0.025845659938298286, 'max_epochs': 1000, 'nb_filters': 12, 'nb_layers': 4}\n",
            "100%|██████████| 100/100 [01:31<00:00,  1.09it/s, best loss: 0.166]\n",
            "y | Training final model\n",
            "{'conditional': False, 'early_stopping_rounds': 100, 'kernel_size': 2, 'l2_reg': 0.001, 'learning_rate': 0.01018051284425694, 'max_epochs': 1000, 'nb_filters': 10, 'nb_layers': 4}\n",
            "4.34\n"
          ]
        }
      ],
      "source": [
        "target_index = 1\n",
        "u_hyperparams = {'conditional':False, 'nb_layers':4, 'kernel_size':2,\n",
        "        'nb_filters': hp.choice(\"nb_filters\", np.arange(5, 25, 1, dtype=int)),\n",
        "        'learning_rate': hp.loguniform(\"learning_rate\", np.log(0.001), np.log(0.05)), \n",
        "        'l2_reg': 0.001, 'max_epochs':1000, 'early_stopping_rounds':100 }\n",
        "uWaveNet = WaveNetWrapper(disable_cuda = True)\n",
        "uWaveNet.cross_validation(target_index=target_index, hyperparam_space=u_hyperparams, train=train_, val = val_, test = test_, \n",
        "            horizon = 200, period = 1, \n",
        "            cross_validation_objective='rmse', \n",
        "            cross_validation_objective_less_is_better=True,\n",
        "            max_evals=100)"
      ]
    },
    {
      "cell_type": "code",
      "execution_count": null,
      "metadata": {
        "id": "jOzZga7-v35B",
        "colab": {
          "base_uri": "https://localhost:8080/"
        },
        "outputId": "77ac403e-3e4b-43b4-da79-c8a71865e480"
      },
      "outputs": [
        {
          "output_type": "stream",
          "name": "stdout",
          "text": [
            "Saving model for y at ./uWaveNet0612_y\n",
            "Save Complete\n"
          ]
        }
      ],
      "source": [
        "uWaveNet.save('./uWaveNet0612_y')"
      ]
    },
    {
      "cell_type": "code",
      "execution_count": null,
      "metadata": {
        "id": "c1Lm72Kav7DU",
        "colab": {
          "base_uri": "https://localhost:8080/"
        },
        "outputId": "f4b48d51-ac84-42c1-bd7d-918b25157da0"
      },
      "outputs": [
        {
          "output_type": "execute_result",
          "data": {
            "text/plain": [
              "rmse                             0.206\n",
              "num_timestamps_predicted_on    200.000\n",
              "dtype: float64"
            ]
          },
          "metadata": {},
          "execution_count": 27
        }
      ],
      "source": [
        "uWaveNet.mean_test_metrics"
      ]
    },
    {
      "cell_type": "code",
      "execution_count": null,
      "metadata": {
        "id": "B2Wdn6bXwD0I",
        "colab": {
          "base_uri": "https://localhost:8080/",
          "height": 352
        },
        "outputId": "c71b819c-e2fc-477f-9bcb-dcf14abdc73b"
      },
      "outputs": [
        {
          "output_type": "stream",
          "name": "stdout",
          "text": [
            "rmse                             0.287\n",
            "num_timestamps_predicted_on    500.000\n",
            "dtype: float64 rmse                             0.177\n",
            "num_timestamps_predicted_on    500.000\n",
            "dtype: float64\n"
          ]
        },
        {
          "output_type": "display_data",
          "data": {
            "text/plain": [
              "<Figure size 432x288 with 1 Axes>"
            ],
            "image/png": "[encoded data removed]"
          },
          "metadata": {
            "needs_background": "light"
          }
        }
      ],
      "source": [
        "target_index = 1\n",
        "iterations = 1000\n",
        "c_predict = 0\n",
        "u_predict = 0\n",
        "c_rmse = 0\n",
        "u_rmse = 0\n",
        "\n",
        "for item in range(0,iterations):\n",
        "\n",
        "  c_pre_result = cWaveNet.predict(train_val, target_index = target_index, hps = cWaveNet.best_hyperparams, horizon = 500)\n",
        "  u_pre_result = uWaveNet.predict(train_val, target_index = target_index, hps = uWaveNet.best_hyperparams, horizon = 500)\n",
        "  c_predict = c_predict + c_pre_result\n",
        "  u_predict = u_predict + u_pre_result\n",
        "  c_metrics_result = cWaveNet.calculate_train_and_forecast_metrics(train = train_val, oos = test_, target_index=target_index, hps = cWaveNet.best_hyperparams, horizon = 500)\n",
        "  u_metrics_result = uWaveNet.calculate_train_and_forecast_metrics(train = train_val, oos = test_, target_index=target_index, hps = uWaveNet.best_hyperparams, horizon = 500)\n",
        "  c_rmse = c_rmse + c_metrics_result[1]\n",
        "  u_rmse = u_rmse + u_metrics_result[1]\n",
        "\n",
        "x1 = np.arange(len(data_y))\n",
        "x2 = np.arange(len(c_pre_result))+1000\n",
        "\n",
        "c_predict = c_predict/iterations\n",
        "u_predict = u_predict/iterations\n",
        "plt.plot(x1,data_y,'g-')\n",
        "plt.plot(x2,c_predict,'b--')\n",
        "plt.plot(x2,u_predict,'r-')\n",
        "\n",
        "\n",
        "\n",
        "c_rmse_result = c_rmse/iterations\n",
        "u_rmse_result = u_rmse/iterations\n",
        "print(c_rmse_result, u_rmse_result)"
      ]
    },
    {
      "cell_type": "markdown",
      "source": [
        "## teain cWaveNet_z & uWaveNet_z"
      ],
      "metadata": {
        "id": "YuBrGaAv6p1I"
      }
    },
    {
      "cell_type": "code",
      "source": [
        "target_index = 2\n",
        "c_hyperparams = {'conditional':True, 'nb_layers':4, 'kernel_size':2,\n",
        "        'nb_filters': hp.choice(\"nb_filters\", np.arange(5, 25, 1, dtype=int)),\n",
        "        'learning_rate': hp.loguniform(\"learning_rate\", np.log(0.001), np.log(0.05)), \n",
        "        'l2_reg': 0.001, 'max_epochs':1000, 'early_stopping_rounds':100 }\n",
        "cWaveNet = WaveNetWrapper(disable_cuda = True)\n",
        "cWaveNet.cross_validation(target_index=target_index, hyperparam_space=c_hyperparams, train=train_, val = val_, test = test_, \n",
        "            horizon = 200, period = 1, \n",
        "            cross_validation_objective='rmse', \n",
        "            cross_validation_objective_less_is_better=True,\n",
        "            max_evals=100)"
      ],
      "metadata": {
        "colab": {
          "base_uri": "https://localhost:8080/"
        },
        "id": "1OhuVvV26ywq",
        "outputId": "d970cfd7-6b4b-4d67-a28c-7c1d32d1a997"
      },
      "execution_count": null,
      "outputs": [
        {
          "output_type": "stream",
          "name": "stdout",
          "text": [
            "z | Training hyperparameter set {'conditional': True, 'early_stopping_rounds': 100, 'kernel_size': 2, 'l2_reg': 0.001, 'learning_rate': 0.0023619427133148084, 'max_epochs': 1000, 'nb_filters': 14, 'nb_layers': 4}\n",
            "z | Training hyperparameter set {'conditional': True, 'early_stopping_rounds': 100, 'kernel_size': 2, 'l2_reg': 0.001, 'learning_rate': 0.0014359593116731342, 'max_epochs': 1000, 'nb_filters': 15, 'nb_layers': 4}\n",
            "z | Training hyperparameter set {'conditional': True, 'early_stopping_rounds': 100, 'kernel_size': 2, 'l2_reg': 0.001, 'learning_rate': 0.003571620062615661, 'max_epochs': 1000, 'nb_filters': 18, 'nb_layers': 4}\n",
            "z | Training hyperparameter set {'conditional': True, 'early_stopping_rounds': 100, 'kernel_size': 2, 'l2_reg': 0.001, 'learning_rate': 0.0024265636059969597, 'max_epochs': 1000, 'nb_filters': 22, 'nb_layers': 4}\n",
            "z | Training hyperparameter set {'conditional': True, 'early_stopping_rounds': 100, 'kernel_size': 2, 'l2_reg': 0.001, 'learning_rate': 0.019986855796925506, 'max_epochs': 1000, 'nb_filters': 22, 'nb_layers': 4}\n",
            "z | Training hyperparameter set {'conditional': True, 'early_stopping_rounds': 100, 'kernel_size': 2, 'l2_reg': 0.001, 'learning_rate': 0.0028873410147316385, 'max_epochs': 1000, 'nb_filters': 13, 'nb_layers': 4}\n",
            "z | Training hyperparameter set {'conditional': True, 'early_stopping_rounds': 100, 'kernel_size': 2, 'l2_reg': 0.001, 'learning_rate': 0.002421351650974595, 'max_epochs': 1000, 'nb_filters': 12, 'nb_layers': 4}\n",
            "z | Training hyperparameter set {'conditional': True, 'early_stopping_rounds': 100, 'kernel_size': 2, 'l2_reg': 0.001, 'learning_rate': 0.0010440136921017478, 'max_epochs': 1000, 'nb_filters': 24, 'nb_layers': 4}\n",
            "z | Training hyperparameter set {'conditional': True, 'early_stopping_rounds': 100, 'kernel_size': 2, 'l2_reg': 0.001, 'learning_rate': 0.02350267673378014, 'max_epochs': 1000, 'nb_filters': 10, 'nb_layers': 4}\n",
            "z | Training hyperparameter set {'conditional': True, 'early_stopping_rounds': 100, 'kernel_size': 2, 'l2_reg': 0.001, 'learning_rate': 0.008265077143575527, 'max_epochs': 1000, 'nb_filters': 13, 'nb_layers': 4}\n",
            "z | Training hyperparameter set {'conditional': True, 'early_stopping_rounds': 100, 'kernel_size': 2, 'l2_reg': 0.001, 'learning_rate': 0.0017258659902244827, 'max_epochs': 1000, 'nb_filters': 6, 'nb_layers': 4}\n",
            "z | Training hyperparameter set {'conditional': True, 'early_stopping_rounds': 100, 'kernel_size': 2, 'l2_reg': 0.001, 'learning_rate': 0.00865518659296383, 'max_epochs': 1000, 'nb_filters': 22, 'nb_layers': 4}\n",
            "z | Training hyperparameter set {'conditional': True, 'early_stopping_rounds': 100, 'kernel_size': 2, 'l2_reg': 0.001, 'learning_rate': 0.0493101236151587, 'max_epochs': 1000, 'nb_filters': 23, 'nb_layers': 4}\n",
            "z | Training hyperparameter set {'conditional': True, 'early_stopping_rounds': 100, 'kernel_size': 2, 'l2_reg': 0.001, 'learning_rate': 0.02884415221416235, 'max_epochs': 1000, 'nb_filters': 20, 'nb_layers': 4}\n",
            "z | Training hyperparameter set {'conditional': True, 'early_stopping_rounds': 100, 'kernel_size': 2, 'l2_reg': 0.001, 'learning_rate': 0.010742865518760254, 'max_epochs': 1000, 'nb_filters': 24, 'nb_layers': 4}\n",
            "z | Training hyperparameter set {'conditional': True, 'early_stopping_rounds': 100, 'kernel_size': 2, 'l2_reg': 0.001, 'learning_rate': 0.03468463354254666, 'max_epochs': 1000, 'nb_filters': 15, 'nb_layers': 4}\n",
            "z | Training hyperparameter set {'conditional': True, 'early_stopping_rounds': 100, 'kernel_size': 2, 'l2_reg': 0.001, 'learning_rate': 0.008215594552649272, 'max_epochs': 1000, 'nb_filters': 10, 'nb_layers': 4}\n",
            "z | Training hyperparameter set {'conditional': True, 'early_stopping_rounds': 100, 'kernel_size': 2, 'l2_reg': 0.001, 'learning_rate': 0.04408153187226121, 'max_epochs': 1000, 'nb_filters': 14, 'nb_layers': 4}\n",
            "z | Training hyperparameter set {'conditional': True, 'early_stopping_rounds': 100, 'kernel_size': 2, 'l2_reg': 0.001, 'learning_rate': 0.0028636949634569106, 'max_epochs': 1000, 'nb_filters': 22, 'nb_layers': 4}\n",
            "z | Training hyperparameter set {'conditional': True, 'early_stopping_rounds': 100, 'kernel_size': 2, 'l2_reg': 0.001, 'learning_rate': 0.015497430155378755, 'max_epochs': 1000, 'nb_filters': 16, 'nb_layers': 4}\n",
            "z | Training hyperparameter set {'conditional': True, 'early_stopping_rounds': 100, 'kernel_size': 2, 'l2_reg': 0.001, 'learning_rate': 0.0049416013745083006, 'max_epochs': 1000, 'nb_filters': 7, 'nb_layers': 4}\n",
            "z | Training hyperparameter set {'conditional': True, 'early_stopping_rounds': 100, 'kernel_size': 2, 'l2_reg': 0.001, 'learning_rate': 0.01235630441684666, 'max_epochs': 1000, 'nb_filters': 24, 'nb_layers': 4}\n",
            "z | Training hyperparameter set {'conditional': True, 'early_stopping_rounds': 100, 'kernel_size': 2, 'l2_reg': 0.001, 'learning_rate': 0.014797429184259421, 'max_epochs': 1000, 'nb_filters': 16, 'nb_layers': 4}\n",
            "z | Training hyperparameter set {'conditional': True, 'early_stopping_rounds': 100, 'kernel_size': 2, 'l2_reg': 0.001, 'learning_rate': 0.005476681721232429, 'max_epochs': 1000, 'nb_filters': 19, 'nb_layers': 4}\n",
            "z | Training hyperparameter set {'conditional': True, 'early_stopping_rounds': 100, 'kernel_size': 2, 'l2_reg': 0.001, 'learning_rate': 0.01181200241410436, 'max_epochs': 1000, 'nb_filters': 8, 'nb_layers': 4}\n",
            "z | Training hyperparameter set {'conditional': True, 'early_stopping_rounds': 100, 'kernel_size': 2, 'l2_reg': 0.001, 'learning_rate': 0.012754007159895102, 'max_epochs': 1000, 'nb_filters': 17, 'nb_layers': 4}\n",
            "z | Training hyperparameter set {'conditional': True, 'early_stopping_rounds': 100, 'kernel_size': 2, 'l2_reg': 0.001, 'learning_rate': 0.01870579257755886, 'max_epochs': 1000, 'nb_filters': 11, 'nb_layers': 4}\n",
            "z | Training hyperparameter set {'conditional': True, 'early_stopping_rounds': 100, 'kernel_size': 2, 'l2_reg': 0.001, 'learning_rate': 0.005920666626782632, 'max_epochs': 1000, 'nb_filters': 21, 'nb_layers': 4}\n",
            "z | Training hyperparameter set {'conditional': True, 'early_stopping_rounds': 100, 'kernel_size': 2, 'l2_reg': 0.001, 'learning_rate': 0.010121484270574098, 'max_epochs': 1000, 'nb_filters': 5, 'nb_layers': 4}\n",
            "z | Training hyperparameter set {'conditional': True, 'early_stopping_rounds': 100, 'kernel_size': 2, 'l2_reg': 0.001, 'learning_rate': 0.0041887171670302505, 'max_epochs': 1000, 'nb_filters': 16, 'nb_layers': 4}\n",
            "z | Training hyperparameter set {'conditional': True, 'early_stopping_rounds': 100, 'kernel_size': 2, 'l2_reg': 0.001, 'learning_rate': 0.01616338567019177, 'max_epochs': 1000, 'nb_filters': 24, 'nb_layers': 4}\n",
            "z | Training hyperparameter set {'conditional': True, 'early_stopping_rounds': 100, 'kernel_size': 2, 'l2_reg': 0.001, 'learning_rate': 0.026895076311549818, 'max_epochs': 1000, 'nb_filters': 16, 'nb_layers': 4}\n",
            "z | Training hyperparameter set {'conditional': True, 'early_stopping_rounds': 100, 'kernel_size': 2, 'l2_reg': 0.001, 'learning_rate': 0.03614088801298214, 'max_epochs': 1000, 'nb_filters': 9, 'nb_layers': 4}\n",
            "z | Training hyperparameter set {'conditional': True, 'early_stopping_rounds': 100, 'kernel_size': 2, 'l2_reg': 0.001, 'learning_rate': 0.026206666720504194, 'max_epochs': 1000, 'nb_filters': 18, 'nb_layers': 4}\n",
            "z | Training hyperparameter set {'conditional': True, 'early_stopping_rounds': 100, 'kernel_size': 2, 'l2_reg': 0.001, 'learning_rate': 0.022368061440030312, 'max_epochs': 1000, 'nb_filters': 5, 'nb_layers': 4}\n",
            "z | Training hyperparameter set {'conditional': True, 'early_stopping_rounds': 100, 'kernel_size': 2, 'l2_reg': 0.001, 'learning_rate': 0.03331078054723068, 'max_epochs': 1000, 'nb_filters': 11, 'nb_layers': 4}\n",
            "z | Training hyperparameter set {'conditional': True, 'early_stopping_rounds': 100, 'kernel_size': 2, 'l2_reg': 0.001, 'learning_rate': 0.006448857182988572, 'max_epochs': 1000, 'nb_filters': 12, 'nb_layers': 4}\n",
            "z | Training hyperparameter set {'conditional': True, 'early_stopping_rounds': 100, 'kernel_size': 2, 'l2_reg': 0.001, 'learning_rate': 0.04226723532063342, 'max_epochs': 1000, 'nb_filters': 24, 'nb_layers': 4}\n",
            "z | Training hyperparameter set {'conditional': True, 'early_stopping_rounds': 100, 'kernel_size': 2, 'l2_reg': 0.001, 'learning_rate': 0.020032535008924792, 'max_epochs': 1000, 'nb_filters': 8, 'nb_layers': 4}\n",
            "z | Training hyperparameter set {'conditional': True, 'early_stopping_rounds': 100, 'kernel_size': 2, 'l2_reg': 0.001, 'learning_rate': 0.007138239018811326, 'max_epochs': 1000, 'nb_filters': 21, 'nb_layers': 4}\n",
            "z | Training hyperparameter set {'conditional': True, 'early_stopping_rounds': 100, 'kernel_size': 2, 'l2_reg': 0.001, 'learning_rate': 0.001747965418506399, 'max_epochs': 1000, 'nb_filters': 20, 'nb_layers': 4}\n",
            "z | Training hyperparameter set {'conditional': True, 'early_stopping_rounds': 100, 'kernel_size': 2, 'l2_reg': 0.001, 'learning_rate': 0.0037275158176099006, 'max_epochs': 1000, 'nb_filters': 23, 'nb_layers': 4}\n",
            "z | Training hyperparameter set {'conditional': True, 'early_stopping_rounds': 100, 'kernel_size': 2, 'l2_reg': 0.001, 'learning_rate': 0.01020811294784423, 'max_epochs': 1000, 'nb_filters': 6, 'nb_layers': 4}\n",
            "z | Training hyperparameter set {'conditional': True, 'early_stopping_rounds': 100, 'kernel_size': 2, 'l2_reg': 0.001, 'learning_rate': 0.02681219829013517, 'max_epochs': 1000, 'nb_filters': 13, 'nb_layers': 4}\n",
            "z | Training hyperparameter set {'conditional': True, 'early_stopping_rounds': 100, 'kernel_size': 2, 'l2_reg': 0.001, 'learning_rate': 0.001104825064536077, 'max_epochs': 1000, 'nb_filters': 17, 'nb_layers': 4}\n",
            "z | Training hyperparameter set {'conditional': True, 'early_stopping_rounds': 100, 'kernel_size': 2, 'l2_reg': 0.001, 'learning_rate': 0.04978650321080389, 'max_epochs': 1000, 'nb_filters': 15, 'nb_layers': 4}\n",
            "z | Training hyperparameter set {'conditional': True, 'early_stopping_rounds': 100, 'kernel_size': 2, 'l2_reg': 0.001, 'learning_rate': 0.018278026935840994, 'max_epochs': 1000, 'nb_filters': 14, 'nb_layers': 4}\n",
            "z | Training hyperparameter set {'conditional': True, 'early_stopping_rounds': 100, 'kernel_size': 2, 'l2_reg': 0.001, 'learning_rate': 0.009703411103229982, 'max_epochs': 1000, 'nb_filters': 16, 'nb_layers': 4}\n",
            "z | Training hyperparameter set {'conditional': True, 'early_stopping_rounds': 100, 'kernel_size': 2, 'l2_reg': 0.001, 'learning_rate': 0.0029065885864193526, 'max_epochs': 1000, 'nb_filters': 7, 'nb_layers': 4}\n",
            "z | Training hyperparameter set {'conditional': True, 'early_stopping_rounds': 100, 'kernel_size': 2, 'l2_reg': 0.001, 'learning_rate': 0.00772204509808543, 'max_epochs': 1000, 'nb_filters': 16, 'nb_layers': 4}\n",
            "z | Training hyperparameter set {'conditional': True, 'early_stopping_rounds': 100, 'kernel_size': 2, 'l2_reg': 0.001, 'learning_rate': 0.009103709291816297, 'max_epochs': 1000, 'nb_filters': 16, 'nb_layers': 4}\n",
            "z | Training hyperparameter set {'conditional': True, 'early_stopping_rounds': 100, 'kernel_size': 2, 'l2_reg': 0.001, 'learning_rate': 0.004544629878555215, 'max_epochs': 1000, 'nb_filters': 16, 'nb_layers': 4}\n",
            "z | Training hyperparameter set {'conditional': True, 'early_stopping_rounds': 100, 'kernel_size': 2, 'l2_reg': 0.001, 'learning_rate': 0.0018134974647755848, 'max_epochs': 1000, 'nb_filters': 19, 'nb_layers': 4}\n",
            "z | Training hyperparameter set {'conditional': True, 'early_stopping_rounds': 100, 'kernel_size': 2, 'l2_reg': 0.001, 'learning_rate': 0.0032369468233137463, 'max_epochs': 1000, 'nb_filters': 10, 'nb_layers': 4}\n",
            "z | Training hyperparameter set {'conditional': True, 'early_stopping_rounds': 100, 'kernel_size': 2, 'l2_reg': 0.001, 'learning_rate': 0.00942189374597523, 'max_epochs': 1000, 'nb_filters': 9, 'nb_layers': 4}\n",
            "z | Training hyperparameter set {'conditional': True, 'early_stopping_rounds': 100, 'kernel_size': 2, 'l2_reg': 0.001, 'learning_rate': 0.03099692962837403, 'max_epochs': 1000, 'nb_filters': 16, 'nb_layers': 4}\n",
            "z | Training hyperparameter set {'conditional': True, 'early_stopping_rounds': 100, 'kernel_size': 2, 'l2_reg': 0.001, 'learning_rate': 0.0022121629766276947, 'max_epochs': 1000, 'nb_filters': 12, 'nb_layers': 4}\n",
            "z | Training hyperparameter set {'conditional': True, 'early_stopping_rounds': 100, 'kernel_size': 2, 'l2_reg': 0.001, 'learning_rate': 0.014346782956800691, 'max_epochs': 1000, 'nb_filters': 24, 'nb_layers': 4}\n",
            "z | Training hyperparameter set {'conditional': True, 'early_stopping_rounds': 100, 'kernel_size': 2, 'l2_reg': 0.001, 'learning_rate': 0.005082621070965804, 'max_epochs': 1000, 'nb_filters': 6, 'nb_layers': 4}\n",
            "z | Training hyperparameter set {'conditional': True, 'early_stopping_rounds': 100, 'kernel_size': 2, 'l2_reg': 0.001, 'learning_rate': 0.0406703152523441, 'max_epochs': 1000, 'nb_filters': 18, 'nb_layers': 4}\n",
            "z | Training hyperparameter set {'conditional': True, 'early_stopping_rounds': 100, 'kernel_size': 2, 'l2_reg': 0.001, 'learning_rate': 0.01177769695619362, 'max_epochs': 1000, 'nb_filters': 24, 'nb_layers': 4}\n",
            "z | Training hyperparameter set {'conditional': True, 'early_stopping_rounds': 100, 'kernel_size': 2, 'l2_reg': 0.001, 'learning_rate': 0.0011640048455446635, 'max_epochs': 1000, 'nb_filters': 22, 'nb_layers': 4}\n",
            "z | Training hyperparameter set {'conditional': True, 'early_stopping_rounds': 100, 'kernel_size': 2, 'l2_reg': 0.001, 'learning_rate': 0.006263141946626692, 'max_epochs': 1000, 'nb_filters': 23, 'nb_layers': 4}\n",
            "z | Training hyperparameter set {'conditional': True, 'early_stopping_rounds': 100, 'kernel_size': 2, 'l2_reg': 0.001, 'learning_rate': 0.022980959729788947, 'max_epochs': 1000, 'nb_filters': 16, 'nb_layers': 4}\n",
            "z | Training hyperparameter set {'conditional': True, 'early_stopping_rounds': 100, 'kernel_size': 2, 'l2_reg': 0.001, 'learning_rate': 0.013331778238650423, 'max_epochs': 1000, 'nb_filters': 20, 'nb_layers': 4}\n",
            "z | Training hyperparameter set {'conditional': True, 'early_stopping_rounds': 100, 'kernel_size': 2, 'l2_reg': 0.001, 'learning_rate': 0.017099347098954058, 'max_epochs': 1000, 'nb_filters': 16, 'nb_layers': 4}\n",
            "z | Training hyperparameter set {'conditional': True, 'early_stopping_rounds': 100, 'kernel_size': 2, 'l2_reg': 0.001, 'learning_rate': 0.011021410767146265, 'max_epochs': 1000, 'nb_filters': 13, 'nb_layers': 4}\n",
            "z | Training hyperparameter set {'conditional': True, 'early_stopping_rounds': 100, 'kernel_size': 2, 'l2_reg': 0.001, 'learning_rate': 0.00872445156174136, 'max_epochs': 1000, 'nb_filters': 7, 'nb_layers': 4}\n",
            "z | Training hyperparameter set {'conditional': True, 'early_stopping_rounds': 100, 'kernel_size': 2, 'l2_reg': 0.001, 'learning_rate': 0.007115392797205765, 'max_epochs': 1000, 'nb_filters': 15, 'nb_layers': 4}\n",
            "z | Training hyperparameter set {'conditional': True, 'early_stopping_rounds': 100, 'kernel_size': 2, 'l2_reg': 0.001, 'learning_rate': 0.02118630341350019, 'max_epochs': 1000, 'nb_filters': 14, 'nb_layers': 4}\n",
            "z | Training hyperparameter set {'conditional': True, 'early_stopping_rounds': 100, 'kernel_size': 2, 'l2_reg': 0.001, 'learning_rate': 0.004177614994714751, 'max_epochs': 1000, 'nb_filters': 16, 'nb_layers': 4}\n",
            "z | Training hyperparameter set {'conditional': True, 'early_stopping_rounds': 100, 'kernel_size': 2, 'l2_reg': 0.001, 'learning_rate': 0.025178056587076576, 'max_epochs': 1000, 'nb_filters': 16, 'nb_layers': 4}\n",
            "z | Training hyperparameter set {'conditional': True, 'early_stopping_rounds': 100, 'kernel_size': 2, 'l2_reg': 0.001, 'learning_rate': 0.0056693717331901365, 'max_epochs': 1000, 'nb_filters': 11, 'nb_layers': 4}\n",
            "z | Training hyperparameter set {'conditional': True, 'early_stopping_rounds': 100, 'kernel_size': 2, 'l2_reg': 0.001, 'learning_rate': 0.038704093686284774, 'max_epochs': 1000, 'nb_filters': 8, 'nb_layers': 4}\n",
            "z | Training hyperparameter set {'conditional': True, 'early_stopping_rounds': 100, 'kernel_size': 2, 'l2_reg': 0.001, 'learning_rate': 0.013946734356184674, 'max_epochs': 1000, 'nb_filters': 16, 'nb_layers': 4}\n",
            "z | Training hyperparameter set {'conditional': True, 'early_stopping_rounds': 100, 'kernel_size': 2, 'l2_reg': 0.001, 'learning_rate': 0.008921262076376623, 'max_epochs': 1000, 'nb_filters': 21, 'nb_layers': 4}\n",
            "z | Training hyperparameter set {'conditional': True, 'early_stopping_rounds': 100, 'kernel_size': 2, 'l2_reg': 0.001, 'learning_rate': 0.016318241183418552, 'max_epochs': 1000, 'nb_filters': 5, 'nb_layers': 4}\n",
            "z | Training hyperparameter set {'conditional': True, 'early_stopping_rounds': 100, 'kernel_size': 2, 'l2_reg': 0.001, 'learning_rate': 0.007975376412796126, 'max_epochs': 1000, 'nb_filters': 17, 'nb_layers': 4}\n",
            "z | Training hyperparameter set {'conditional': True, 'early_stopping_rounds': 100, 'kernel_size': 2, 'l2_reg': 0.001, 'learning_rate': 0.0021630550216757403, 'max_epochs': 1000, 'nb_filters': 10, 'nb_layers': 4}\n",
            "z | Training hyperparameter set {'conditional': True, 'early_stopping_rounds': 100, 'kernel_size': 2, 'l2_reg': 0.001, 'learning_rate': 0.045758431335357445, 'max_epochs': 1000, 'nb_filters': 19, 'nb_layers': 4}\n",
            "z | Training hyperparameter set {'conditional': True, 'early_stopping_rounds': 100, 'kernel_size': 2, 'l2_reg': 0.001, 'learning_rate': 0.0014663254935007824, 'max_epochs': 1000, 'nb_filters': 16, 'nb_layers': 4}\n",
            "z | Training hyperparameter set {'conditional': True, 'early_stopping_rounds': 100, 'kernel_size': 2, 'l2_reg': 0.001, 'learning_rate': 0.030332784382674737, 'max_epochs': 1000, 'nb_filters': 24, 'nb_layers': 4}\n",
            "z | Training hyperparameter set {'conditional': True, 'early_stopping_rounds': 100, 'kernel_size': 2, 'l2_reg': 0.001, 'learning_rate': 0.010765541412602594, 'max_epochs': 1000, 'nb_filters': 9, 'nb_layers': 4}\n",
            "z | Training hyperparameter set {'conditional': True, 'early_stopping_rounds': 100, 'kernel_size': 2, 'l2_reg': 0.001, 'learning_rate': 0.003472718296964071, 'max_epochs': 1000, 'nb_filters': 16, 'nb_layers': 4}\n",
            "z | Training hyperparameter set {'conditional': True, 'early_stopping_rounds': 100, 'kernel_size': 2, 'l2_reg': 0.001, 'learning_rate': 0.004780622153470619, 'max_epochs': 1000, 'nb_filters': 18, 'nb_layers': 4}\n",
            "z | Training hyperparameter set {'conditional': True, 'early_stopping_rounds': 100, 'kernel_size': 2, 'l2_reg': 0.001, 'learning_rate': 0.009577737331836457, 'max_epochs': 1000, 'nb_filters': 22, 'nb_layers': 4}\n",
            "z | Training hyperparameter set {'conditional': True, 'early_stopping_rounds': 100, 'kernel_size': 2, 'l2_reg': 0.001, 'learning_rate': 0.018627856297561775, 'max_epochs': 1000, 'nb_filters': 12, 'nb_layers': 4}\n",
            "z | Training hyperparameter set {'conditional': True, 'early_stopping_rounds': 100, 'kernel_size': 2, 'l2_reg': 0.001, 'learning_rate': 0.006436860651786565, 'max_epochs': 1000, 'nb_filters': 6, 'nb_layers': 4}\n",
            "z | Training hyperparameter set {'conditional': True, 'early_stopping_rounds': 100, 'kernel_size': 2, 'l2_reg': 0.001, 'learning_rate': 0.00392319968118943, 'max_epochs': 1000, 'nb_filters': 20, 'nb_layers': 4}\n",
            "z | Training hyperparameter set {'conditional': True, 'early_stopping_rounds': 100, 'kernel_size': 2, 'l2_reg': 0.001, 'learning_rate': 0.0040203684730015735, 'max_epochs': 1000, 'nb_filters': 20, 'nb_layers': 4}\n",
            "z | Training hyperparameter set {'conditional': True, 'early_stopping_rounds': 100, 'kernel_size': 2, 'l2_reg': 0.001, 'learning_rate': 0.002497750442957513, 'max_epochs': 1000, 'nb_filters': 20, 'nb_layers': 4}\n",
            "z | Training hyperparameter set {'conditional': True, 'early_stopping_rounds': 100, 'kernel_size': 2, 'l2_reg': 0.001, 'learning_rate': 0.0030579261657549335, 'max_epochs': 1000, 'nb_filters': 24, 'nb_layers': 4}\n",
            "z | Training hyperparameter set {'conditional': True, 'early_stopping_rounds': 100, 'kernel_size': 2, 'l2_reg': 0.001, 'learning_rate': 0.0026215081491910695, 'max_epochs': 1000, 'nb_filters': 20, 'nb_layers': 4}\n",
            "z | Training hyperparameter set {'conditional': True, 'early_stopping_rounds': 100, 'kernel_size': 2, 'l2_reg': 0.001, 'learning_rate': 0.005466189765006158, 'max_epochs': 1000, 'nb_filters': 20, 'nb_layers': 4}\n",
            "z | Training hyperparameter set {'conditional': True, 'early_stopping_rounds': 100, 'kernel_size': 2, 'l2_reg': 0.001, 'learning_rate': 0.0020094998990494925, 'max_epochs': 1000, 'nb_filters': 13, 'nb_layers': 4}\n",
            "z | Training hyperparameter set {'conditional': True, 'early_stopping_rounds': 100, 'kernel_size': 2, 'l2_reg': 0.001, 'learning_rate': 0.0014977231103790567, 'max_epochs': 1000, 'nb_filters': 23, 'nb_layers': 4}\n",
            "z | Training hyperparameter set {'conditional': True, 'early_stopping_rounds': 100, 'kernel_size': 2, 'l2_reg': 0.001, 'learning_rate': 0.0035881878608556, 'max_epochs': 1000, 'nb_filters': 11, 'nb_layers': 4}\n",
            "z | Training hyperparameter set {'conditional': True, 'early_stopping_rounds': 100, 'kernel_size': 2, 'l2_reg': 0.001, 'learning_rate': 0.0038613396368689366, 'max_epochs': 1000, 'nb_filters': 15, 'nb_layers': 4}\n",
            "z | Training hyperparameter set {'conditional': True, 'early_stopping_rounds': 100, 'kernel_size': 2, 'l2_reg': 0.001, 'learning_rate': 0.0013262597492417199, 'max_epochs': 1000, 'nb_filters': 14, 'nb_layers': 4}\n",
            "z | Training hyperparameter set {'conditional': True, 'early_stopping_rounds': 100, 'kernel_size': 2, 'l2_reg': 0.001, 'learning_rate': 0.007132452451832443, 'max_epochs': 1000, 'nb_filters': 5, 'nb_layers': 4}\n",
            "100%|██████████| 100/100 [04:55<00:00,  2.96s/it, best loss: 0.193]\n",
            "z | Training final model\n",
            "{'conditional': True, 'early_stopping_rounds': 100, 'kernel_size': 2, 'l2_reg': 0.001, 'learning_rate': 0.00392319968118943, 'max_epochs': 1000, 'nb_filters': 20, 'nb_layers': 4}\n",
            "15.03\n"
          ]
        }
      ]
    },
    {
      "cell_type": "code",
      "source": [
        "cWaveNet.save('./cWaveNet0612_z')"
      ],
      "metadata": {
        "colab": {
          "base_uri": "https://localhost:8080/"
        },
        "id": "nSxJNLMp62Pq",
        "outputId": "b5dd223d-726e-46e5-91a7-f69137dc2a11"
      },
      "execution_count": null,
      "outputs": [
        {
          "output_type": "stream",
          "name": "stdout",
          "text": [
            "Saving model for z at ./cWaveNet0612_z\n",
            "Save Complete\n"
          ]
        }
      ]
    },
    {
      "cell_type": "code",
      "source": [
        "cWaveNet.mean_test_metrics"
      ],
      "metadata": {
        "colab": {
          "base_uri": "https://localhost:8080/"
        },
        "id": "02J3BHQ-651q",
        "outputId": "403a1a7f-db02-4076-82b4-6601fea2c7f3"
      },
      "execution_count": null,
      "outputs": [
        {
          "output_type": "execute_result",
          "data": {
            "text/plain": [
              "rmse                             0.203\n",
              "num_timestamps_predicted_on    200.000\n",
              "dtype: float64"
            ]
          },
          "metadata": {},
          "execution_count": 80
        }
      ]
    },
    {
      "cell_type": "code",
      "source": [
        "target_index = 2\n",
        "u_hyperparams = {'conditional':False, 'nb_layers':4, 'kernel_size':2,\n",
        "        'nb_filters': hp.choice(\"nb_filters\", np.arange(5, 25, 1, dtype=int)),\n",
        "        'learning_rate': hp.loguniform(\"learning_rate\", np.log(0.001), np.log(0.05)), \n",
        "        'l2_reg': 0.001, 'max_epochs':1000, 'early_stopping_rounds':100 }\n",
        "uWaveNet = WaveNetWrapper(disable_cuda = True)\n",
        "uWaveNet.cross_validation(target_index=target_index, hyperparam_space=u_hyperparams, train=train_, val = val_, test = test_, \n",
        "            horizon = 200, period = 1, \n",
        "            cross_validation_objective='rmse', \n",
        "            cross_validation_objective_less_is_better=True,\n",
        "            max_evals=100)"
      ],
      "metadata": {
        "colab": {
          "base_uri": "https://localhost:8080/"
        },
        "id": "4m3WB9kX69BY",
        "outputId": "4e60cb2c-2645-4c7c-e0ba-4e5992049e91"
      },
      "execution_count": null,
      "outputs": [
        {
          "output_type": "stream",
          "name": "stdout",
          "text": [
            "z | Training hyperparameter set {'conditional': False, 'early_stopping_rounds': 100, 'kernel_size': 2, 'l2_reg': 0.001, 'learning_rate': 0.010809416580896713, 'max_epochs': 1000, 'nb_filters': 7, 'nb_layers': 4}\n",
            "z | Training hyperparameter set {'conditional': False, 'early_stopping_rounds': 100, 'kernel_size': 2, 'l2_reg': 0.001, 'learning_rate': 0.0012441616982630916, 'max_epochs': 1000, 'nb_filters': 24, 'nb_layers': 4}\n",
            "z | Training hyperparameter set {'conditional': False, 'early_stopping_rounds': 100, 'kernel_size': 2, 'l2_reg': 0.001, 'learning_rate': 0.0021315774483938784, 'max_epochs': 1000, 'nb_filters': 23, 'nb_layers': 4}\n",
            "z | Training hyperparameter set {'conditional': False, 'early_stopping_rounds': 100, 'kernel_size': 2, 'l2_reg': 0.001, 'learning_rate': 0.002125063785986265, 'max_epochs': 1000, 'nb_filters': 19, 'nb_layers': 4}\n",
            "z | Training hyperparameter set {'conditional': False, 'early_stopping_rounds': 100, 'kernel_size': 2, 'l2_reg': 0.001, 'learning_rate': 0.0189421346510705, 'max_epochs': 1000, 'nb_filters': 22, 'nb_layers': 4}\n",
            "z | Training hyperparameter set {'conditional': False, 'early_stopping_rounds': 100, 'kernel_size': 2, 'l2_reg': 0.001, 'learning_rate': 0.04479506849977568, 'max_epochs': 1000, 'nb_filters': 11, 'nb_layers': 4}\n",
            "z | Training hyperparameter set {'conditional': False, 'early_stopping_rounds': 100, 'kernel_size': 2, 'l2_reg': 0.001, 'learning_rate': 0.010941435308651614, 'max_epochs': 1000, 'nb_filters': 19, 'nb_layers': 4}\n",
            "z | Training hyperparameter set {'conditional': False, 'early_stopping_rounds': 100, 'kernel_size': 2, 'l2_reg': 0.001, 'learning_rate': 0.005562435101885857, 'max_epochs': 1000, 'nb_filters': 10, 'nb_layers': 4}\n",
            "z | Training hyperparameter set {'conditional': False, 'early_stopping_rounds': 100, 'kernel_size': 2, 'l2_reg': 0.001, 'learning_rate': 0.003798469440819849, 'max_epochs': 1000, 'nb_filters': 21, 'nb_layers': 4}\n",
            "z | Training hyperparameter set {'conditional': False, 'early_stopping_rounds': 100, 'kernel_size': 2, 'l2_reg': 0.001, 'learning_rate': 0.0486125014811589, 'max_epochs': 1000, 'nb_filters': 5, 'nb_layers': 4}\n",
            "z | Training hyperparameter set {'conditional': False, 'early_stopping_rounds': 100, 'kernel_size': 2, 'l2_reg': 0.001, 'learning_rate': 0.04846492491988747, 'max_epochs': 1000, 'nb_filters': 24, 'nb_layers': 4}\n",
            "z | Training hyperparameter set {'conditional': False, 'early_stopping_rounds': 100, 'kernel_size': 2, 'l2_reg': 0.001, 'learning_rate': 0.04720553304389685, 'max_epochs': 1000, 'nb_filters': 5, 'nb_layers': 4}\n",
            "z | Training hyperparameter set {'conditional': False, 'early_stopping_rounds': 100, 'kernel_size': 2, 'l2_reg': 0.001, 'learning_rate': 0.006498289879336838, 'max_epochs': 1000, 'nb_filters': 16, 'nb_layers': 4}\n",
            "z | Training hyperparameter set {'conditional': False, 'early_stopping_rounds': 100, 'kernel_size': 2, 'l2_reg': 0.001, 'learning_rate': 0.0014111971014441318, 'max_epochs': 1000, 'nb_filters': 22, 'nb_layers': 4}\n",
            "z | Training hyperparameter set {'conditional': False, 'early_stopping_rounds': 100, 'kernel_size': 2, 'l2_reg': 0.001, 'learning_rate': 0.008426823671221063, 'max_epochs': 1000, 'nb_filters': 16, 'nb_layers': 4}\n",
            "z | Training hyperparameter set {'conditional': False, 'early_stopping_rounds': 100, 'kernel_size': 2, 'l2_reg': 0.001, 'learning_rate': 0.0019071779103240418, 'max_epochs': 1000, 'nb_filters': 14, 'nb_layers': 4}\n",
            "z | Training hyperparameter set {'conditional': False, 'early_stopping_rounds': 100, 'kernel_size': 2, 'l2_reg': 0.001, 'learning_rate': 0.04277911201156851, 'max_epochs': 1000, 'nb_filters': 12, 'nb_layers': 4}\n",
            "z | Training hyperparameter set {'conditional': False, 'early_stopping_rounds': 100, 'kernel_size': 2, 'l2_reg': 0.001, 'learning_rate': 0.02519916700606945, 'max_epochs': 1000, 'nb_filters': 5, 'nb_layers': 4}\n",
            "z | Training hyperparameter set {'conditional': False, 'early_stopping_rounds': 100, 'kernel_size': 2, 'l2_reg': 0.001, 'learning_rate': 0.007989353694333318, 'max_epochs': 1000, 'nb_filters': 16, 'nb_layers': 4}\n",
            "z | Training hyperparameter set {'conditional': False, 'early_stopping_rounds': 100, 'kernel_size': 2, 'l2_reg': 0.001, 'learning_rate': 0.014360307850251506, 'max_epochs': 1000, 'nb_filters': 20, 'nb_layers': 4}\n",
            "z | Training hyperparameter set {'conditional': False, 'early_stopping_rounds': 100, 'kernel_size': 2, 'l2_reg': 0.001, 'learning_rate': 0.0036464799541929935, 'max_epochs': 1000, 'nb_filters': 11, 'nb_layers': 4}\n",
            "z | Training hyperparameter set {'conditional': False, 'early_stopping_rounds': 100, 'kernel_size': 2, 'l2_reg': 0.001, 'learning_rate': 0.028676008939512696, 'max_epochs': 1000, 'nb_filters': 6, 'nb_layers': 4}\n",
            "z | Training hyperparameter set {'conditional': False, 'early_stopping_rounds': 100, 'kernel_size': 2, 'l2_reg': 0.001, 'learning_rate': 0.00563039443150054, 'max_epochs': 1000, 'nb_filters': 18, 'nb_layers': 4}\n",
            "z | Training hyperparameter set {'conditional': False, 'early_stopping_rounds': 100, 'kernel_size': 2, 'l2_reg': 0.001, 'learning_rate': 0.003529306413054582, 'max_epochs': 1000, 'nb_filters': 8, 'nb_layers': 4}\n",
            "z | Training hyperparameter set {'conditional': False, 'early_stopping_rounds': 100, 'kernel_size': 2, 'l2_reg': 0.001, 'learning_rate': 0.005278795912492823, 'max_epochs': 1000, 'nb_filters': 9, 'nb_layers': 4}\n",
            "z | Training hyperparameter set {'conditional': False, 'early_stopping_rounds': 100, 'kernel_size': 2, 'l2_reg': 0.001, 'learning_rate': 0.017877308420697572, 'max_epochs': 1000, 'nb_filters': 13, 'nb_layers': 4}\n",
            "z | Training hyperparameter set {'conditional': False, 'early_stopping_rounds': 100, 'kernel_size': 2, 'l2_reg': 0.001, 'learning_rate': 0.032491746406178176, 'max_epochs': 1000, 'nb_filters': 15, 'nb_layers': 4}\n",
            "z | Training hyperparameter set {'conditional': False, 'early_stopping_rounds': 100, 'kernel_size': 2, 'l2_reg': 0.001, 'learning_rate': 0.01140586866260793, 'max_epochs': 1000, 'nb_filters': 11, 'nb_layers': 4}\n",
            "z | Training hyperparameter set {'conditional': False, 'early_stopping_rounds': 100, 'kernel_size': 2, 'l2_reg': 0.001, 'learning_rate': 0.01171350966527734, 'max_epochs': 1000, 'nb_filters': 11, 'nb_layers': 4}\n",
            "z | Training hyperparameter set {'conditional': False, 'early_stopping_rounds': 100, 'kernel_size': 2, 'l2_reg': 0.001, 'learning_rate': 0.02077114714001473, 'max_epochs': 1000, 'nb_filters': 11, 'nb_layers': 4}\n",
            "z | Training hyperparameter set {'conditional': False, 'early_stopping_rounds': 100, 'kernel_size': 2, 'l2_reg': 0.001, 'learning_rate': 0.02081194724586962, 'max_epochs': 1000, 'nb_filters': 17, 'nb_layers': 4}\n",
            "z | Training hyperparameter set {'conditional': False, 'early_stopping_rounds': 100, 'kernel_size': 2, 'l2_reg': 0.001, 'learning_rate': 0.013850267848583984, 'max_epochs': 1000, 'nb_filters': 7, 'nb_layers': 4}\n",
            "z | Training hyperparameter set {'conditional': False, 'early_stopping_rounds': 100, 'kernel_size': 2, 'l2_reg': 0.001, 'learning_rate': 0.0089534800807716, 'max_epochs': 1000, 'nb_filters': 11, 'nb_layers': 4}\n",
            "z | Training hyperparameter set {'conditional': False, 'early_stopping_rounds': 100, 'kernel_size': 2, 'l2_reg': 0.001, 'learning_rate': 0.036416843026656785, 'max_epochs': 1000, 'nb_filters': 23, 'nb_layers': 4}\n",
            "z | Training hyperparameter set {'conditional': False, 'early_stopping_rounds': 100, 'kernel_size': 2, 'l2_reg': 0.001, 'learning_rate': 0.02361683491753842, 'max_epochs': 1000, 'nb_filters': 11, 'nb_layers': 4}\n",
            "z | Training hyperparameter set {'conditional': False, 'early_stopping_rounds': 100, 'kernel_size': 2, 'l2_reg': 0.001, 'learning_rate': 0.034760933675696895, 'max_epochs': 1000, 'nb_filters': 10, 'nb_layers': 4}\n",
            "z | Training hyperparameter set {'conditional': False, 'early_stopping_rounds': 100, 'kernel_size': 2, 'l2_reg': 0.001, 'learning_rate': 0.016433261381714203, 'max_epochs': 1000, 'nb_filters': 11, 'nb_layers': 4}\n",
            "z | Training hyperparameter set {'conditional': False, 'early_stopping_rounds': 100, 'kernel_size': 2, 'l2_reg': 0.001, 'learning_rate': 0.01591653075907739, 'max_epochs': 1000, 'nb_filters': 21, 'nb_layers': 4}\n",
            "z | Training hyperparameter set {'conditional': False, 'early_stopping_rounds': 100, 'kernel_size': 2, 'l2_reg': 0.001, 'learning_rate': 0.02117499809502682, 'max_epochs': 1000, 'nb_filters': 19, 'nb_layers': 4}\n",
            "z | Training hyperparameter set {'conditional': False, 'early_stopping_rounds': 100, 'kernel_size': 2, 'l2_reg': 0.001, 'learning_rate': 0.02812320117241857, 'max_epochs': 1000, 'nb_filters': 24, 'nb_layers': 4}\n",
            "z | Training hyperparameter set {'conditional': False, 'early_stopping_rounds': 100, 'kernel_size': 2, 'l2_reg': 0.001, 'learning_rate': 0.0010105813443764726, 'max_epochs': 1000, 'nb_filters': 8, 'nb_layers': 4}\n",
            "z | Training hyperparameter set {'conditional': False, 'early_stopping_rounds': 100, 'kernel_size': 2, 'l2_reg': 0.001, 'learning_rate': 0.03967417414974398, 'max_epochs': 1000, 'nb_filters': 15, 'nb_layers': 4}\n",
            "z | Training hyperparameter set {'conditional': False, 'early_stopping_rounds': 100, 'kernel_size': 2, 'l2_reg': 0.001, 'learning_rate': 0.00955313672129967, 'max_epochs': 1000, 'nb_filters': 6, 'nb_layers': 4}\n",
            "z | Training hyperparameter set {'conditional': False, 'early_stopping_rounds': 100, 'kernel_size': 2, 'l2_reg': 0.001, 'learning_rate': 0.0025219911286051442, 'max_epochs': 1000, 'nb_filters': 14, 'nb_layers': 4}\n",
            "z | Training hyperparameter set {'conditional': False, 'early_stopping_rounds': 100, 'kernel_size': 2, 'l2_reg': 0.001, 'learning_rate': 0.011963860495039917, 'max_epochs': 1000, 'nb_filters': 13, 'nb_layers': 4}\n",
            "z | Training hyperparameter set {'conditional': False, 'early_stopping_rounds': 100, 'kernel_size': 2, 'l2_reg': 0.001, 'learning_rate': 0.007236988233294324, 'max_epochs': 1000, 'nb_filters': 13, 'nb_layers': 4}\n",
            "z | Training hyperparameter set {'conditional': False, 'early_stopping_rounds': 100, 'kernel_size': 2, 'l2_reg': 0.001, 'learning_rate': 0.013765692218818258, 'max_epochs': 1000, 'nb_filters': 13, 'nb_layers': 4}\n",
            "z | Training hyperparameter set {'conditional': False, 'early_stopping_rounds': 100, 'kernel_size': 2, 'l2_reg': 0.001, 'learning_rate': 0.005075871215829473, 'max_epochs': 1000, 'nb_filters': 12, 'nb_layers': 4}\n",
            "z | Training hyperparameter set {'conditional': False, 'early_stopping_rounds': 100, 'kernel_size': 2, 'l2_reg': 0.001, 'learning_rate': 0.004510304239510487, 'max_epochs': 1000, 'nb_filters': 22, 'nb_layers': 4}\n",
            "z | Training hyperparameter set {'conditional': False, 'early_stopping_rounds': 100, 'kernel_size': 2, 'l2_reg': 0.001, 'learning_rate': 0.006787520055219232, 'max_epochs': 1000, 'nb_filters': 20, 'nb_layers': 4}\n",
            "z | Training hyperparameter set {'conditional': False, 'early_stopping_rounds': 100, 'kernel_size': 2, 'l2_reg': 0.001, 'learning_rate': 0.0028184366903550354, 'max_epochs': 1000, 'nb_filters': 18, 'nb_layers': 4}\n",
            "z | Training hyperparameter set {'conditional': False, 'early_stopping_rounds': 100, 'kernel_size': 2, 'l2_reg': 0.001, 'learning_rate': 0.010047142594973248, 'max_epochs': 1000, 'nb_filters': 13, 'nb_layers': 4}\n",
            "z | Training hyperparameter set {'conditional': False, 'early_stopping_rounds': 100, 'kernel_size': 2, 'l2_reg': 0.001, 'learning_rate': 0.016663034888000767, 'max_epochs': 1000, 'nb_filters': 9, 'nb_layers': 4}\n",
            "z | Training hyperparameter set {'conditional': False, 'early_stopping_rounds': 100, 'kernel_size': 2, 'l2_reg': 0.001, 'learning_rate': 0.0015243506883476404, 'max_epochs': 1000, 'nb_filters': 23, 'nb_layers': 4}\n",
            "z | Training hyperparameter set {'conditional': False, 'early_stopping_rounds': 100, 'kernel_size': 2, 'l2_reg': 0.001, 'learning_rate': 0.012513134310518117, 'max_epochs': 1000, 'nb_filters': 7, 'nb_layers': 4}\n",
            "z | Training hyperparameter set {'conditional': False, 'early_stopping_rounds': 100, 'kernel_size': 2, 'l2_reg': 0.001, 'learning_rate': 0.0040994938972369385, 'max_epochs': 1000, 'nb_filters': 10, 'nb_layers': 4}\n",
            "z | Training hyperparameter set {'conditional': False, 'early_stopping_rounds': 100, 'kernel_size': 2, 'l2_reg': 0.001, 'learning_rate': 0.02917797797486947, 'max_epochs': 1000, 'nb_filters': 21, 'nb_layers': 4}\n",
            "z | Training hyperparameter set {'conditional': False, 'early_stopping_rounds': 100, 'kernel_size': 2, 'l2_reg': 0.001, 'learning_rate': 0.007598846737314327, 'max_epochs': 1000, 'nb_filters': 17, 'nb_layers': 4}\n",
            "z | Training hyperparameter set {'conditional': False, 'early_stopping_rounds': 100, 'kernel_size': 2, 'l2_reg': 0.001, 'learning_rate': 0.02479046280137456, 'max_epochs': 1000, 'nb_filters': 5, 'nb_layers': 4}\n",
            "z | Training hyperparameter set {'conditional': False, 'early_stopping_rounds': 100, 'kernel_size': 2, 'l2_reg': 0.001, 'learning_rate': 0.0030459763195093466, 'max_epochs': 1000, 'nb_filters': 19, 'nb_layers': 4}\n",
            "z | Training hyperparameter set {'conditional': False, 'early_stopping_rounds': 100, 'kernel_size': 2, 'l2_reg': 0.001, 'learning_rate': 0.010624377686512166, 'max_epochs': 1000, 'nb_filters': 24, 'nb_layers': 4}\n",
            "z | Training hyperparameter set {'conditional': False, 'early_stopping_rounds': 100, 'kernel_size': 2, 'l2_reg': 0.001, 'learning_rate': 0.005831212688419896, 'max_epochs': 1000, 'nb_filters': 16, 'nb_layers': 4}\n",
            "z | Training hyperparameter set {'conditional': False, 'early_stopping_rounds': 100, 'kernel_size': 2, 'l2_reg': 0.001, 'learning_rate': 0.00864707876762669, 'max_epochs': 1000, 'nb_filters': 13, 'nb_layers': 4}\n",
            "z | Training hyperparameter set {'conditional': False, 'early_stopping_rounds': 100, 'kernel_size': 2, 'l2_reg': 0.001, 'learning_rate': 0.015589948320779702, 'max_epochs': 1000, 'nb_filters': 14, 'nb_layers': 4}\n",
            "z | Training hyperparameter set {'conditional': False, 'early_stopping_rounds': 100, 'kernel_size': 2, 'l2_reg': 0.001, 'learning_rate': 0.006085095873642803, 'max_epochs': 1000, 'nb_filters': 12, 'nb_layers': 4}\n",
            "z | Training hyperparameter set {'conditional': False, 'early_stopping_rounds': 100, 'kernel_size': 2, 'l2_reg': 0.001, 'learning_rate': 0.011516066402522996, 'max_epochs': 1000, 'nb_filters': 11, 'nb_layers': 4}\n",
            "z | Training hyperparameter set {'conditional': False, 'early_stopping_rounds': 100, 'kernel_size': 2, 'l2_reg': 0.001, 'learning_rate': 0.012798451437007797, 'max_epochs': 1000, 'nb_filters': 11, 'nb_layers': 4}\n",
            "z | Training hyperparameter set {'conditional': False, 'early_stopping_rounds': 100, 'kernel_size': 2, 'l2_reg': 0.001, 'learning_rate': 0.01922527308433554, 'max_epochs': 1000, 'nb_filters': 11, 'nb_layers': 4}\n",
            "z | Training hyperparameter set {'conditional': False, 'early_stopping_rounds': 100, 'kernel_size': 2, 'l2_reg': 0.001, 'learning_rate': 0.017775304222451948, 'max_epochs': 1000, 'nb_filters': 22, 'nb_layers': 4}\n",
            "z | Training hyperparameter set {'conditional': False, 'early_stopping_rounds': 100, 'kernel_size': 2, 'l2_reg': 0.001, 'learning_rate': 0.049215342758846245, 'max_epochs': 1000, 'nb_filters': 20, 'nb_layers': 4}\n",
            "z | Training hyperparameter set {'conditional': False, 'early_stopping_rounds': 100, 'kernel_size': 2, 'l2_reg': 0.001, 'learning_rate': 0.022581102792908148, 'max_epochs': 1000, 'nb_filters': 8, 'nb_layers': 4}\n",
            "z | Training hyperparameter set {'conditional': False, 'early_stopping_rounds': 100, 'kernel_size': 2, 'l2_reg': 0.001, 'learning_rate': 0.01501237679753172, 'max_epochs': 1000, 'nb_filters': 6, 'nb_layers': 4}\n",
            "z | Training hyperparameter set {'conditional': False, 'early_stopping_rounds': 100, 'kernel_size': 2, 'l2_reg': 0.001, 'learning_rate': 0.04252934426436029, 'max_epochs': 1000, 'nb_filters': 18, 'nb_layers': 4}\n",
            "z | Training hyperparameter set {'conditional': False, 'early_stopping_rounds': 100, 'kernel_size': 2, 'l2_reg': 0.001, 'learning_rate': 0.00947710619050497, 'max_epochs': 1000, 'nb_filters': 11, 'nb_layers': 4}\n",
            "z | Training hyperparameter set {'conditional': False, 'early_stopping_rounds': 100, 'kernel_size': 2, 'l2_reg': 0.001, 'learning_rate': 0.0047421161916918, 'max_epochs': 1000, 'nb_filters': 15, 'nb_layers': 4}\n",
            "z | Training hyperparameter set {'conditional': False, 'early_stopping_rounds': 100, 'kernel_size': 2, 'l2_reg': 0.001, 'learning_rate': 0.030504948906472183, 'max_epochs': 1000, 'nb_filters': 17, 'nb_layers': 4}\n",
            "z | Training hyperparameter set {'conditional': False, 'early_stopping_rounds': 100, 'kernel_size': 2, 'l2_reg': 0.001, 'learning_rate': 0.020325439461840258, 'max_epochs': 1000, 'nb_filters': 13, 'nb_layers': 4}\n",
            "z | Training hyperparameter set {'conditional': False, 'early_stopping_rounds': 100, 'kernel_size': 2, 'l2_reg': 0.001, 'learning_rate': 0.02624691269453496, 'max_epochs': 1000, 'nb_filters': 11, 'nb_layers': 4}\n",
            "z | Training hyperparameter set {'conditional': False, 'early_stopping_rounds': 100, 'kernel_size': 2, 'l2_reg': 0.001, 'learning_rate': 0.03727197652909271, 'max_epochs': 1000, 'nb_filters': 9, 'nb_layers': 4}\n",
            "z | Training hyperparameter set {'conditional': False, 'early_stopping_rounds': 100, 'kernel_size': 2, 'l2_reg': 0.001, 'learning_rate': 0.03220020019958414, 'max_epochs': 1000, 'nb_filters': 7, 'nb_layers': 4}\n",
            "z | Training hyperparameter set {'conditional': False, 'early_stopping_rounds': 100, 'kernel_size': 2, 'l2_reg': 0.001, 'learning_rate': 0.008256510360530704, 'max_epochs': 1000, 'nb_filters': 5, 'nb_layers': 4}\n",
            "z | Training hyperparameter set {'conditional': False, 'early_stopping_rounds': 100, 'kernel_size': 2, 'l2_reg': 0.001, 'learning_rate': 0.010753391543284248, 'max_epochs': 1000, 'nb_filters': 23, 'nb_layers': 4}\n",
            "z | Training hyperparameter set {'conditional': False, 'early_stopping_rounds': 100, 'kernel_size': 2, 'l2_reg': 0.001, 'learning_rate': 0.03128786177551069, 'max_epochs': 1000, 'nb_filters': 10, 'nb_layers': 4}\n",
            "z | Training hyperparameter set {'conditional': False, 'early_stopping_rounds': 100, 'kernel_size': 2, 'l2_reg': 0.001, 'learning_rate': 0.026490739957951304, 'max_epochs': 1000, 'nb_filters': 7, 'nb_layers': 4}\n",
            "z | Training hyperparameter set {'conditional': False, 'early_stopping_rounds': 100, 'kernel_size': 2, 'l2_reg': 0.001, 'learning_rate': 0.017856602636072492, 'max_epochs': 1000, 'nb_filters': 21, 'nb_layers': 4}\n",
            "z | Training hyperparameter set {'conditional': False, 'early_stopping_rounds': 100, 'kernel_size': 2, 'l2_reg': 0.001, 'learning_rate': 0.01282420053278665, 'max_epochs': 1000, 'nb_filters': 16, 'nb_layers': 4}\n",
            "z | Training hyperparameter set {'conditional': False, 'early_stopping_rounds': 100, 'kernel_size': 2, 'l2_reg': 0.001, 'learning_rate': 0.006258023183540698, 'max_epochs': 1000, 'nb_filters': 16, 'nb_layers': 4}\n",
            "z | Training hyperparameter set {'conditional': False, 'early_stopping_rounds': 100, 'kernel_size': 2, 'l2_reg': 0.001, 'learning_rate': 0.0071675672167410935, 'max_epochs': 1000, 'nb_filters': 24, 'nb_layers': 4}\n",
            "z | Training hyperparameter set {'conditional': False, 'early_stopping_rounds': 100, 'kernel_size': 2, 'l2_reg': 0.001, 'learning_rate': 0.01622929454142688, 'max_epochs': 1000, 'nb_filters': 11, 'nb_layers': 4}\n",
            "z | Training hyperparameter set {'conditional': False, 'early_stopping_rounds': 100, 'kernel_size': 2, 'l2_reg': 0.001, 'learning_rate': 0.013464530670624197, 'max_epochs': 1000, 'nb_filters': 13, 'nb_layers': 4}\n",
            "z | Training hyperparameter set {'conditional': False, 'early_stopping_rounds': 100, 'kernel_size': 2, 'l2_reg': 0.001, 'learning_rate': 0.023600843467357288, 'max_epochs': 1000, 'nb_filters': 19, 'nb_layers': 4}\n",
            "z | Training hyperparameter set {'conditional': False, 'early_stopping_rounds': 100, 'kernel_size': 2, 'l2_reg': 0.001, 'learning_rate': 0.016809415088178844, 'max_epochs': 1000, 'nb_filters': 14, 'nb_layers': 4}\n",
            "z | Training hyperparameter set {'conditional': False, 'early_stopping_rounds': 100, 'kernel_size': 2, 'l2_reg': 0.001, 'learning_rate': 0.0021268781821208375, 'max_epochs': 1000, 'nb_filters': 11, 'nb_layers': 4}\n",
            "z | Training hyperparameter set {'conditional': False, 'early_stopping_rounds': 100, 'kernel_size': 2, 'l2_reg': 0.001, 'learning_rate': 0.014694545430208403, 'max_epochs': 1000, 'nb_filters': 8, 'nb_layers': 4}\n",
            "z | Training hyperparameter set {'conditional': False, 'early_stopping_rounds': 100, 'kernel_size': 2, 'l2_reg': 0.001, 'learning_rate': 0.009596435187099536, 'max_epochs': 1000, 'nb_filters': 12, 'nb_layers': 4}\n",
            "z | Training hyperparameter set {'conditional': False, 'early_stopping_rounds': 100, 'kernel_size': 2, 'l2_reg': 0.001, 'learning_rate': 0.0040210419440669535, 'max_epochs': 1000, 'nb_filters': 6, 'nb_layers': 4}\n",
            "z | Training hyperparameter set {'conditional': False, 'early_stopping_rounds': 100, 'kernel_size': 2, 'l2_reg': 0.001, 'learning_rate': 0.02216541538786951, 'max_epochs': 1000, 'nb_filters': 22, 'nb_layers': 4}\n",
            "z | Training hyperparameter set {'conditional': False, 'early_stopping_rounds': 100, 'kernel_size': 2, 'l2_reg': 0.001, 'learning_rate': 0.003454980847192658, 'max_epochs': 1000, 'nb_filters': 20, 'nb_layers': 4}\n",
            "z | Training hyperparameter set {'conditional': False, 'early_stopping_rounds': 100, 'kernel_size': 2, 'l2_reg': 0.001, 'learning_rate': 0.007927755703979095, 'max_epochs': 1000, 'nb_filters': 15, 'nb_layers': 4}\n",
            "z | Training hyperparameter set {'conditional': False, 'early_stopping_rounds': 100, 'kernel_size': 2, 'l2_reg': 0.001, 'learning_rate': 0.01198548393515502, 'max_epochs': 1000, 'nb_filters': 18, 'nb_layers': 4}\n",
            "100%|██████████| 100/100 [04:48<00:00,  2.89s/it, best loss: 0.2]\n",
            "z | Training final model\n",
            "{'conditional': False, 'early_stopping_rounds': 100, 'kernel_size': 2, 'l2_reg': 0.001, 'learning_rate': 0.011963860495039917, 'max_epochs': 1000, 'nb_filters': 13, 'nb_layers': 4}\n",
            "14.59\n"
          ]
        }
      ]
    },
    {
      "cell_type": "code",
      "source": [
        "uWaveNet.save('./uWaveNet0612_z')"
      ],
      "metadata": {
        "colab": {
          "base_uri": "https://localhost:8080/"
        },
        "id": "sxU7V_3T7KPw",
        "outputId": "102ff322-d135-4c8a-f399-314c6bdd5473"
      },
      "execution_count": null,
      "outputs": [
        {
          "output_type": "stream",
          "name": "stdout",
          "text": [
            "Saving model for z at ./uWaveNet0612_z\n",
            "Save Complete\n"
          ]
        }
      ]
    },
    {
      "cell_type": "code",
      "source": [
        "uWaveNet.mean_test_metrics"
      ],
      "metadata": {
        "colab": {
          "base_uri": "https://localhost:8080/"
        },
        "id": "Z1eqFnhy7C_3",
        "outputId": "dc7cf107-4e49-468f-cfcf-fb3f7c7c5dba"
      },
      "execution_count": null,
      "outputs": [
        {
          "output_type": "execute_result",
          "data": {
            "text/plain": [
              "rmse                             0.192\n",
              "num_timestamps_predicted_on    200.000\n",
              "dtype: float64"
            ]
          },
          "metadata": {},
          "execution_count": 83
        }
      ]
    },
    {
      "cell_type": "code",
      "source": [
        "target_index = 2\n",
        "iterations = 1000\n",
        "c_predict = 0\n",
        "u_predict = 0\n",
        "c_rmse = 0\n",
        "u_rmse = 0\n",
        "\n",
        "for item in range(0,iterations):\n",
        "\n",
        "  c_pre_result = cWaveNet.predict(train_val, target_index = target_index, hps = cWaveNet.best_hyperparams, horizon = 500)\n",
        "  u_pre_result = uWaveNet.predict(train_val, target_index = target_index, hps = uWaveNet.best_hyperparams, horizon = 500)\n",
        "  c_predict = c_predict + c_pre_result\n",
        "  u_predict = u_predict + u_pre_result\n",
        "  c_metrics_result = cWaveNet.calculate_train_and_forecast_metrics(train = train_val, oos = test_, target_index=target_index, hps = cWaveNet.best_hyperparams, horizon = 500)\n",
        "  u_metrics_result = uWaveNet.calculate_train_and_forecast_metrics(train = train_val, oos = test_, target_index=target_index, hps = uWaveNet.best_hyperparams, horizon = 500)\n",
        "  c_rmse = c_rmse + c_metrics_result[1]\n",
        "  u_rmse = u_rmse + u_metrics_result[1]\n",
        "\n",
        "x1 = np.arange(len(data_z))\n",
        "x2 = np.arange(len(c_pre_result))+1000\n",
        "\n",
        "c_predict = c_predict/iterations\n",
        "u_predict = u_predict/iterations\n",
        "plt.plot(x1,data_z,'g-')\n",
        "plt.plot(x2,c_predict,'b--')\n",
        "plt.plot(x2,u_predict,'r-')\n",
        "\n",
        "\n",
        "\n",
        "c_rmse_result = c_rmse/iterations\n",
        "u_rmse_result = u_rmse/iterations\n",
        "print(c_rmse_result, u_rmse_result)"
      ],
      "metadata": {
        "colab": {
          "base_uri": "https://localhost:8080/",
          "height": 352
        },
        "id": "F28s_aW67ON-",
        "outputId": "5c3dd010-d152-4790-a2fd-27a2b3e078ee"
      },
      "execution_count": null,
      "outputs": [
        {
          "output_type": "stream",
          "name": "stdout",
          "text": [
            "rmse                             0.168\n",
            "num_timestamps_predicted_on    500.000\n",
            "dtype: float64 rmse                             0.166\n",
            "num_timestamps_predicted_on    500.000\n",
            "dtype: float64\n"
          ]
        },
        {
          "output_type": "display_data",
          "data": {
            "text/plain": [
              "<Figure size 432x288 with 1 Axes>"
            ],
            "image/png": "[encoded data removed]"
          },
          "metadata": {
            "needs_background": "light"
          }
        }
      ]
    },
    {
      "cell_type": "code",
      "source": [
        ""
      ],
      "metadata": {
        "id": "MxjKkEXCDHlE"
      },
      "execution_count": null,
      "outputs": []
    }
  ],
  "metadata": {
    "colab": {
      "name": "0612.ipynb",
      "provenance": []
    },
    "kernelspec": {
      "display_name": "Python 3",
      "name": "python3"
    },
    "language_info": {
      "name": "python"
    }
  },
  "nbformat": 4,
  "nbformat_minor": 0
}